{
  "cells": [
    {
      "cell_type": "code",
      "execution_count": null,
      "metadata": {
        "colab": {
          "base_uri": "https://localhost:8080/"
        },
        "collapsed": true,
        "id": "Rx-zeYA_kCCQ",
        "outputId": "45ae448b-2fb4-4ab2-c2d1-7019e906613f"
      },
      "outputs": [
        {
          "output_type": "stream",
          "name": "stdout",
          "text": [
            "Drive already mounted at /content/drive; to attempt to forcibly remount, call drive.mount(\"/content/drive\", force_remount=True).\n"
          ]
        }
      ],
      "source": [
        "from google.colab import drive\n",
        "drive.mount('/content/drive')"
      ]
    },
    {
      "cell_type": "code",
      "execution_count": null,
      "metadata": {
        "colab": {
          "base_uri": "https://localhost:8080/"
        },
        "id": "PZvb9rJ4kH2B",
        "outputId": "e20c9cda-1a5f-4a96-f9b9-24f036200f4c"
      },
      "outputs": [
        {
          "output_type": "stream",
          "name": "stdout",
          "text": [
            "Requirement already satisfied: uproot in /usr/local/lib/python3.10/dist-packages (5.3.10)\n",
            "Requirement already satisfied: awkward>=2.4.6 in /usr/local/lib/python3.10/dist-packages (from uproot) (2.6.6)\n",
            "Requirement already satisfied: cramjam>=2.5.0 in /usr/local/lib/python3.10/dist-packages (from uproot) (2.8.3)\n",
            "Requirement already satisfied: fsspec in /usr/local/lib/python3.10/dist-packages (from uproot) (2023.6.0)\n",
            "Requirement already satisfied: numpy in /usr/local/lib/python3.10/dist-packages (from uproot) (1.25.2)\n",
            "Requirement already satisfied: packaging in /usr/local/lib/python3.10/dist-packages (from uproot) (24.1)\n",
            "Requirement already satisfied: typing-extensions>=4.1.0 in /usr/local/lib/python3.10/dist-packages (from uproot) (4.12.2)\n",
            "Requirement already satisfied: awkward-cpp==35 in /usr/local/lib/python3.10/dist-packages (from awkward>=2.4.6->uproot) (35)\n",
            "Requirement already satisfied: importlib-metadata>=4.13.0 in /usr/local/lib/python3.10/dist-packages (from awkward>=2.4.6->uproot) (8.0.0)\n",
            "Requirement already satisfied: zipp>=0.5 in /usr/local/lib/python3.10/dist-packages (from importlib-metadata>=4.13.0->awkward>=2.4.6->uproot) (3.19.2)\n",
            "Requirement already satisfied: plotly in /usr/local/lib/python3.10/dist-packages (5.15.0)\n",
            "Requirement already satisfied: tenacity>=6.2.0 in /usr/local/lib/python3.10/dist-packages (from plotly) (8.5.0)\n",
            "Requirement already satisfied: packaging in /usr/local/lib/python3.10/dist-packages (from plotly) (24.1)\n",
            "Requirement already satisfied: notebook>=5.3 in /usr/local/lib/python3.10/dist-packages (6.5.5)\n",
            "Requirement already satisfied: ipywidgets>=7.5 in /usr/local/lib/python3.10/dist-packages (7.7.1)\n",
            "Requirement already satisfied: jinja2 in /usr/local/lib/python3.10/dist-packages (from notebook>=5.3) (3.1.4)\n",
            "Requirement already satisfied: tornado>=6.1 in /usr/local/lib/python3.10/dist-packages (from notebook>=5.3) (6.3.3)\n",
            "Requirement already satisfied: pyzmq<25,>=17 in /usr/local/lib/python3.10/dist-packages (from notebook>=5.3) (24.0.1)\n",
            "Requirement already satisfied: argon2-cffi in /usr/local/lib/python3.10/dist-packages (from notebook>=5.3) (23.1.0)\n",
            "Requirement already satisfied: traitlets>=4.2.1 in /usr/local/lib/python3.10/dist-packages (from notebook>=5.3) (5.7.1)\n",
            "Requirement already satisfied: jupyter-core>=4.6.1 in /usr/local/lib/python3.10/dist-packages (from notebook>=5.3) (5.7.2)\n",
            "Requirement already satisfied: jupyter-client<8,>=5.3.4 in /usr/local/lib/python3.10/dist-packages (from notebook>=5.3) (6.1.12)\n",
            "Requirement already satisfied: ipython-genutils in /usr/local/lib/python3.10/dist-packages (from notebook>=5.3) (0.2.0)\n",
            "Requirement already satisfied: nbformat in /usr/local/lib/python3.10/dist-packages (from notebook>=5.3) (5.10.4)\n",
            "Requirement already satisfied: nbconvert>=5 in /usr/local/lib/python3.10/dist-packages (from notebook>=5.3) (6.5.4)\n",
            "Requirement already satisfied: nest-asyncio>=1.5 in /usr/local/lib/python3.10/dist-packages (from notebook>=5.3) (1.6.0)\n",
            "Requirement already satisfied: ipykernel in /usr/local/lib/python3.10/dist-packages (from notebook>=5.3) (5.5.6)\n",
            "Requirement already satisfied: Send2Trash>=1.8.0 in /usr/local/lib/python3.10/dist-packages (from notebook>=5.3) (1.8.3)\n",
            "Requirement already satisfied: terminado>=0.8.3 in /usr/local/lib/python3.10/dist-packages (from notebook>=5.3) (0.18.1)\n",
            "Requirement already satisfied: prometheus-client in /usr/local/lib/python3.10/dist-packages (from notebook>=5.3) (0.20.0)\n",
            "Requirement already satisfied: nbclassic>=0.4.7 in /usr/local/lib/python3.10/dist-packages (from notebook>=5.3) (1.1.0)\n",
            "Requirement already satisfied: widgetsnbextension~=3.6.0 in /usr/local/lib/python3.10/dist-packages (from ipywidgets>=7.5) (3.6.7)\n",
            "Requirement already satisfied: ipython>=4.0.0 in /usr/local/lib/python3.10/dist-packages (from ipywidgets>=7.5) (7.34.0)\n",
            "Requirement already satisfied: jupyterlab-widgets>=1.0.0 in /usr/local/lib/python3.10/dist-packages (from ipywidgets>=7.5) (3.0.11)\n",
            "Requirement already satisfied: setuptools>=18.5 in /usr/local/lib/python3.10/dist-packages (from ipython>=4.0.0->ipywidgets>=7.5) (71.0.4)\n",
            "Requirement already satisfied: jedi>=0.16 in /usr/local/lib/python3.10/dist-packages (from ipython>=4.0.0->ipywidgets>=7.5) (0.19.1)\n",
            "Requirement already satisfied: decorator in /usr/local/lib/python3.10/dist-packages (from ipython>=4.0.0->ipywidgets>=7.5) (4.4.2)\n",
            "Requirement already satisfied: pickleshare in /usr/local/lib/python3.10/dist-packages (from ipython>=4.0.0->ipywidgets>=7.5) (0.7.5)\n",
            "Requirement already satisfied: prompt-toolkit!=3.0.0,!=3.0.1,<3.1.0,>=2.0.0 in /usr/local/lib/python3.10/dist-packages (from ipython>=4.0.0->ipywidgets>=7.5) (3.0.47)\n",
            "Requirement already satisfied: pygments in /usr/local/lib/python3.10/dist-packages (from ipython>=4.0.0->ipywidgets>=7.5) (2.16.1)\n",
            "Requirement already satisfied: backcall in /usr/local/lib/python3.10/dist-packages (from ipython>=4.0.0->ipywidgets>=7.5) (0.2.0)\n",
            "Requirement already satisfied: matplotlib-inline in /usr/local/lib/python3.10/dist-packages (from ipython>=4.0.0->ipywidgets>=7.5) (0.1.7)\n",
            "Requirement already satisfied: pexpect>4.3 in /usr/local/lib/python3.10/dist-packages (from ipython>=4.0.0->ipywidgets>=7.5) (4.9.0)\n",
            "Requirement already satisfied: python-dateutil>=2.1 in /usr/local/lib/python3.10/dist-packages (from jupyter-client<8,>=5.3.4->notebook>=5.3) (2.8.2)\n",
            "Requirement already satisfied: platformdirs>=2.5 in /usr/local/lib/python3.10/dist-packages (from jupyter-core>=4.6.1->notebook>=5.3) (4.2.2)\n",
            "Requirement already satisfied: notebook-shim>=0.2.3 in /usr/local/lib/python3.10/dist-packages (from nbclassic>=0.4.7->notebook>=5.3) (0.2.4)\n",
            "Requirement already satisfied: lxml in /usr/local/lib/python3.10/dist-packages (from nbconvert>=5->notebook>=5.3) (4.9.4)\n",
            "Requirement already satisfied: beautifulsoup4 in /usr/local/lib/python3.10/dist-packages (from nbconvert>=5->notebook>=5.3) (4.12.3)\n",
            "Requirement already satisfied: bleach in /usr/local/lib/python3.10/dist-packages (from nbconvert>=5->notebook>=5.3) (6.1.0)\n",
            "Requirement already satisfied: defusedxml in /usr/local/lib/python3.10/dist-packages (from nbconvert>=5->notebook>=5.3) (0.7.1)\n",
            "Requirement already satisfied: entrypoints>=0.2.2 in /usr/local/lib/python3.10/dist-packages (from nbconvert>=5->notebook>=5.3) (0.4)\n",
            "Requirement already satisfied: jupyterlab-pygments in /usr/local/lib/python3.10/dist-packages (from nbconvert>=5->notebook>=5.3) (0.3.0)\n",
            "Requirement already satisfied: MarkupSafe>=2.0 in /usr/local/lib/python3.10/dist-packages (from nbconvert>=5->notebook>=5.3) (2.1.5)\n",
            "Requirement already satisfied: mistune<2,>=0.8.1 in /usr/local/lib/python3.10/dist-packages (from nbconvert>=5->notebook>=5.3) (0.8.4)\n",
            "Requirement already satisfied: nbclient>=0.5.0 in /usr/local/lib/python3.10/dist-packages (from nbconvert>=5->notebook>=5.3) (0.10.0)\n",
            "Requirement already satisfied: packaging in /usr/local/lib/python3.10/dist-packages (from nbconvert>=5->notebook>=5.3) (24.1)\n",
            "Requirement already satisfied: pandocfilters>=1.4.1 in /usr/local/lib/python3.10/dist-packages (from nbconvert>=5->notebook>=5.3) (1.5.1)\n",
            "Requirement already satisfied: tinycss2 in /usr/local/lib/python3.10/dist-packages (from nbconvert>=5->notebook>=5.3) (1.3.0)\n",
            "Requirement already satisfied: fastjsonschema>=2.15 in /usr/local/lib/python3.10/dist-packages (from nbformat->notebook>=5.3) (2.20.0)\n",
            "Requirement already satisfied: jsonschema>=2.6 in /usr/local/lib/python3.10/dist-packages (from nbformat->notebook>=5.3) (4.19.2)\n",
            "Requirement already satisfied: ptyprocess in /usr/local/lib/python3.10/dist-packages (from terminado>=0.8.3->notebook>=5.3) (0.7.0)\n",
            "Requirement already satisfied: argon2-cffi-bindings in /usr/local/lib/python3.10/dist-packages (from argon2-cffi->notebook>=5.3) (21.2.0)\n",
            "Requirement already satisfied: parso<0.9.0,>=0.8.3 in /usr/local/lib/python3.10/dist-packages (from jedi>=0.16->ipython>=4.0.0->ipywidgets>=7.5) (0.8.4)\n",
            "Requirement already satisfied: attrs>=22.2.0 in /usr/local/lib/python3.10/dist-packages (from jsonschema>=2.6->nbformat->notebook>=5.3) (23.2.0)\n",
            "Requirement already satisfied: jsonschema-specifications>=2023.03.6 in /usr/local/lib/python3.10/dist-packages (from jsonschema>=2.6->nbformat->notebook>=5.3) (2023.12.1)\n",
            "Requirement already satisfied: referencing>=0.28.4 in /usr/local/lib/python3.10/dist-packages (from jsonschema>=2.6->nbformat->notebook>=5.3) (0.35.1)\n",
            "Requirement already satisfied: rpds-py>=0.7.1 in /usr/local/lib/python3.10/dist-packages (from jsonschema>=2.6->nbformat->notebook>=5.3) (0.19.0)\n",
            "Requirement already satisfied: jupyter-server<3,>=1.8 in /usr/local/lib/python3.10/dist-packages (from notebook-shim>=0.2.3->nbclassic>=0.4.7->notebook>=5.3) (1.24.0)\n",
            "Requirement already satisfied: wcwidth in /usr/local/lib/python3.10/dist-packages (from prompt-toolkit!=3.0.0,!=3.0.1,<3.1.0,>=2.0.0->ipython>=4.0.0->ipywidgets>=7.5) (0.2.13)\n",
            "Requirement already satisfied: six>=1.5 in /usr/local/lib/python3.10/dist-packages (from python-dateutil>=2.1->jupyter-client<8,>=5.3.4->notebook>=5.3) (1.16.0)\n",
            "Requirement already satisfied: cffi>=1.0.1 in /usr/local/lib/python3.10/dist-packages (from argon2-cffi-bindings->argon2-cffi->notebook>=5.3) (1.16.0)\n",
            "Requirement already satisfied: soupsieve>1.2 in /usr/local/lib/python3.10/dist-packages (from beautifulsoup4->nbconvert>=5->notebook>=5.3) (2.5)\n",
            "Requirement already satisfied: webencodings in /usr/local/lib/python3.10/dist-packages (from bleach->nbconvert>=5->notebook>=5.3) (0.5.1)\n",
            "Requirement already satisfied: pycparser in /usr/local/lib/python3.10/dist-packages (from cffi>=1.0.1->argon2-cffi-bindings->argon2-cffi->notebook>=5.3) (2.22)\n",
            "Requirement already satisfied: anyio<4,>=3.1.0 in /usr/local/lib/python3.10/dist-packages (from jupyter-server<3,>=1.8->notebook-shim>=0.2.3->nbclassic>=0.4.7->notebook>=5.3) (3.7.1)\n",
            "Requirement already satisfied: websocket-client in /usr/local/lib/python3.10/dist-packages (from jupyter-server<3,>=1.8->notebook-shim>=0.2.3->nbclassic>=0.4.7->notebook>=5.3) (1.8.0)\n",
            "Requirement already satisfied: idna>=2.8 in /usr/local/lib/python3.10/dist-packages (from anyio<4,>=3.1.0->jupyter-server<3,>=1.8->notebook-shim>=0.2.3->nbclassic>=0.4.7->notebook>=5.3) (3.7)\n",
            "Requirement already satisfied: sniffio>=1.1 in /usr/local/lib/python3.10/dist-packages (from anyio<4,>=3.1.0->jupyter-server<3,>=1.8->notebook-shim>=0.2.3->nbclassic>=0.4.7->notebook>=5.3) (1.3.1)\n",
            "Requirement already satisfied: exceptiongroup in /usr/local/lib/python3.10/dist-packages (from anyio<4,>=3.1.0->jupyter-server<3,>=1.8->notebook-shim>=0.2.3->nbclassic>=0.4.7->notebook>=5.3) (1.2.2)\n",
            "Requirement already satisfied: hdf5plugin in /usr/local/lib/python3.10/dist-packages (4.4.0)\n",
            "Requirement already satisfied: h5py in /usr/local/lib/python3.10/dist-packages (from hdf5plugin) (3.9.0)\n",
            "Requirement already satisfied: numpy>=1.17.3 in /usr/local/lib/python3.10/dist-packages (from h5py->hdf5plugin) (1.25.2)\n",
            "Requirement already satisfied: awkward in /usr/local/lib/python3.10/dist-packages (2.6.6)\n",
            "Requirement already satisfied: awkward-cpp==35 in /usr/local/lib/python3.10/dist-packages (from awkward) (35)\n",
            "Requirement already satisfied: fsspec>=2022.11.0 in /usr/local/lib/python3.10/dist-packages (from awkward) (2023.6.0)\n",
            "Requirement already satisfied: importlib-metadata>=4.13.0 in /usr/local/lib/python3.10/dist-packages (from awkward) (8.0.0)\n",
            "Requirement already satisfied: numpy>=1.18.0 in /usr/local/lib/python3.10/dist-packages (from awkward) (1.25.2)\n",
            "Requirement already satisfied: packaging in /usr/local/lib/python3.10/dist-packages (from awkward) (24.1)\n",
            "Requirement already satisfied: typing-extensions>=4.1.0 in /usr/local/lib/python3.10/dist-packages (from awkward) (4.12.2)\n",
            "Requirement already satisfied: zipp>=0.5 in /usr/local/lib/python3.10/dist-packages (from importlib-metadata>=4.13.0->awkward) (3.19.2)\n",
            "Requirement already satisfied: numba in /usr/local/lib/python3.10/dist-packages (0.58.1)\n",
            "Requirement already satisfied: llvmlite<0.42,>=0.41.0dev0 in /usr/local/lib/python3.10/dist-packages (from numba) (0.41.1)\n",
            "Requirement already satisfied: numpy<1.27,>=1.22 in /usr/local/lib/python3.10/dist-packages (from numba) (1.25.2)\n",
            "Requirement already satisfied: vector in /usr/local/lib/python3.10/dist-packages (1.4.1)\n",
            "Requirement already satisfied: numpy>=1.13.3 in /usr/local/lib/python3.10/dist-packages (from vector) (1.25.2)\n",
            "Requirement already satisfied: packaging>=19 in /usr/local/lib/python3.10/dist-packages (from vector) (24.1)\n",
            "Requirement already satisfied: scikit-tda in /usr/local/lib/python3.10/dist-packages (1.1.1)\n",
            "Requirement already satisfied: numpy in /usr/local/lib/python3.10/dist-packages (from scikit-tda) (1.25.2)\n",
            "Requirement already satisfied: scipy in /usr/local/lib/python3.10/dist-packages (from scikit-tda) (1.11.4)\n",
            "Requirement already satisfied: scikit-learn in /usr/local/lib/python3.10/dist-packages (from scikit-tda) (1.2.2)\n",
            "Requirement already satisfied: matplotlib in /usr/local/lib/python3.10/dist-packages (from scikit-tda) (3.7.1)\n",
            "Requirement already satisfied: Cython in /usr/local/lib/python3.10/dist-packages (from scikit-tda) (3.0.10)\n",
            "Requirement already satisfied: ripser in /usr/local/lib/python3.10/dist-packages (from scikit-tda) (0.6.10)\n",
            "Requirement already satisfied: persim in /usr/local/lib/python3.10/dist-packages (from scikit-tda) (0.3.7)\n",
            "Requirement already satisfied: pillow in /usr/local/lib/python3.10/dist-packages (from scikit-tda) (9.4.0)\n",
            "Requirement already satisfied: kmapper in /usr/local/lib/python3.10/dist-packages (from scikit-tda) (2.1.0)\n",
            "Requirement already satisfied: tadasets in /usr/local/lib/python3.10/dist-packages (from scikit-tda) (0.2.1)\n",
            "Requirement already satisfied: Jinja2 in /usr/local/lib/python3.10/dist-packages (from kmapper->scikit-tda) (3.1.4)\n",
            "Requirement already satisfied: contourpy>=1.0.1 in /usr/local/lib/python3.10/dist-packages (from matplotlib->scikit-tda) (1.2.1)\n",
            "Requirement already satisfied: cycler>=0.10 in /usr/local/lib/python3.10/dist-packages (from matplotlib->scikit-tda) (0.12.1)\n",
            "Requirement already satisfied: fonttools>=4.22.0 in /usr/local/lib/python3.10/dist-packages (from matplotlib->scikit-tda) (4.53.1)\n",
            "Requirement already satisfied: kiwisolver>=1.0.1 in /usr/local/lib/python3.10/dist-packages (from matplotlib->scikit-tda) (1.4.5)\n",
            "Requirement already satisfied: packaging>=20.0 in /usr/local/lib/python3.10/dist-packages (from matplotlib->scikit-tda) (24.1)\n",
            "Requirement already satisfied: pyparsing>=2.3.1 in /usr/local/lib/python3.10/dist-packages (from matplotlib->scikit-tda) (3.1.2)\n",
            "Requirement already satisfied: python-dateutil>=2.7 in /usr/local/lib/python3.10/dist-packages (from matplotlib->scikit-tda) (2.8.2)\n",
            "Requirement already satisfied: deprecated in /usr/local/lib/python3.10/dist-packages (from persim->scikit-tda) (1.2.14)\n",
            "Requirement already satisfied: hopcroftkarp in /usr/local/lib/python3.10/dist-packages (from persim->scikit-tda) (1.2.5)\n",
            "Requirement already satisfied: joblib in /usr/local/lib/python3.10/dist-packages (from persim->scikit-tda) (1.4.2)\n",
            "Requirement already satisfied: threadpoolctl>=2.0.0 in /usr/local/lib/python3.10/dist-packages (from scikit-learn->scikit-tda) (3.5.0)\n",
            "Requirement already satisfied: six>=1.5 in /usr/local/lib/python3.10/dist-packages (from python-dateutil>=2.7->matplotlib->scikit-tda) (1.16.0)\n",
            "Requirement already satisfied: wrapt<2,>=1.10 in /usr/local/lib/python3.10/dist-packages (from deprecated->persim->scikit-tda) (1.14.1)\n",
            "Requirement already satisfied: MarkupSafe>=2.0 in /usr/local/lib/python3.10/dist-packages (from Jinja2->kmapper->scikit-tda) (2.1.5)\n"
          ]
        }
      ],
      "source": [
        "! pip install uproot\n",
        "! pip install plotly\n",
        "! pip install \"notebook>=5.3\" \"ipywidgets>=7.5\"\n",
        "! pip install hdf5plugin\n",
        "! pip install awkward\n",
        "! pip install numba\n",
        "! pip install vector\n",
        "! pip install scikit-tda"
      ]
    },
    {
      "cell_type": "code",
      "execution_count": null,
      "metadata": {
        "colab": {
          "base_uri": "https://localhost:8080/"
        },
        "id": "MBaJg2SikkoS",
        "outputId": "57bc0721-1bb6-40f2-9f1b-ed177c7ab799"
      },
      "outputs": [
        {
          "output_type": "stream",
          "name": "stdout",
          "text": [
            "\u001b[0m\u001b[01;34mdrive\u001b[0m/  \u001b[01;34msample_data\u001b[0m/\n"
          ]
        }
      ],
      "source": [
        "%ls"
      ]
    },
    {
      "cell_type": "code",
      "execution_count": null,
      "metadata": {
        "colab": {
          "base_uri": "https://localhost:8080/"
        },
        "id": "-x7GRRqdklD0",
        "outputId": "326f7b39-526b-48b8-a0cc-5ab33bfefba0"
      },
      "outputs": [
        {
          "output_type": "stream",
          "name": "stdout",
          "text": [
            "/content/drive/MyDrive\n"
          ]
        }
      ],
      "source": [
        "%cd drive/MyDrive/"
      ]
    },
    {
      "cell_type": "code",
      "execution_count": null,
      "metadata": {
        "colab": {
          "base_uri": "https://localhost:8080/"
        },
        "id": "M9zZqY5WXjww",
        "outputId": "ce385da7-3af9-498b-8e30-0feff76729d2"
      },
      "outputs": [
        {
          "output_type": "stream",
          "name": "stdout",
          "text": [
            "/content/drive/MyDrive/reference_data\n"
          ]
        }
      ],
      "source": [
        "%cd reference_data/"
      ]
    },
    {
      "cell_type": "code",
      "execution_count": null,
      "metadata": {
        "colab": {
          "base_uri": "https://localhost:8080/"
        },
        "id": "zWQGjQftklUw",
        "outputId": "eb59d056-d886-46d4-abcb-af5bbe62d92a"
      },
      "outputs": [
        {
          "output_type": "stream",
          "name": "stdout",
          "text": [
            "\u001b[0m\u001b[01;34mconverted\u001b[0m/  train.h5  val.h5\n"
          ]
        }
      ],
      "source": [
        "%ls"
      ]
    },
    {
      "cell_type": "code",
      "execution_count": null,
      "metadata": {
        "id": "pUk_zfRWkljD"
      },
      "outputs": [],
      "source": [
        "import h5py as hp\n",
        "import numpy as np\n",
        "import pandas as pd\n",
        "import os\n",
        "import requests\n",
        "import functools\n",
        "import pathlib\n",
        "import shutil\n",
        "import logging\n",
        "\n",
        "import awkward as ak\n",
        "import torch\n",
        "import tqdm.auto as tqdm"
      ]
    },
    {
      "cell_type": "code",
      "execution_count": null,
      "metadata": {
        "id": "2fLu7KBikl5j"
      },
      "outputs": [],
      "source": [
        "filename = 'train.h5'\n",
        "f = hp.File(filename, 'r')"
      ]
    },
    {
      "cell_type": "code",
      "execution_count": null,
      "metadata": {
        "id": "gYULPq2Zlqyd"
      },
      "outputs": [],
      "source": [
        "import numpy as np\n",
        "import plotly.graph_objects as go\n",
        "from plotly.subplots import make_subplots\n",
        "\n",
        "def plot_jets_interactive(coordinates_array):\n",
        "    # Ensure the input is a NumPy array\n",
        "    if not isinstance(coordinates_array, np.ndarray):\n",
        "        raise ValueError(\"Input must be a NumPy array.\")\n",
        "\n",
        "    # Extract the first 5 jets\n",
        "    jets = coordinates_array[:5]\n",
        "\n",
        "    # Initialize an empty list to hold individual figures\n",
        "    figs = []\n",
        "\n",
        "    for i, jet in enumerate(jets):\n",
        "        x, y, z, intensities = jet[..., 1], jet[..., 2], jet[..., 3], jet[..., 0]  # Using index 0 for intensity\n",
        "\n",
        "        # Create a scatter plot for each jet\n",
        "        fig = go.Figure(data=[go.Scatter3d(\n",
        "            x=x,\n",
        "            y=y,\n",
        "            z=z,\n",
        "            mode='markers',\n",
        "            marker=dict(\n",
        "                size=2,\n",
        "                color=intensities,  # set color to intensity\n",
        "                colorscale='Viridis',  # choose a colorscale\n",
        "                opacity=0.8\n",
        "            ),\n",
        "            name=f'Jet {i+1}'\n",
        "        )])\n",
        "\n",
        "        # Update layout for better visibility\n",
        "        fig.update_layout(scene=dict(\n",
        "            xaxis_title='X',\n",
        "            yaxis_title='Y',\n",
        "            zaxis_title='Z'\n",
        "        ))\n",
        "\n",
        "        # Add the figure to the list\n",
        "        figs.append(fig)\n",
        "\n",
        "    # Combine all figures into one with a dropdown menu\n",
        "    combined_fig = go.Figure()\n",
        "    for fig in figs:\n",
        "        combined_fig.add_trace(fig.data[0])  # Add the first (and only) trace from each figure\n",
        "\n",
        "    # Create a dropdown menu for selecting the jet\n",
        "    dropdown = dict(\n",
        "        active=0,\n",
        "        values=[f\"Jet {i+1}\" for i in range(len(figs))],\n",
        "        labels=[f\"Jet {i+1}\" for i in range(len(figs))]\n",
        "    )\n",
        "    combined_fig.update_layout(\n",
        "        updatemenus=[\n",
        "            dict(\n",
        "                type=\"dropdown\",\n",
        "                showactive=False,\n",
        "                buttons=list([\n",
        "                dict(label=jet_name, method=\"update\", args=[{\"visible\": [True if j == i else False for j in range(len(figs))]}])\n",
        "                    for i, jet_name in enumerate(dropdown[\"values\"])\n",
        "                ]),\n",
        "                pad={\"r\": 10, \"t\": 10},\n",
        "#                showactive=True,\n",
        "                x=0.1,\n",
        "                xanchor=\"left\",\n",
        "                y=1.1,\n",
        "                yanchor=\"top\"\n",
        "            )\n",
        "        ],\n",
        "        autosize=False,\n",
        "        width=500,\n",
        "        height=400,\n",
        "        margin=dict(l=50, r=50, b=100, t=100),\n",
        "        paper_bgcolor=\"LightSteelBlue\",\n",
        "        scene=dict(\n",
        "            xaxis_title='X',\n",
        "            yaxis_title='Y',\n",
        "            zaxis_title='Z'\n",
        "        )\n",
        "    )\n",
        "\n",
        "    # Show the combined plot with dropdown\n",
        "    combined_fig.show()\n",
        "\n",
        "\n"
      ]
    },
    {
      "cell_type": "code",
      "execution_count": null,
      "metadata": {
        "id": "kzd50S2hlFyZ"
      },
      "outputs": [],
      "source": [
        "import vector\n",
        "import numba as nb\n",
        "from vector.backends import awkward_constructors as awk\n",
        "from vector._compute import lorentz as lz\n",
        "\"\"\"\n",
        "        Takes a DataFrame and converts it into a Awkward array representation\n",
        "        with features relevant to our model.\n",
        "\n",
        "        :param df: Pandas DataFrame, The DataFrame with all the momenta-energy coordinates for all the particles\n",
        "        :param start: int, First element of the DataFrame\n",
        "        :param stop: int, Last element of the DataFrame\n",
        "        :return v: OrderedDict, A Ordered Dictionary with all properties of interest\n",
        "\n",
        "\n",
        "\n",
        "        Here the function is just computing 4 quantities of interest:\n",
        "        * Eta value relative to the jet\n",
        "        * Phi value relative to the jet\n",
        "        * Transverse Momentum of the Particle (log of it)\n",
        "        * Energy of the Particle (log of it)\n",
        "\"\"\"\n",
        "\n",
        "\n",
        "# TODO: Compute as many properties as required, keep scope for more always. Maybe use some of it to transform between latent spaces and some for Message Passing.\n",
        "# TODO: Initially, simply use the low-level features for everything and see how the model trained on low level features compares to model with domain knowledge.\n",
        "\n",
        "# @nb.jit(nopython=True)\n",
        "# def compute_features(v, label, mom_objects):\n",
        "#     v['label'] = np.stack((label, 1-label), axis=-1)\n",
        "#     v['part_pt_log'] = np.log(jet_p4.pt())\n",
        "#     v['part_e_log'] = np.log(energy)\n",
        "#     v['part_etarel'] = vector._compute.spatial.deltaeta()\n",
        "#     v['part_phirel'] = jet_p4.pseudorapidity(jet_p4)\n",
        "\n",
        "\n",
        "def _transform(df, start=0, stop=-1):\n",
        "    from collections import OrderedDict\n",
        "    v = OrderedDict()\n",
        "\n",
        "    # generate the column list to be extracted\n",
        "    def _col_list(prefix, max_particles=200):\n",
        "        return ['%s_%d'%(prefix,i) for i in range(max_particles)]\n",
        "\n",
        "    df = df.iloc[start:stop]\n",
        "    # We take the values in the dataframe for all particles of a single event in each row\n",
        "    # px, py, pz, e are in separate arrays\n",
        "\n",
        "    _px = df[_col_list(prefix = 'PX')].values\n",
        "    _py = df[_col_list(prefix = 'PY')].values\n",
        "    _pz = df[_col_list(prefix = 'PZ')].values\n",
        "    _e = df[_col_list(prefix = 'E')].values\n",
        "    # # We filter out the non-0 non-negative energy particles\n",
        "    mask = _e > 0\n",
        "    n_particles = np.sum(mask, axis=1) # Number of particles for each event where energy is greater than 0\n",
        "\n",
        "\n",
        "    # # _p[mask] filters out the >0 energy particles, and flattens them, so that they can be recollected for each event from counts array.\n",
        "    px = ak.Array(_px[mask])\n",
        "    py = ak.Array(_py[mask])\n",
        "    pz = ak.Array(_pz[mask])\n",
        "    energy = ak.Array(_e[mask])\n",
        "    # # These are jagged arrays with each row for 1 event, and all particles in the row\n",
        "\n",
        "    # p4_lz = vector.array({\"x\": px, \"y\": py, \"z\": pz, \"t\": energy})\n",
        "        # Calculate jet parameters\n",
        "    jet_px = ak.sum(px, axis=0)\n",
        "    jet_py = ak.sum(py, axis=0)\n",
        "    jet_pz = ak.sum(pz, axis=0)\n",
        "    jet_energy = ak.sum(energy, axis=0)\n",
        "\n",
        "    jet_p4 = vector.obj(x = jet_px, y = jet_py, z = jet_pz, t = jet_energy)\n",
        "\n",
        "    # Transverse momentum (p_T)\n",
        "    jet_pt = np.sqrt(jet_px**2 + jet_py**2)\n",
        "    log_jet_pt = np.log(jet_pt)\n",
        "\n",
        "    # Energy\n",
        "    log_jet_energy = np.log(jet_energy)\n",
        "\n",
        "    # Pseudorapidity difference\n",
        "    jet_eta = 0.5 * np.log((np.sqrt(jet_px**2 + jet_py**2 + jet_pz**2) + jet_pz) / (np.sqrt(jet_px**2 + jet_py**2 + jet_pz**2) - jet_pz))\n",
        "    part_eta = 0.5 * np.log((np.sqrt(px**2 + py**2 + pz**2) + pz) / (np.sqrt(px**2 + py**2 + pz**2) - pz))\n",
        "    eta_rel = part_eta - jet_eta\n",
        "\n",
        "    # Storing the calculated parameters in the OrderedDict\n",
        "    v['jet_pt'] = jet_pt\n",
        "    v['jet_log_pt'] = log_jet_pt\n",
        "    v['jet_eta'] = jet_eta\n",
        "    v['part_ptrel'] = jet_pt/v['jet_pt']\n",
        "    v['log_jet_energy'] = log_jet_energy\n",
        "    v['eta_rel'] = eta_rel\n",
        "\n",
        "    # outputs\n",
        "    _label = df['is_signal_new'].values\n",
        "    v['label'] = np.stack((_label, 1-_label), axis=-1)\n",
        "    v['train_val_test'] = df['ttv'].values\n",
        "    v['n_parts'] = n_particles\n",
        "\n",
        "    del px, py, pz, energy, _px, _py, _pz, _e\n",
        "    del jet_px, jet_py, jet_pz, jet_energy, jet_p4, jet_pt, log_jet_pt, log_jet_energy, part_eta, eta_rel\n",
        "\n",
        "    return v"
      ]
    },
    {
      "cell_type": "code",
      "execution_count": null,
      "metadata": {
        "id": "xGGkS6vzlGjY"
      },
      "outputs": [],
      "source": [
        "def convert(source, destdir, basename, step=None, limit=None):\n",
        "    \"\"\"\n",
        "    Converts the DataFrame into an Awkward array and performs the read-write\n",
        "    operations for the same. Also performs Batching of the file into smaller\n",
        "    Awkward files.\n",
        "\n",
        "    :param source: str, The location to the H5 file with the dataframe\n",
        "    :param destdir: str, The location we need to write to\n",
        "    :param basename: str, Prefix for all the output file names\n",
        "    :param step: int, Number of rows per awkward file, None for all rows in 1 file\n",
        "    :param limit: int, Number of rows to read.\n",
        "    \"\"\"\n",
        "    df = pd.read_hdf(source, key='table')\n",
        "    logging.info('Total events: %s' % str(df.shape[0]))\n",
        "    if limit is not None:\n",
        "        df = df.iloc[0:limit]\n",
        "        logging.info('Restricting to the first %s events:' % str(df.shape[0]))\n",
        "    if step is None:\n",
        "        step = df.shape[0]\n",
        "\n",
        "    # Initialize an empty DataFrame to accumulate transformed data\n",
        "    accumulated_df = pd.DataFrame()\n",
        "\n",
        "    idx = 0\n",
        "    # Generate files as batches based on step size, only 1 batch is default\n",
        "    for start in range(0, df.shape[0], step):\n",
        "        if not os.path.exists(destdir):\n",
        "            os.makedirs(destdir)\n",
        "        output = os.path.join(destdir, '%s_%d.parquet'%(basename, idx))  # Changed to .parquet\n",
        "        logging.info(output)\n",
        "        if os.path.exists(output):\n",
        "            logging.warning('... file already exists: continue ...')\n",
        "            continue\n",
        "        v = _transform(df, start=start, stop=start+step)  # Convert Awkward array to pandas DataFrame\n",
        "        # Convert the ordered dictionary to a DataFrame\n",
        "        print(v)\n",
        "        batch_df = pd.DataFrame(v)\n",
        "\n",
        "        # Append the batch DataFrame to the accumulated DataFrame\n",
        "        accumulated_df = pd.concat([accumulated_df, batch_df], ignore_index=True)\n",
        "\n",
        "        # Write the batch DataFrame to a Parquet file\n",
        "        batch_df.to_parquet(output)\n",
        "        idx += 1\n",
        "\n",
        "    del batch_df, v, df\n",
        "    return accumulated_df"
      ]
    },
    {
      "cell_type": "code",
      "execution_count": null,
      "metadata": {
        "id": "ZtGFq9TplP0v"
      },
      "outputs": [],
      "source": [
        "PROJECT_DIR = os.getcwd()"
      ]
    },
    {
      "cell_type": "code",
      "execution_count": null,
      "metadata": {
        "id": "wS7FWLAWlSky"
      },
      "outputs": [],
      "source": [
        "v = convert(source = os.path.join(PROJECT_DIR, 'train.h5'), destdir = os.path.join(PROJECT_DIR, 'converted'), basename = 'train-file', limit = 5)"
      ]
    },
    {
      "cell_type": "code",
      "source": [
        "import math\n",
        "from typing import Callable, Optional\n",
        "import numpy as np\n",
        "from numpy.typing import ArrayLike, NDArray\n",
        "from rich.table import Table\n",
        "from rich.highlighter import ReprHighlighter\n",
        "from rich import box\n",
        "from tabulate import tabulate\n",
        "\n",
        "\n",
        "def dict2table(input_dict: dict, num_cols: int = 4, title: Optional[str] = None) -> Table:\n",
        "    num_items = len(input_dict)\n",
        "    num_rows = math.ceil(num_items / num_cols)\n",
        "    col = 0\n",
        "    data = {}\n",
        "    keys = []\n",
        "    vals = []\n",
        "\n",
        "    for i, (key, val) in enumerate(input_dict.items()):\n",
        "        keys.append(f'{key}:')\n",
        "\n",
        "        vals.append(val)\n",
        "        if (i + 1) % num_rows == 0:\n",
        "            data[col] = keys\n",
        "            data[col+1] = vals\n",
        "            keys = []\n",
        "            vals = []\n",
        "            col += 2\n",
        "\n",
        "    data[col] = keys\n",
        "    data[col+1] = vals\n",
        "\n",
        "    highlighter = ReprHighlighter()\n",
        "    message = tabulate(data, tablefmt='plain')\n",
        "    table = Table(title=title, show_header=False, box=box.HORIZONTALS)\n",
        "    table.add_row(highlighter(message))\n",
        "    return table"
      ],
      "metadata": {
        "id": "-wLZAmBzDG5o"
      },
      "execution_count": null,
      "outputs": []
    },
    {
      "cell_type": "code",
      "source": [
        "from rich.console import Console as RichConsole\n",
        "from rich.logging import RichHandler\n",
        "from rich.spinner import Spinner\n",
        "from rich.table import Table\n",
        "from rich.status import Status\n",
        "from rich.live import Live\n",
        "from rich._log_render import LogRender\n",
        "from time import time\n",
        "import logging\n",
        "\n",
        "\n",
        "class LogStatus(Status):\n",
        "    def __init__(self,\n",
        "        status,\n",
        "        console: RichConsole,\n",
        "        level: int = logging.INFO,\n",
        "        enabled: bool = True,\n",
        "        speed: float = 1.0,\n",
        "        refresh_per_second: float = 12.5,\n",
        "    ):\n",
        "        super().__init__(status,\n",
        "            console=console,\n",
        "            spinner='simpleDots',\n",
        "            speed=speed,\n",
        "            refresh_per_second=refresh_per_second\n",
        "        )\n",
        "\n",
        "        self.status = status\n",
        "        self.level = level\n",
        "        self.enabled = enabled\n",
        "        spinner = Spinner('simpleDots', style='status.spinner', speed=speed)\n",
        "        record = logging.LogRecord(name=None, level=level, pathname=None, lineno=None, msg=None, args=None, exc_info=None)\n",
        "        handler = RichHandler(console=console)\n",
        "        table = Table.grid()\n",
        "        table.add_row(self.status, spinner)\n",
        "\n",
        "        self._spinner = LogRender(show_level=True, time_format='[%X]')(\n",
        "            console=console,\n",
        "            level=handler.get_level_text(record),\n",
        "            renderables=[table]\n",
        "        )\n",
        "        self._live = Live(\n",
        "            self.renderable,\n",
        "            console=console,\n",
        "            refresh_per_second=refresh_per_second,\n",
        "            transient=True,\n",
        "        )\n",
        "\n",
        "    def __enter__(self):\n",
        "        if self.enabled:\n",
        "            self._start_time = time()\n",
        "            return super().__enter__()\n",
        "\n",
        "    def __exit__(self, exc_type, exc_val, exc_tb):\n",
        "        if self.enabled:\n",
        "            super().__exit__(exc_type, exc_val, exc_tb)\n",
        "            self._end_time = time()\n",
        "            self.console.log(f'{self.status}...done in {self._end_time - self._start_time:.2f} s', level=self.level)"
      ],
      "metadata": {
        "id": "bX6T1jC6DSQ-"
      },
      "execution_count": null,
      "outputs": []
    },
    {
      "cell_type": "code",
      "source": [
        "from torch_geometric.transforms import BaseTransform\n",
        "from torch_geometric.data import Data\n",
        "\n",
        "\n",
        "class RemoveIsolatedNodes(BaseTransform):\n",
        "    def __call__(self, data: Data) -> Data:\n",
        "        mask = data.y.new_zeros(data.num_nodes, dtype=bool)\n",
        "        mask[data.edge_index[0]] = True\n",
        "        mask[data.edge_index[1]] = True\n",
        "        data = data.subgraph(mask)\n",
        "        return data"
      ],
      "metadata": {
        "id": "sL6hurAcDXvW"
      },
      "execution_count": null,
      "outputs": []
    },
    {
      "cell_type": "code",
      "source": [
        "from torch_geometric.utils import remove_self_loops\n",
        "from torch_geometric.transforms import BaseTransform\n",
        "from torch_geometric.data import Data\n",
        "\n",
        "\n",
        "class RemoveSelfLoops(BaseTransform):\n",
        "    def __call__(self, data: Data) -> Data:\n",
        "        if hasattr(data, 'edge_index') and data.edge_index is not None:\n",
        "            data.edge_index, _ = remove_self_loops(data.edge_index)\n",
        "        if hasattr(data, 'adj_t'):\n",
        "            data.adj_t = data.adj_t.remove_diag()\n",
        "        return data"
      ],
      "metadata": {
        "id": "p9MHwfz_DaBj"
      },
      "execution_count": null,
      "outputs": []
    },
    {
      "cell_type": "code",
      "source": [
        "from typing import Iterable\n",
        "from rich.console import Group\n",
        "from rich.padding import Padding\n",
        "from rich.table import Column, Table\n",
        "from rich.progress import Progress, SpinnerColumn, BarColumn, TimeElapsedColumn, Task\n",
        "from rich.highlighter import ReprHighlighter\n",
        "\n",
        "\n",
        "\n",
        "\n",
        "\n",
        "class TrainerProgress(Progress):\n",
        "    def __init__(self,\n",
        "                 num_epochs: int,\n",
        "                 **kwargs\n",
        "                 ):\n",
        "\n",
        "        progress_bar = [\n",
        "            SpinnerColumn(),\n",
        "            \"{task.description}\",\n",
        "            \"[cyan]{task.completed:>3}[/cyan]/[cyan]{task.total}[/cyan]\",\n",
        "            \"{task.fields[unit]}\",\n",
        "            BarColumn(),\n",
        "            \"[cyan]{task.percentage:>3.0f}[/cyan]%\",\n",
        "            TimeElapsedColumn(),\n",
        "            # \"{task.fields[metrics]}\"\n",
        "        ]\n",
        "\n",
        "        console = Console()\n",
        "\n",
        "        super().__init__(*progress_bar, console=console, **kwargs)\n",
        "\n",
        "        self.trainer_tasks = {\n",
        "            'epoch': self.add_task(total=num_epochs, metrics='', unit='epochs', description='overal progress'),\n",
        "            'train': self.add_task(metrics='', unit='steps', description='training', visible=False),\n",
        "            'val':   self.add_task(metrics='', unit='steps', description='validation', visible=False),\n",
        "            'test':  self.add_task(metrics='', unit='steps', description='testing', visible=False),\n",
        "        }\n",
        "\n",
        "        self.max_rows = 0\n",
        "\n",
        "    def update(self, task: Task, **kwargs):\n",
        "        if 'metrics' in kwargs:\n",
        "            kwargs['metrics'] = self.render_metrics(kwargs['metrics'])\n",
        "\n",
        "        super().update(self.trainer_tasks[task], **kwargs)\n",
        "\n",
        "    def reset(self, task: Task, **kwargs):\n",
        "        super().reset(self.trainer_tasks[task], **kwargs)\n",
        "\n",
        "    def render_metrics(self, metrics: Metrics) -> str:\n",
        "        out = []\n",
        "        for split in ['train', 'val', 'test']:\n",
        "            metric_str = ' '.join(f'{k}: {v:.3f}' for k, v in metrics.items() if f'{split}/' in k)\n",
        "            out.append(metric_str)\n",
        "\n",
        "        return '  '.join(out)\n",
        "\n",
        "    def make_tasks_table(self, tasks: Iterable[Task]) -> Table:\n",
        "        \"\"\"Get a table to render the Progress display.\n",
        "\n",
        "        Args:\n",
        "            tasks (Iterable[Task]): An iterable of Task instances, one per row of the table.\n",
        "\n",
        "        Returns:\n",
        "            Table: A table instance.\n",
        "        \"\"\"\n",
        "        table_columns = (\n",
        "            (\n",
        "                Column(no_wrap=True)\n",
        "                if isinstance(_column, str)\n",
        "                else _column.get_table_column().copy()\n",
        "            )\n",
        "            for _column in self.columns\n",
        "        )\n",
        "\n",
        "        highlighter = ReprHighlighter()\n",
        "        table = Table.grid(*table_columns, padding=(0, 1), expand=self.expand)\n",
        "\n",
        "        if tasks:\n",
        "            epoch_task = tasks[0]\n",
        "            metrics = epoch_task.fields['metrics']\n",
        "\n",
        "            for task in tasks:\n",
        "                if task.visible:\n",
        "                    table.add_row(\n",
        "                        *(\n",
        "                            (\n",
        "                                column.format(task=task)\n",
        "                                if isinstance(column, str)\n",
        "                                else column(task)\n",
        "                            )\n",
        "                            for column in self.columns\n",
        "                        )\n",
        "                    )\n",
        "\n",
        "            self.max_rows = max(self.max_rows, table.row_count)\n",
        "            pad_top = 0 if epoch_task.finished else self.max_rows - table.row_count\n",
        "            group = Group(table, Padding(highlighter(metrics), pad=(pad_top,0,0,2)))\n",
        "            return Padding(group, pad=(0,0,1,18))\n",
        "\n",
        "        else:\n",
        "            return table"
      ],
      "metadata": {
        "id": "mVD_2vO2DrSd"
      },
      "execution_count": null,
      "outputs": []
    },
    {
      "cell_type": "code",
      "source": [
        "from typing import Optional\n",
        "from torch import Tensor\n",
        "from torch.nn import Module\n",
        "from torch.optim.optimizer import Optimizer\n",
        "from torch_geometric.data import Data\n",
        "from abc import ABC, abstractmethod\n",
        "from class_resolver.contrib.torch import optimizer_resolver\n",
        "\n",
        "# Defined as a subclass of both Module and ABC, inheriting attributes from both.\n",
        "\n",
        "# Serves as a base class for all the trainable modules in the project (baseline{i.e. without persistence}, Persistent Mod, etc.)\n",
        "class TrainableModule(Module, ABC):\n",
        "    def __init__(self, optimizer: str, learning_rate: float, weight_decay: float):\n",
        "        super().__init__()\n",
        "        self.optimizer_name = optimizer\n",
        "        self.learning_rate = learning_rate\n",
        "        self.weight_decay = weight_decay\n",
        "\n",
        "    @abstractmethod\n",
        "    def forward(self, *args, **kwargs): pass\n",
        "\n",
        "    @abstractmethod\n",
        "    def step(self, data: Data, phase: Phase) -> tuple[Optional[Tensor], Metrics]: pass\n",
        "\n",
        "    @abstractmethod\n",
        "    def predict(self, data: Data) -> Tensor: pass\n",
        "\n",
        "    @abstractmethod\n",
        "    def reset_parameters(self): pass\n",
        "\n",
        "    def configure_optimizers(self):\n",
        "        optimizer = optimizer_resolver.make(\n",
        "            query=self.optimizer_name,\n",
        "            params=self.parameters(),\n",
        "            lr=self.learning_rate,\n",
        "            weight_decay=self.weight_decay\n",
        "        )\n",
        "        return optimizer"
      ],
      "metadata": {
        "id": "bnBc506rDyFV"
      },
      "execution_count": null,
      "outputs": []
    },
    {
      "cell_type": "code",
      "source": [
        "from copy import deepcopy\n",
        "from typing import Iterable, Optional, Annotated, Literal\n",
        "from torch.optim import Optimizer\n",
        "from torch.types import Number\n",
        "from torchmetrics import MeanMetric\n",
        "\n",
        "\n",
        "class Trainer:\n",
        "    def __init__(self,\n",
        "                 monitor:       str = 'val/acc',\n",
        "                 monitor_mode:  Literal['min', 'max'] = 'max',\n",
        "                 epochs:        Annotated[int,  ArgInfo(help='number of epochs for training')] = 100,\n",
        "                 device:        Annotated[str,  ArgInfo(help='device to use for training', choices=['cpu', 'cuda', 'auto'])] = 'auto',\n",
        "                 verbose:       Annotated[bool, ArgInfo(help='display progress')] = True,\n",
        "                 logger:        Logger = None,\n",
        "                 ):\n",
        "\n",
        "        self.epochs = epochs\n",
        "        self.monitor = monitor\n",
        "        self.monitor_mode = monitor_mode\n",
        "        self.verbose = verbose\n",
        "        self.logger = logger or DummyLogger()\n",
        "\n",
        "        # setup device\n",
        "        if device == 'auto':\n",
        "            self.device = torch.device('cuda') if torch.cuda.is_available() else torch.device('cpu')\n",
        "        else:\n",
        "            self.device = torch.device(device)\n",
        "\n",
        "        # trainer internal state\n",
        "        self.model: TrainableModule = None\n",
        "        self.metrics: dict[str, MeanMetric] = {}\n",
        "\n",
        "    def reset(self) -> None:\n",
        "        self.model = None\n",
        "        self.metrics.clear()\n",
        "\n",
        "    def update_metrics(self, metric_name: str, metric_value: object, batch_size: int = 1) -> None:\n",
        "        # if this is a new metric, add it to self.metrics\n",
        "        device = metric_value.device if torch.is_tensor(metric_value) else 'cpu'\n",
        "        if metric_name not in self.metrics:\n",
        "            self.metrics[metric_name] = MeanMetric().to(device)\n",
        "\n",
        "        # update the metric\n",
        "        self.metrics[metric_name].update(metric_value, weight=batch_size)\n",
        "\n",
        "    def aggregate_metrics(self, phase: Phase='train') -> Metrics:\n",
        "        metrics = {}\n",
        "\n",
        "        for metric_name, metric_value in self.metrics.items():\n",
        "            if phase in metric_name.split('/'):\n",
        "                value = metric_value.compute()\n",
        "                metric_value.reset()\n",
        "                metrics[metric_name] = value\n",
        "\n",
        "        return metrics\n",
        "\n",
        "    def is_better(self, current_metric: Number, previous_metric: Number) -> bool:\n",
        "        assert self.monitor_mode in ['min', 'max'], f'Unknown metric mode: {self.monitor_mode}'\n",
        "        if self.monitor_mode == 'max':\n",
        "            return current_metric > previous_metric\n",
        "        elif self.monitor_mode == 'min':\n",
        "            return current_metric < previous_metric\n",
        "\n",
        "    def fit(self,\n",
        "            model: TrainableModule,\n",
        "            train_dataloader: Iterable,\n",
        "            val_dataloader: Optional[Iterable]=None,\n",
        "            test_dataloader: Optional[Iterable]=None,\n",
        "            ) -> Metrics:\n",
        "\n",
        "        self.model = model.to(self.device)\n",
        "        self.optimizer: Optimizer = self.model.configure_optimizers()\n",
        "\n",
        "        self.progress = TrainerProgress(\n",
        "            num_epochs=self.epochs,\n",
        "            disable=not self.verbose,\n",
        "        )\n",
        "\n",
        "        best_state_dict = None\n",
        "        best_metrics = None\n",
        "\n",
        "        with self.progress:\n",
        "            for epoch in range(1, self.epochs + 1):\n",
        "                metrics = {f'epoch': epoch}\n",
        "\n",
        "                # train loop\n",
        "                train_metrics = self.loop(train_dataloader, phase='train')\n",
        "                metrics.update(train_metrics)\n",
        "\n",
        "                # validation loop\n",
        "                if val_dataloader:\n",
        "                    val_metrics = self.loop(val_dataloader, phase='val')\n",
        "                    metrics.update(val_metrics)\n",
        "\n",
        "                    if best_metrics is None or self.is_better(\n",
        "                        metrics[self.monitor], best_metrics[self.monitor]\n",
        "                        ):\n",
        "                        best_metrics = metrics\n",
        "                        best_state_dict = deepcopy(self.model.state_dict())\n",
        "\n",
        "                # test loop\n",
        "                if test_dataloader:\n",
        "                    test_metrics = self.loop(test_dataloader, phase='test')\n",
        "                    metrics.update(test_metrics)\n",
        "\n",
        "                # log and update progress\n",
        "                self.progress.update(task='epoch', metrics=metrics, advance=1)\n",
        "                self.logger.log(metrics)\n",
        "\n",
        "        if best_metrics is None:\n",
        "            best_metrics = metrics\n",
        "        else:\n",
        "            self.model.load_state_dict(best_state_dict)\n",
        "\n",
        "        # log and return best metrics\n",
        "        self.logger.log_summary(best_metrics)\n",
        "\n",
        "        return best_metrics\n",
        "\n",
        "    def test(self, dataloader: Iterable) -> Metrics:\n",
        "        self.metrics.clear()\n",
        "        metrics = self.loop(dataloader, phase='test')\n",
        "        return metrics\n",
        "\n",
        "    def predict(self, dataloader: Iterable, move_to_cpu: bool=False) -> Metrics:\n",
        "        preds = []\n",
        "        self.model.eval()\n",
        "        with torch.no_grad():\n",
        "            for batch in dataloader:\n",
        "                batch = self.to_device(batch)\n",
        "                # out might be a tuple of predictions\n",
        "                out = self.model.predict(batch)\n",
        "                if move_to_cpu:\n",
        "                    out = out.cpu()\n",
        "                preds.append(out)\n",
        "\n",
        "        # concatenate predictions, check if they are tuples\n",
        "        if isinstance(preds[0], tuple):\n",
        "            preds = tuple(torch.cat([p[i] for p in preds]) for i in range(len(preds[0])))\n",
        "        else:\n",
        "            preds = torch.cat(preds)\n",
        "\n",
        "        return preds\n",
        "\n",
        "    def loop(self, dataloader: Iterable, phase: Phase) -> Metrics:\n",
        "        self.model.train(phase == 'train')\n",
        "        grad_state = torch.is_grad_enabled()\n",
        "        torch.set_grad_enabled(phase == 'train')\n",
        "        self.progress.update(phase, visible=len(dataloader) > 1, total=len(dataloader))\n",
        "\n",
        "        for batch in dataloader:\n",
        "            batch = self.to_device(batch)\n",
        "            metrics = self.step(batch, phase)\n",
        "            for item in metrics:\n",
        "                self.update_metrics(item, metrics[item], batch_size=batch.batch_nodes.size(0))\n",
        "            self.progress.update(phase, advance=1)\n",
        "\n",
        "        self.progress.reset(phase, visible=False)\n",
        "        torch.set_grad_enabled(grad_state)\n",
        "        return self.aggregate_metrics(phase)\n",
        "\n",
        "    def step(self, batch, phase: Phase) -> Metrics:\n",
        "        if phase == 'train':\n",
        "            self.optimizer.zero_grad(set_to_none=True)\n",
        "\n",
        "        loss, metrics = self.model.step(batch, phase=phase)\n",
        "\n",
        "        if phase == 'train':\n",
        "            loss.backward()\n",
        "            self.optimizer.step()\n",
        "\n",
        "        return metrics\n",
        "\n",
        "    def to_device(self, batch):\n",
        "        if isinstance(batch, tuple):\n",
        "            return tuple(item.to(self.device) for item in batch)\n",
        "        return batch.to(self.device)"
      ],
      "metadata": {
        "id": "loCxB7-QED6B"
      },
      "execution_count": null,
      "outputs": []
    },
    {
      "cell_type": "code",
      "source": [
        "from torch.nn import Module, MultiheadAttention\n",
        "from torch_geometric.nn import JumpingKnowledge as JK, Linear\n",
        "\n",
        "\n",
        "class SelfAttention(MultiheadAttention):\n",
        "    def forward(self, xs: Tensor) -> Tensor:\n",
        "        \"\"\"forward propagation\n",
        "\n",
        "        Args:\n",
        "            xs (Tensor): input with shape (batch_size, hidden_dim, num_phases)\n",
        "\n",
        "        Returns:\n",
        "            Tensor: output tensor with size (num_nodes, hidden_dim)\n",
        "        \"\"\"\n",
        "        x = xs.transpose(2, int(self.batch_first))\n",
        "        out: Tensor = super().forward(x, x, x, need_weights=True)[0]\n",
        "        return out.mean(dim=int(self.batch_first))\n",
        "\n",
        "    def reset_parameters(self):\n",
        "        super()._reset_parameters()\n",
        "\n",
        "\n",
        "class WeightedSum(Module):\n",
        "    def __init__(self, hidden_dim: int, num_heads: int):\n",
        "        super().__init__()\n",
        "        self.hidden_dim = hidden_dim\n",
        "        self.num_heads = num_heads\n",
        "        self.Q = Linear(in_channels=hidden_dim, out_channels=num_heads, bias=False)\n",
        "\n",
        "        if num_heads > 1:\n",
        "            self.fc = Linear(in_channels=num_heads, out_channels=1, bias=False)\n",
        "\n",
        "    def forward(self, xs: Tensor) -> Tensor:\n",
        "        \"\"\"forward propagation\n",
        "\n",
        "        Args:\n",
        "            xs (Tensor): input with shape (batch_size, hidden_dim, num_phases)\n",
        "\n",
        "        Returns:\n",
        "            Tensor: output tensor with size (num_nodes, hidden_dim)\n",
        "        \"\"\"\n",
        "        H = xs.transpose(1, 2)  # (node, hop, dim)\n",
        "        W = self.Q(H).softmax(dim=1)  # (node, hop, head)\n",
        "        Z = H.transpose(1, 2).matmul(W)\n",
        "\n",
        "        if self.num_heads > 1:\n",
        "            Z = self.fc(Z)\n",
        "\n",
        "        return Z.squeeze(-1)\n",
        "\n",
        "    def reset_parameters(self):\n",
        "        self.Q.reset_parameters()\n",
        "        if self.num_heads > 1:\n",
        "            self.fc.reset_parameters()\n",
        "\n",
        "\n",
        "class JumpingKnowledge(Module):\n",
        "    supported_modes = ['cat', 'max', 'lstm', 'sum', 'mean', 'attn', 'wsum']\n",
        "    def __init__(self, mode: str, **kwargs):\n",
        "        super().__init__()\n",
        "        self.mode = mode\n",
        "        if mode == 'attn':\n",
        "            self.hidden_dim = kwargs['hidden_dim']\n",
        "            self.num_heads = kwargs['num_heads']\n",
        "            self.attn = SelfAttention(self.hidden_dim, num_heads=self.num_heads, batch_first=True)\n",
        "        elif mode == 'wsum':\n",
        "            self.hidden_dim = kwargs['hidden_dim']\n",
        "            self.num_heads = kwargs['num_heads']\n",
        "            self.wsum = WeightedSum(self.hidden_dim, num_heads=self.num_heads)\n",
        "        elif mode == 'lstm':\n",
        "            self.lstm = JK(mode='lstm', **kwargs)\n",
        "\n",
        "    def forward(self, xs: Tensor) -> Tensor:\n",
        "        \"\"\"forward propagation\n",
        "\n",
        "        Args:\n",
        "            xs (Tensor): input with shape (batch_size, hidden_dim, num_phases)\n",
        "\n",
        "        Returns:\n",
        "            Tensor: aggregated output with shape (batch_size, hidden_dim)\n",
        "        \"\"\"\n",
        "        if self.mode == 'cat':\n",
        "            return xs.transpose(1,2).reshape(xs.size(0), -1)\n",
        "        elif self.mode == 'sum':\n",
        "            return xs.sum(dim=-1)\n",
        "        elif self.mode == 'mean':\n",
        "            return xs.mean(dim=-1)\n",
        "        elif self.mode == 'max':\n",
        "            return xs.max(dim=-1)[0]\n",
        "        elif self.mode == 'attn':\n",
        "            return self.attn(xs)\n",
        "        elif self.mode == 'wsum':\n",
        "            return self.wsum(xs)\n",
        "        elif self.mode == 'lstm':\n",
        "            return self.lstm(xs.unbind(dim=-1))\n",
        "        else:\n",
        "            raise NotImplementedError(f'Unsupported JK mode: {self.mode}')\n",
        "\n",
        "    def reset_parameters(self):\n",
        "        for module in self.children():\n",
        "            module.reset_parameters()"
      ],
      "metadata": {
        "id": "Ef1DQrWDEeWh"
      },
      "execution_count": null,
      "outputs": []
    },
    {
      "cell_type": "markdown",
      "metadata": {
        "id": "nXR6S3e-mYnS"
      },
      "source": [
        "## Building the Persistent Homology Module\n",
        "\n",
        "`~`\n",
        "\n",
        "`Algebraic Topology` works to describe the shape of a `continuous manifold`. However, real-world datasets are typically given as point clouds, a discrete set of points sampled from an underlying manifold. In this setting, true homologies are trivial, as there is one connected component per point and no holes whatsoever; instead, `persistent homology` can be used to find holes in point clouds and to assign an importance score called persistence to each. Holes with high persistence are indicative of holes in the underlying manifold.\n",
        "\n",
        "* Persistent homology is a tool that computes topologially-informed features (or topological invariants) for a dataspace at different scales.\n",
        "\n",
        "* In simple terms, persistent homology keeps track of births and deaths of k-dimensional simplices. (vertices, edges, triangles, tetrahedra and so on)\n",
        "\n",
        "* This scale grows from local, and extends upto a global level. (upto infinity in theory)\n",
        "\n",
        "* Persistent features are computed for entities known as `Abstract Simplicial Complexes`\n",
        "\n",
        "* The simplicial complexes can be determined by one, or more parameters - `d`.\n",
        "\n",
        "* Here, varying the parameter(s) `d` in an increasing manner creates supersets of abstract simplicial complexes created before.\n"
      ]
    },
    {
      "cell_type": "code",
      "execution_count": null,
      "metadata": {
        "colab": {
          "base_uri": "https://localhost:8080/"
        },
        "id": "eUi8e2FUnkeO",
        "outputId": "103d9006-7553-4abe-83f3-54ff1765cec5"
      },
      "outputs": [
        {
          "name": "stdout",
          "output_type": "stream",
          "text": [
            "Collecting torch-geometric\n",
            "  Downloading torch_geometric-2.5.3-py3-none-any.whl (1.1 MB)\n",
            "\u001b[2K     \u001b[90m━━━━━━━━━━━━━━━━━━━━━━━━━━━━━━━━━━━━━━━━\u001b[0m \u001b[32m1.1/1.1 MB\u001b[0m \u001b[31m6.5 MB/s\u001b[0m eta \u001b[36m0:00:00\u001b[0m\n",
            "\u001b[?25hRequirement already satisfied: tqdm in /usr/local/lib/python3.10/dist-packages (from torch-geometric) (4.66.4)\n",
            "Requirement already satisfied: numpy in /usr/local/lib/python3.10/dist-packages (from torch-geometric) (1.25.2)\n",
            "Requirement already satisfied: scipy in /usr/local/lib/python3.10/dist-packages (from torch-geometric) (1.11.4)\n",
            "Requirement already satisfied: fsspec in /usr/local/lib/python3.10/dist-packages (from torch-geometric) (2023.6.0)\n",
            "Requirement already satisfied: jinja2 in /usr/local/lib/python3.10/dist-packages (from torch-geometric) (3.1.4)\n",
            "Requirement already satisfied: aiohttp in /usr/local/lib/python3.10/dist-packages (from torch-geometric) (3.9.5)\n",
            "Requirement already satisfied: requests in /usr/local/lib/python3.10/dist-packages (from torch-geometric) (2.31.0)\n",
            "Requirement already satisfied: pyparsing in /usr/local/lib/python3.10/dist-packages (from torch-geometric) (3.1.2)\n",
            "Requirement already satisfied: scikit-learn in /usr/local/lib/python3.10/dist-packages (from torch-geometric) (1.2.2)\n",
            "Requirement already satisfied: psutil>=5.8.0 in /usr/local/lib/python3.10/dist-packages (from torch-geometric) (5.9.5)\n",
            "Requirement already satisfied: aiosignal>=1.1.2 in /usr/local/lib/python3.10/dist-packages (from aiohttp->torch-geometric) (1.3.1)\n",
            "Requirement already satisfied: attrs>=17.3.0 in /usr/local/lib/python3.10/dist-packages (from aiohttp->torch-geometric) (23.2.0)\n",
            "Requirement already satisfied: frozenlist>=1.1.1 in /usr/local/lib/python3.10/dist-packages (from aiohttp->torch-geometric) (1.4.1)\n",
            "Requirement already satisfied: multidict<7.0,>=4.5 in /usr/local/lib/python3.10/dist-packages (from aiohttp->torch-geometric) (6.0.5)\n",
            "Requirement already satisfied: yarl<2.0,>=1.0 in /usr/local/lib/python3.10/dist-packages (from aiohttp->torch-geometric) (1.9.4)\n",
            "Requirement already satisfied: async-timeout<5.0,>=4.0 in /usr/local/lib/python3.10/dist-packages (from aiohttp->torch-geometric) (4.0.3)\n",
            "Requirement already satisfied: MarkupSafe>=2.0 in /usr/local/lib/python3.10/dist-packages (from jinja2->torch-geometric) (2.1.5)\n",
            "Requirement already satisfied: charset-normalizer<4,>=2 in /usr/local/lib/python3.10/dist-packages (from requests->torch-geometric) (3.3.2)\n",
            "Requirement already satisfied: idna<4,>=2.5 in /usr/local/lib/python3.10/dist-packages (from requests->torch-geometric) (3.7)\n",
            "Requirement already satisfied: urllib3<3,>=1.21.1 in /usr/local/lib/python3.10/dist-packages (from requests->torch-geometric) (2.0.7)\n",
            "Requirement already satisfied: certifi>=2017.4.17 in /usr/local/lib/python3.10/dist-packages (from requests->torch-geometric) (2024.7.4)\n",
            "Requirement already satisfied: joblib>=1.1.1 in /usr/local/lib/python3.10/dist-packages (from scikit-learn->torch-geometric) (1.4.2)\n",
            "Requirement already satisfied: threadpoolctl>=2.0.0 in /usr/local/lib/python3.10/dist-packages (from scikit-learn->torch-geometric) (3.5.0)\n",
            "Installing collected packages: torch-geometric\n",
            "Successfully installed torch-geometric-2.5.3\n"
          ]
        }
      ],
      "source": [
        "! pip install torch-geometric"
      ]
    },
    {
      "cell_type": "markdown",
      "metadata": {
        "id": "J8J7wkerUF81"
      },
      "source": [
        "`Ripser` and `Persim` are some of the libraries that are based out of C++ and are used to compute filtrations and persistent homology of given point cloud data.\n",
        "\n",
        "Persistent homology can work pretty well for low-dimensional data, and our purpose of applying this idea here is to just obtain useful filtrations/globally informed features that can be further used to ease the task of GNN learning.\n",
        "\n",
        "If this approach is successful in our task of quark-gluon classification, it might be indicative of how different instances of particle jets might be just the outcome of sampling different low-dimensional manifolds in a higher-dimensional ambient space."
      ]
    },
    {
      "cell_type": "code",
      "execution_count": null,
      "metadata": {
        "colab": {
          "base_uri": "https://localhost:8080/"
        },
        "id": "LDnsX-aUnktB",
        "outputId": "77516d2c-1f4e-4a11-c3e0-0930a3168fb3"
      },
      "outputs": [
        {
          "name": "stdout",
          "output_type": "stream",
          "text": [
            "Collecting ripser\n",
            "  Downloading ripser-0.6.10-cp310-cp310-manylinux_2_17_x86_64.manylinux2014_x86_64.whl (834 kB)\n",
            "\u001b[2K     \u001b[90m━━━━━━━━━━━━━━━━━━━━━━━━━━━━━━━━━━━━━━━━\u001b[0m \u001b[32m834.5/834.5 kB\u001b[0m \u001b[31m5.7 MB/s\u001b[0m eta \u001b[36m0:00:00\u001b[0m\n",
            "\u001b[?25hCollecting persim\n",
            "  Downloading persim-0.3.7-py3-none-any.whl (48 kB)\n",
            "\u001b[2K     \u001b[90m━━━━━━━━━━━━━━━━━━━━━━━━━━━━━━━━━━━━━━━━\u001b[0m \u001b[32m48.6/48.6 kB\u001b[0m \u001b[31m4.6 MB/s\u001b[0m eta \u001b[36m0:00:00\u001b[0m\n",
            "\u001b[?25hRequirement already satisfied: Cython in /usr/local/lib/python3.10/dist-packages (from ripser) (3.0.10)\n",
            "Requirement already satisfied: numpy in /usr/local/lib/python3.10/dist-packages (from ripser) (1.25.2)\n",
            "Requirement already satisfied: scipy in /usr/local/lib/python3.10/dist-packages (from ripser) (1.11.4)\n",
            "Requirement already satisfied: scikit-learn in /usr/local/lib/python3.10/dist-packages (from ripser) (1.2.2)\n",
            "Collecting deprecated (from persim)\n",
            "  Downloading Deprecated-1.2.14-py2.py3-none-any.whl (9.6 kB)\n",
            "Collecting hopcroftkarp (from persim)\n",
            "  Downloading hopcroftkarp-1.2.5.tar.gz (16 kB)\n",
            "  Preparing metadata (setup.py) ... \u001b[?25l\u001b[?25hdone\n",
            "Requirement already satisfied: joblib in /usr/local/lib/python3.10/dist-packages (from persim) (1.4.2)\n",
            "Requirement already satisfied: matplotlib in /usr/local/lib/python3.10/dist-packages (from persim) (3.7.1)\n",
            "Requirement already satisfied: wrapt<2,>=1.10 in /usr/local/lib/python3.10/dist-packages (from deprecated->persim) (1.14.1)\n",
            "Requirement already satisfied: contourpy>=1.0.1 in /usr/local/lib/python3.10/dist-packages (from matplotlib->persim) (1.2.1)\n",
            "Requirement already satisfied: cycler>=0.10 in /usr/local/lib/python3.10/dist-packages (from matplotlib->persim) (0.12.1)\n",
            "Requirement already satisfied: fonttools>=4.22.0 in /usr/local/lib/python3.10/dist-packages (from matplotlib->persim) (4.53.1)\n",
            "Requirement already satisfied: kiwisolver>=1.0.1 in /usr/local/lib/python3.10/dist-packages (from matplotlib->persim) (1.4.5)\n",
            "Requirement already satisfied: packaging>=20.0 in /usr/local/lib/python3.10/dist-packages (from matplotlib->persim) (24.1)\n",
            "Requirement already satisfied: pillow>=6.2.0 in /usr/local/lib/python3.10/dist-packages (from matplotlib->persim) (9.4.0)\n",
            "Requirement already satisfied: pyparsing>=2.3.1 in /usr/local/lib/python3.10/dist-packages (from matplotlib->persim) (3.1.2)\n",
            "Requirement already satisfied: python-dateutil>=2.7 in /usr/local/lib/python3.10/dist-packages (from matplotlib->persim) (2.8.2)\n",
            "Requirement already satisfied: threadpoolctl>=2.0.0 in /usr/local/lib/python3.10/dist-packages (from scikit-learn->ripser) (3.5.0)\n",
            "Requirement already satisfied: six>=1.5 in /usr/local/lib/python3.10/dist-packages (from python-dateutil>=2.7->matplotlib->persim) (1.16.0)\n",
            "Building wheels for collected packages: hopcroftkarp\n",
            "  Building wheel for hopcroftkarp (setup.py) ... \u001b[?25l\u001b[?25hdone\n",
            "  Created wheel for hopcroftkarp: filename=hopcroftkarp-1.2.5-py2.py3-none-any.whl size=18101 sha256=680cb8350170d1459dd7fb80baf6b5062950a9e6a18b50f63bd5c30584e5f7a4\n",
            "  Stored in directory: /root/.cache/pip/wheels/ef/0f/3b/0f931844eecc34addd90e72d54cd39c08b7066c5f25c00b9a4\n",
            "Successfully built hopcroftkarp\n",
            "Installing collected packages: hopcroftkarp, deprecated, persim, ripser\n",
            "Successfully installed deprecated-1.2.14 hopcroftkarp-1.2.5 persim-0.3.7 ripser-0.6.10\n"
          ]
        }
      ],
      "source": [
        "! pip install ripser persim"
      ]
    },
    {
      "cell_type": "markdown",
      "metadata": {
        "id": "uEzvyZ_ZV4c1"
      },
      "source": [
        "## Beyond \"d\" : Using Zig-Zag or Multiparameter Persistence\n",
        "\n",
        "Persistent homology is wel suited for detecting structure in high-dimensional datasets, so it is no surprise that the technique has mostly been applied in cosmology to either constrain non-Gaussianity in the CMB or find cosmic voids or filament loops in the large-scale structure of matter.\n",
        "<br>\n",
        "\n",
        "Never before, has persistent homology been used in particle physics."
      ]
    },
    {
      "cell_type": "code",
      "source": [
        "!pip install chart-studio"
      ],
      "metadata": {
        "colab": {
          "base_uri": "https://localhost:8080/"
        },
        "id": "XZhwPgcJtZv6",
        "outputId": "67ce18a3-1ce5-4d22-c4cf-0c5f6766f994"
      },
      "execution_count": null,
      "outputs": [
        {
          "output_type": "stream",
          "name": "stdout",
          "text": [
            "Collecting chart-studio\n",
            "  Downloading chart_studio-1.1.0-py3-none-any.whl (64 kB)\n",
            "\u001b[?25l     \u001b[90m━━━━━━━━━━━━━━━━━━━━━━━━━━━━━━━━━━━━━━━━\u001b[0m \u001b[32m0.0/64.4 kB\u001b[0m \u001b[31m?\u001b[0m eta \u001b[36m-:--:--\u001b[0m\r\u001b[2K     \u001b[90m━━━━━━━━━━━━━━━━━━━━━━━━━━━━━━━━━━━━━━━━\u001b[0m \u001b[32m64.4/64.4 kB\u001b[0m \u001b[31m2.5 MB/s\u001b[0m eta \u001b[36m0:00:00\u001b[0m\n",
            "\u001b[?25hRequirement already satisfied: plotly in /usr/local/lib/python3.10/dist-packages (from chart-studio) (5.15.0)\n",
            "Requirement already satisfied: requests in /usr/local/lib/python3.10/dist-packages (from chart-studio) (2.31.0)\n",
            "Collecting retrying>=1.3.3 (from chart-studio)\n",
            "  Downloading retrying-1.3.4-py3-none-any.whl (11 kB)\n",
            "Requirement already satisfied: six in /usr/local/lib/python3.10/dist-packages (from chart-studio) (1.16.0)\n",
            "Requirement already satisfied: tenacity>=6.2.0 in /usr/local/lib/python3.10/dist-packages (from plotly->chart-studio) (8.5.0)\n",
            "Requirement already satisfied: packaging in /usr/local/lib/python3.10/dist-packages (from plotly->chart-studio) (24.1)\n",
            "Requirement already satisfied: charset-normalizer<4,>=2 in /usr/local/lib/python3.10/dist-packages (from requests->chart-studio) (3.3.2)\n",
            "Requirement already satisfied: idna<4,>=2.5 in /usr/local/lib/python3.10/dist-packages (from requests->chart-studio) (3.7)\n",
            "Requirement already satisfied: urllib3<3,>=1.21.1 in /usr/local/lib/python3.10/dist-packages (from requests->chart-studio) (2.0.7)\n",
            "Requirement already satisfied: certifi>=2017.4.17 in /usr/local/lib/python3.10/dist-packages (from requests->chart-studio) (2024.7.4)\n",
            "Installing collected packages: retrying, chart-studio\n",
            "Successfully installed chart-studio-1.1.0 retrying-1.3.4\n"
          ]
        }
      ]
    },
    {
      "cell_type": "code",
      "source": [
        "import chart_studio\n",
        "username='DarthRevan07'\n",
        "api_key='oUtdAdgKoP0P8GJpLWiP'\n",
        "chart_studio.tools.set_credentials_file(username=username,\n",
        "                                        api_key=api_key)"
      ],
      "metadata": {
        "id": "i7lAOF6EtjN-"
      },
      "execution_count": null,
      "outputs": []
    },
    {
      "cell_type": "code",
      "source": [
        "import chart_studio.plotly as py\n",
        "import chart_studio.tools as tls\n",
        "import plotly.express as px"
      ],
      "metadata": {
        "id": "jU7dmtvyt3K8"
      },
      "execution_count": null,
      "outputs": []
    },
    {
      "cell_type": "code",
      "execution_count": null,
      "metadata": {
        "id": "kbGtpsFYVzYF"
      },
      "outputs": [],
      "source": [
        "%load_ext autoreload\n",
        "%autoreload 2"
      ]
    },
    {
      "cell_type": "code",
      "execution_count": null,
      "metadata": {
        "colab": {
          "base_uri": "https://localhost:8080/"
        },
        "id": "i81DeD3JVzV9",
        "outputId": "99e09b67-fa73-4a63-b10d-caa52cdad231"
      },
      "outputs": [
        {
          "output_type": "stream",
          "name": "stdout",
          "text": [
            "Collecting hepml\n",
            "  Downloading hepml-0.0.12-py3-none-any.whl (25 kB)\n",
            "Requirement already satisfied: scikit-learn in /usr/local/lib/python3.10/dist-packages (from hepml) (1.2.2)\n",
            "Requirement already satisfied: pandas in /usr/local/lib/python3.10/dist-packages (from hepml) (2.0.3)\n",
            "Requirement already satisfied: numpy in /usr/local/lib/python3.10/dist-packages (from hepml) (1.25.2)\n",
            "Requirement already satisfied: seaborn in /usr/local/lib/python3.10/dist-packages (from hepml) (0.13.1)\n",
            "Collecting black (from hepml)\n",
            "  Downloading black-24.4.2-cp310-cp310-manylinux_2_17_x86_64.manylinux2014_x86_64.whl (1.8 MB)\n",
            "\u001b[2K     \u001b[90m━━━━━━━━━━━━━━━━━━━━━━━━━━━━━━━━━━━━━━━━\u001b[0m \u001b[32m1.8/1.8 MB\u001b[0m \u001b[31m33.1 MB/s\u001b[0m eta \u001b[36m0:00:00\u001b[0m\n",
            "\u001b[?25hRequirement already satisfied: tqdm in /usr/local/lib/python3.10/dist-packages (from hepml) (4.66.4)\n",
            "Collecting wget (from hepml)\n",
            "  Downloading wget-3.2.zip (10 kB)\n",
            "  Preparing metadata (setup.py) ... \u001b[?25l\u001b[?25hdone\n",
            "Collecting nbdev (from hepml)\n",
            "  Downloading nbdev-2.3.25-py3-none-any.whl (67 kB)\n",
            "\u001b[2K     \u001b[90m━━━━━━━━━━━━━━━━━━━━━━━━━━━━━━━━━━━━━━━━\u001b[0m \u001b[32m67.1/67.1 kB\u001b[0m \u001b[31m8.3 MB/s\u001b[0m eta \u001b[36m0:00:00\u001b[0m\n",
            "\u001b[?25hRequirement already satisfied: sklearn-pandas in /usr/local/lib/python3.10/dist-packages (from hepml) (2.2.0)\n",
            "Requirement already satisfied: graphviz in /usr/local/lib/python3.10/dist-packages (from hepml) (0.20.3)\n",
            "Requirement already satisfied: gdown in /usr/local/lib/python3.10/dist-packages (from hepml) (5.1.0)\n",
            "Requirement already satisfied: pyarrow in /usr/local/lib/python3.10/dist-packages (from hepml) (14.0.2)\n",
            "Requirement already satisfied: numba in /usr/local/lib/python3.10/dist-packages (from hepml) (0.58.1)\n",
            "Requirement already satisfied: Cython in /usr/local/lib/python3.10/dist-packages (from hepml) (3.0.10)\n",
            "Requirement already satisfied: fastprogress in /usr/local/lib/python3.10/dist-packages (from hepml) (1.0.3)\n",
            "Collecting giotto-tda (from hepml)\n",
            "  Downloading giotto_tda-0.6.2-cp310-cp310-manylinux_2_17_x86_64.manylinux2014_x86_64.whl (1.4 MB)\n",
            "\u001b[2K     \u001b[90m━━━━━━━━━━━━━━━━━━━━━━━━━━━━━━━━━━━━━━━━\u001b[0m \u001b[32m1.4/1.4 MB\u001b[0m \u001b[31m29.0 MB/s\u001b[0m eta \u001b[36m0:00:00\u001b[0m\n",
            "\u001b[?25hRequirement already satisfied: pillow in /usr/local/lib/python3.10/dist-packages (from hepml) (9.4.0)\n",
            "Requirement already satisfied: click>=8.0.0 in /usr/local/lib/python3.10/dist-packages (from black->hepml) (8.1.7)\n",
            "Collecting mypy-extensions>=0.4.3 (from black->hepml)\n",
            "  Downloading mypy_extensions-1.0.0-py3-none-any.whl (4.7 kB)\n",
            "Requirement already satisfied: packaging>=22.0 in /usr/local/lib/python3.10/dist-packages (from black->hepml) (24.1)\n",
            "Collecting pathspec>=0.9.0 (from black->hepml)\n",
            "  Downloading pathspec-0.12.1-py3-none-any.whl (31 kB)\n",
            "Requirement already satisfied: platformdirs>=2 in /usr/local/lib/python3.10/dist-packages (from black->hepml) (4.2.2)\n",
            "Requirement already satisfied: tomli>=1.1.0 in /usr/local/lib/python3.10/dist-packages (from black->hepml) (2.0.1)\n",
            "Requirement already satisfied: typing-extensions>=4.0.1 in /usr/local/lib/python3.10/dist-packages (from black->hepml) (4.12.2)\n",
            "Requirement already satisfied: beautifulsoup4 in /usr/local/lib/python3.10/dist-packages (from gdown->hepml) (4.12.3)\n",
            "Requirement already satisfied: filelock in /usr/local/lib/python3.10/dist-packages (from gdown->hepml) (3.15.4)\n",
            "Requirement already satisfied: requests[socks] in /usr/local/lib/python3.10/dist-packages (from gdown->hepml) (2.31.0)\n",
            "Requirement already satisfied: scipy>=1.5.0 in /usr/local/lib/python3.10/dist-packages (from giotto-tda->hepml) (1.11.4)\n",
            "Requirement already satisfied: joblib>=0.16.0 in /usr/local/lib/python3.10/dist-packages (from giotto-tda->hepml) (1.4.2)\n",
            "Collecting scikit-learn (from hepml)\n",
            "  Downloading scikit_learn-1.3.2-cp310-cp310-manylinux_2_17_x86_64.manylinux2014_x86_64.whl (10.8 MB)\n",
            "\u001b[2K     \u001b[90m━━━━━━━━━━━━━━━━━━━━━━━━━━━━━━━━━━━━━━━━\u001b[0m \u001b[32m10.8/10.8 MB\u001b[0m \u001b[31m32.9 MB/s\u001b[0m eta \u001b[36m0:00:00\u001b[0m\n",
            "\u001b[?25hCollecting giotto-ph>=0.2.1 (from giotto-tda->hepml)\n",
            "  Downloading giotto_ph-0.2.4-cp310-cp310-manylinux_2_17_x86_64.manylinux2014_x86_64.whl (554 kB)\n",
            "\u001b[2K     \u001b[90m━━━━━━━━━━━━━━━━━━━━━━━━━━━━━━━━━━━━━━━━\u001b[0m \u001b[32m554.6/554.6 kB\u001b[0m \u001b[31m43.4 MB/s\u001b[0m eta \u001b[36m0:00:00\u001b[0m\n",
            "\u001b[?25hCollecting pyflagser>=0.4.3 (from giotto-tda->hepml)\n",
            "  Downloading pyflagser-0.4.7-cp310-cp310-manylinux_2_17_x86_64.manylinux2014_x86_64.whl (455 kB)\n",
            "\u001b[2K     \u001b[90m━━━━━━━━━━━━━━━━━━━━━━━━━━━━━━━━━━━━━━━━\u001b[0m \u001b[32m455.8/455.8 kB\u001b[0m \u001b[31m29.3 MB/s\u001b[0m eta \u001b[36m0:00:00\u001b[0m\n",
            "\u001b[?25hCollecting igraph>=0.9.8 (from giotto-tda->hepml)\n",
            "  Downloading igraph-0.11.6-cp39-abi3-manylinux_2_17_x86_64.manylinux2014_x86_64.whl (3.1 MB)\n",
            "\u001b[2K     \u001b[90m━━━━━━━━━━━━━━━━━━━━━━━━━━━━━━━━━━━━━━━━\u001b[0m \u001b[32m3.1/3.1 MB\u001b[0m \u001b[31m59.4 MB/s\u001b[0m eta \u001b[36m0:00:00\u001b[0m\n",
            "\u001b[?25hRequirement already satisfied: plotly>=4.8.2 in /usr/local/lib/python3.10/dist-packages (from giotto-tda->hepml) (5.15.0)\n",
            "Requirement already satisfied: ipywidgets>=7.5.1 in /usr/local/lib/python3.10/dist-packages (from giotto-tda->hepml) (7.7.1)\n",
            "Requirement already satisfied: threadpoolctl>=2.0.0 in /usr/local/lib/python3.10/dist-packages (from scikit-learn->hepml) (3.5.0)\n",
            "Requirement already satisfied: fastcore>=1.5.27 in /usr/local/lib/python3.10/dist-packages (from nbdev->hepml) (1.5.54)\n",
            "Collecting execnb>=0.1.4 (from nbdev->hepml)\n",
            "  Downloading execnb-0.1.6-py3-none-any.whl (14 kB)\n",
            "Requirement already satisfied: astunparse in /usr/local/lib/python3.10/dist-packages (from nbdev->hepml) (1.6.3)\n",
            "Collecting ghapi>=1.0.3 (from nbdev->hepml)\n",
            "  Downloading ghapi-1.0.5-py3-none-any.whl (60 kB)\n",
            "\u001b[2K     \u001b[90m━━━━━━━━━━━━━━━━━━━━━━━━━━━━━━━━━━━━━━━━\u001b[0m \u001b[32m60.8/60.8 kB\u001b[0m \u001b[31m7.1 MB/s\u001b[0m eta \u001b[36m0:00:00\u001b[0m\n",
            "\u001b[?25hCollecting watchdog (from nbdev->hepml)\n",
            "  Downloading watchdog-4.0.1-py3-none-manylinux2014_x86_64.whl (83 kB)\n",
            "\u001b[2K     \u001b[90m━━━━━━━━━━━━━━━━━━━━━━━━━━━━━━━━━━━━━━━━\u001b[0m \u001b[32m83.0/83.0 kB\u001b[0m \u001b[31m10.0 MB/s\u001b[0m eta \u001b[36m0:00:00\u001b[0m\n",
            "\u001b[?25hCollecting asttokens (from nbdev->hepml)\n",
            "  Downloading asttokens-2.4.1-py2.py3-none-any.whl (27 kB)\n",
            "Requirement already satisfied: PyYAML in /usr/local/lib/python3.10/dist-packages (from nbdev->hepml) (6.0.1)\n",
            "Requirement already satisfied: llvmlite<0.42,>=0.41.0dev0 in /usr/local/lib/python3.10/dist-packages (from numba->hepml) (0.41.1)\n",
            "Requirement already satisfied: python-dateutil>=2.8.2 in /usr/local/lib/python3.10/dist-packages (from pandas->hepml) (2.8.2)\n",
            "Requirement already satisfied: pytz>=2020.1 in /usr/local/lib/python3.10/dist-packages (from pandas->hepml) (2023.4)\n",
            "Requirement already satisfied: tzdata>=2022.1 in /usr/local/lib/python3.10/dist-packages (from pandas->hepml) (2024.1)\n",
            "Requirement already satisfied: matplotlib!=3.6.1,>=3.4 in /usr/local/lib/python3.10/dist-packages (from seaborn->hepml) (3.7.1)\n",
            "Requirement already satisfied: ipython in /usr/local/lib/python3.10/dist-packages (from execnb>=0.1.4->nbdev->hepml) (7.34.0)\n",
            "Requirement already satisfied: pip in /usr/local/lib/python3.10/dist-packages (from ghapi>=1.0.3->nbdev->hepml) (23.1.2)\n",
            "Collecting texttable>=1.6.2 (from igraph>=0.9.8->giotto-tda->hepml)\n",
            "  Downloading texttable-1.7.0-py2.py3-none-any.whl (10 kB)\n",
            "Requirement already satisfied: ipykernel>=4.5.1 in /usr/local/lib/python3.10/dist-packages (from ipywidgets>=7.5.1->giotto-tda->hepml) (5.5.6)\n",
            "Requirement already satisfied: ipython-genutils~=0.2.0 in /usr/local/lib/python3.10/dist-packages (from ipywidgets>=7.5.1->giotto-tda->hepml) (0.2.0)\n",
            "Requirement already satisfied: traitlets>=4.3.1 in /usr/local/lib/python3.10/dist-packages (from ipywidgets>=7.5.1->giotto-tda->hepml) (5.7.1)\n",
            "Requirement already satisfied: widgetsnbextension~=3.6.0 in /usr/local/lib/python3.10/dist-packages (from ipywidgets>=7.5.1->giotto-tda->hepml) (3.6.7)\n",
            "Requirement already satisfied: jupyterlab-widgets>=1.0.0 in /usr/local/lib/python3.10/dist-packages (from ipywidgets>=7.5.1->giotto-tda->hepml) (3.0.11)\n",
            "Requirement already satisfied: contourpy>=1.0.1 in /usr/local/lib/python3.10/dist-packages (from matplotlib!=3.6.1,>=3.4->seaborn->hepml) (1.2.1)\n",
            "Requirement already satisfied: cycler>=0.10 in /usr/local/lib/python3.10/dist-packages (from matplotlib!=3.6.1,>=3.4->seaborn->hepml) (0.12.1)\n",
            "Requirement already satisfied: fonttools>=4.22.0 in /usr/local/lib/python3.10/dist-packages (from matplotlib!=3.6.1,>=3.4->seaborn->hepml) (4.53.1)\n",
            "Requirement already satisfied: kiwisolver>=1.0.1 in /usr/local/lib/python3.10/dist-packages (from matplotlib!=3.6.1,>=3.4->seaborn->hepml) (1.4.5)\n",
            "Requirement already satisfied: pyparsing>=2.3.1 in /usr/local/lib/python3.10/dist-packages (from matplotlib!=3.6.1,>=3.4->seaborn->hepml) (3.1.2)\n",
            "Requirement already satisfied: tenacity>=6.2.0 in /usr/local/lib/python3.10/dist-packages (from plotly>=4.8.2->giotto-tda->hepml) (8.5.0)\n",
            "Requirement already satisfied: six>=1.5 in /usr/local/lib/python3.10/dist-packages (from python-dateutil>=2.8.2->pandas->hepml) (1.16.0)\n",
            "Requirement already satisfied: wheel<1.0,>=0.23.0 in /usr/local/lib/python3.10/dist-packages (from astunparse->nbdev->hepml) (0.43.0)\n",
            "Requirement already satisfied: soupsieve>1.2 in /usr/local/lib/python3.10/dist-packages (from beautifulsoup4->gdown->hepml) (2.5)\n",
            "Requirement already satisfied: charset-normalizer<4,>=2 in /usr/local/lib/python3.10/dist-packages (from requests[socks]->gdown->hepml) (3.3.2)\n",
            "Requirement already satisfied: idna<4,>=2.5 in /usr/local/lib/python3.10/dist-packages (from requests[socks]->gdown->hepml) (3.7)\n",
            "Requirement already satisfied: urllib3<3,>=1.21.1 in /usr/local/lib/python3.10/dist-packages (from requests[socks]->gdown->hepml) (2.0.7)\n",
            "Requirement already satisfied: certifi>=2017.4.17 in /usr/local/lib/python3.10/dist-packages (from requests[socks]->gdown->hepml) (2024.7.4)\n",
            "Requirement already satisfied: PySocks!=1.5.7,>=1.5.6 in /usr/local/lib/python3.10/dist-packages (from requests[socks]->gdown->hepml) (1.7.1)\n",
            "Requirement already satisfied: jupyter-client in /usr/local/lib/python3.10/dist-packages (from ipykernel>=4.5.1->ipywidgets>=7.5.1->giotto-tda->hepml) (6.1.12)\n",
            "Requirement already satisfied: tornado>=4.2 in /usr/local/lib/python3.10/dist-packages (from ipykernel>=4.5.1->ipywidgets>=7.5.1->giotto-tda->hepml) (6.3.3)\n",
            "Requirement already satisfied: setuptools>=18.5 in /usr/local/lib/python3.10/dist-packages (from ipython->execnb>=0.1.4->nbdev->hepml) (67.7.2)\n",
            "Collecting jedi>=0.16 (from ipython->execnb>=0.1.4->nbdev->hepml)\n",
            "  Downloading jedi-0.19.1-py2.py3-none-any.whl (1.6 MB)\n",
            "\u001b[2K     \u001b[90m━━━━━━━━━━━━━━━━━━━━━━━━━━━━━━━━━━━━━━━━\u001b[0m \u001b[32m1.6/1.6 MB\u001b[0m \u001b[31m76.6 MB/s\u001b[0m eta \u001b[36m0:00:00\u001b[0m\n",
            "\u001b[?25hRequirement already satisfied: decorator in /usr/local/lib/python3.10/dist-packages (from ipython->execnb>=0.1.4->nbdev->hepml) (4.4.2)\n",
            "Requirement already satisfied: pickleshare in /usr/local/lib/python3.10/dist-packages (from ipython->execnb>=0.1.4->nbdev->hepml) (0.7.5)\n",
            "Requirement already satisfied: prompt-toolkit!=3.0.0,!=3.0.1,<3.1.0,>=2.0.0 in /usr/local/lib/python3.10/dist-packages (from ipython->execnb>=0.1.4->nbdev->hepml) (3.0.47)\n",
            "Requirement already satisfied: pygments in /usr/local/lib/python3.10/dist-packages (from ipython->execnb>=0.1.4->nbdev->hepml) (2.16.1)\n",
            "Requirement already satisfied: backcall in /usr/local/lib/python3.10/dist-packages (from ipython->execnb>=0.1.4->nbdev->hepml) (0.2.0)\n",
            "Requirement already satisfied: matplotlib-inline in /usr/local/lib/python3.10/dist-packages (from ipython->execnb>=0.1.4->nbdev->hepml) (0.1.7)\n",
            "Requirement already satisfied: pexpect>4.3 in /usr/local/lib/python3.10/dist-packages (from ipython->execnb>=0.1.4->nbdev->hepml) (4.9.0)\n",
            "Requirement already satisfied: notebook>=4.4.1 in /usr/local/lib/python3.10/dist-packages (from widgetsnbextension~=3.6.0->ipywidgets>=7.5.1->giotto-tda->hepml) (6.5.5)\n",
            "Requirement already satisfied: parso<0.9.0,>=0.8.3 in /usr/local/lib/python3.10/dist-packages (from jedi>=0.16->ipython->execnb>=0.1.4->nbdev->hepml) (0.8.4)\n",
            "Requirement already satisfied: jinja2 in /usr/local/lib/python3.10/dist-packages (from notebook>=4.4.1->widgetsnbextension~=3.6.0->ipywidgets>=7.5.1->giotto-tda->hepml) (3.1.4)\n",
            "Requirement already satisfied: pyzmq<25,>=17 in /usr/local/lib/python3.10/dist-packages (from notebook>=4.4.1->widgetsnbextension~=3.6.0->ipywidgets>=7.5.1->giotto-tda->hepml) (24.0.1)\n",
            "Requirement already satisfied: argon2-cffi in /usr/local/lib/python3.10/dist-packages (from notebook>=4.4.1->widgetsnbextension~=3.6.0->ipywidgets>=7.5.1->giotto-tda->hepml) (23.1.0)\n",
            "Requirement already satisfied: jupyter-core>=4.6.1 in /usr/local/lib/python3.10/dist-packages (from notebook>=4.4.1->widgetsnbextension~=3.6.0->ipywidgets>=7.5.1->giotto-tda->hepml) (5.7.2)\n",
            "Requirement already satisfied: nbformat in /usr/local/lib/python3.10/dist-packages (from notebook>=4.4.1->widgetsnbextension~=3.6.0->ipywidgets>=7.5.1->giotto-tda->hepml) (5.10.4)\n",
            "Requirement already satisfied: nbconvert>=5 in /usr/local/lib/python3.10/dist-packages (from notebook>=4.4.1->widgetsnbextension~=3.6.0->ipywidgets>=7.5.1->giotto-tda->hepml) (6.5.4)\n",
            "Requirement already satisfied: nest-asyncio>=1.5 in /usr/local/lib/python3.10/dist-packages (from notebook>=4.4.1->widgetsnbextension~=3.6.0->ipywidgets>=7.5.1->giotto-tda->hepml) (1.6.0)\n",
            "Requirement already satisfied: Send2Trash>=1.8.0 in /usr/local/lib/python3.10/dist-packages (from notebook>=4.4.1->widgetsnbextension~=3.6.0->ipywidgets>=7.5.1->giotto-tda->hepml) (1.8.3)\n",
            "Requirement already satisfied: terminado>=0.8.3 in /usr/local/lib/python3.10/dist-packages (from notebook>=4.4.1->widgetsnbextension~=3.6.0->ipywidgets>=7.5.1->giotto-tda->hepml) (0.18.1)\n",
            "Requirement already satisfied: prometheus-client in /usr/local/lib/python3.10/dist-packages (from notebook>=4.4.1->widgetsnbextension~=3.6.0->ipywidgets>=7.5.1->giotto-tda->hepml) (0.20.0)\n",
            "Requirement already satisfied: nbclassic>=0.4.7 in /usr/local/lib/python3.10/dist-packages (from notebook>=4.4.1->widgetsnbextension~=3.6.0->ipywidgets>=7.5.1->giotto-tda->hepml) (1.1.0)\n",
            "Requirement already satisfied: ptyprocess>=0.5 in /usr/local/lib/python3.10/dist-packages (from pexpect>4.3->ipython->execnb>=0.1.4->nbdev->hepml) (0.7.0)\n",
            "Requirement already satisfied: wcwidth in /usr/local/lib/python3.10/dist-packages (from prompt-toolkit!=3.0.0,!=3.0.1,<3.1.0,>=2.0.0->ipython->execnb>=0.1.4->nbdev->hepml) (0.2.13)\n",
            "Requirement already satisfied: notebook-shim>=0.2.3 in /usr/local/lib/python3.10/dist-packages (from nbclassic>=0.4.7->notebook>=4.4.1->widgetsnbextension~=3.6.0->ipywidgets>=7.5.1->giotto-tda->hepml) (0.2.4)\n",
            "Requirement already satisfied: lxml in /usr/local/lib/python3.10/dist-packages (from nbconvert>=5->notebook>=4.4.1->widgetsnbextension~=3.6.0->ipywidgets>=7.5.1->giotto-tda->hepml) (4.9.4)\n",
            "Requirement already satisfied: bleach in /usr/local/lib/python3.10/dist-packages (from nbconvert>=5->notebook>=4.4.1->widgetsnbextension~=3.6.0->ipywidgets>=7.5.1->giotto-tda->hepml) (6.1.0)\n",
            "Requirement already satisfied: defusedxml in /usr/local/lib/python3.10/dist-packages (from nbconvert>=5->notebook>=4.4.1->widgetsnbextension~=3.6.0->ipywidgets>=7.5.1->giotto-tda->hepml) (0.7.1)\n",
            "Requirement already satisfied: entrypoints>=0.2.2 in /usr/local/lib/python3.10/dist-packages (from nbconvert>=5->notebook>=4.4.1->widgetsnbextension~=3.6.0->ipywidgets>=7.5.1->giotto-tda->hepml) (0.4)\n",
            "Requirement already satisfied: jupyterlab-pygments in /usr/local/lib/python3.10/dist-packages (from nbconvert>=5->notebook>=4.4.1->widgetsnbextension~=3.6.0->ipywidgets>=7.5.1->giotto-tda->hepml) (0.3.0)\n",
            "Requirement already satisfied: MarkupSafe>=2.0 in /usr/local/lib/python3.10/dist-packages (from nbconvert>=5->notebook>=4.4.1->widgetsnbextension~=3.6.0->ipywidgets>=7.5.1->giotto-tda->hepml) (2.1.5)\n",
            "Requirement already satisfied: mistune<2,>=0.8.1 in /usr/local/lib/python3.10/dist-packages (from nbconvert>=5->notebook>=4.4.1->widgetsnbextension~=3.6.0->ipywidgets>=7.5.1->giotto-tda->hepml) (0.8.4)\n",
            "Requirement already satisfied: nbclient>=0.5.0 in /usr/local/lib/python3.10/dist-packages (from nbconvert>=5->notebook>=4.4.1->widgetsnbextension~=3.6.0->ipywidgets>=7.5.1->giotto-tda->hepml) (0.10.0)\n",
            "Requirement already satisfied: pandocfilters>=1.4.1 in /usr/local/lib/python3.10/dist-packages (from nbconvert>=5->notebook>=4.4.1->widgetsnbextension~=3.6.0->ipywidgets>=7.5.1->giotto-tda->hepml) (1.5.1)\n",
            "Requirement already satisfied: tinycss2 in /usr/local/lib/python3.10/dist-packages (from nbconvert>=5->notebook>=4.4.1->widgetsnbextension~=3.6.0->ipywidgets>=7.5.1->giotto-tda->hepml) (1.3.0)\n",
            "Requirement already satisfied: fastjsonschema>=2.15 in /usr/local/lib/python3.10/dist-packages (from nbformat->notebook>=4.4.1->widgetsnbextension~=3.6.0->ipywidgets>=7.5.1->giotto-tda->hepml) (2.20.0)\n",
            "Requirement already satisfied: jsonschema>=2.6 in /usr/local/lib/python3.10/dist-packages (from nbformat->notebook>=4.4.1->widgetsnbextension~=3.6.0->ipywidgets>=7.5.1->giotto-tda->hepml) (4.19.2)\n",
            "Requirement already satisfied: argon2-cffi-bindings in /usr/local/lib/python3.10/dist-packages (from argon2-cffi->notebook>=4.4.1->widgetsnbextension~=3.6.0->ipywidgets>=7.5.1->giotto-tda->hepml) (21.2.0)\n",
            "Requirement already satisfied: attrs>=22.2.0 in /usr/local/lib/python3.10/dist-packages (from jsonschema>=2.6->nbformat->notebook>=4.4.1->widgetsnbextension~=3.6.0->ipywidgets>=7.5.1->giotto-tda->hepml) (23.2.0)\n",
            "Requirement already satisfied: jsonschema-specifications>=2023.03.6 in /usr/local/lib/python3.10/dist-packages (from jsonschema>=2.6->nbformat->notebook>=4.4.1->widgetsnbextension~=3.6.0->ipywidgets>=7.5.1->giotto-tda->hepml) (2023.12.1)\n",
            "Requirement already satisfied: referencing>=0.28.4 in /usr/local/lib/python3.10/dist-packages (from jsonschema>=2.6->nbformat->notebook>=4.4.1->widgetsnbextension~=3.6.0->ipywidgets>=7.5.1->giotto-tda->hepml) (0.35.1)\n",
            "Requirement already satisfied: rpds-py>=0.7.1 in /usr/local/lib/python3.10/dist-packages (from jsonschema>=2.6->nbformat->notebook>=4.4.1->widgetsnbextension~=3.6.0->ipywidgets>=7.5.1->giotto-tda->hepml) (0.19.0)\n",
            "Requirement already satisfied: jupyter-server<3,>=1.8 in /usr/local/lib/python3.10/dist-packages (from notebook-shim>=0.2.3->nbclassic>=0.4.7->notebook>=4.4.1->widgetsnbextension~=3.6.0->ipywidgets>=7.5.1->giotto-tda->hepml) (1.24.0)\n",
            "Requirement already satisfied: cffi>=1.0.1 in /usr/local/lib/python3.10/dist-packages (from argon2-cffi-bindings->argon2-cffi->notebook>=4.4.1->widgetsnbextension~=3.6.0->ipywidgets>=7.5.1->giotto-tda->hepml) (1.16.0)\n",
            "Requirement already satisfied: webencodings in /usr/local/lib/python3.10/dist-packages (from bleach->nbconvert>=5->notebook>=4.4.1->widgetsnbextension~=3.6.0->ipywidgets>=7.5.1->giotto-tda->hepml) (0.5.1)\n",
            "Requirement already satisfied: pycparser in /usr/local/lib/python3.10/dist-packages (from cffi>=1.0.1->argon2-cffi-bindings->argon2-cffi->notebook>=4.4.1->widgetsnbextension~=3.6.0->ipywidgets>=7.5.1->giotto-tda->hepml) (2.22)\n",
            "Requirement already satisfied: anyio<4,>=3.1.0 in /usr/local/lib/python3.10/dist-packages (from jupyter-server<3,>=1.8->notebook-shim>=0.2.3->nbclassic>=0.4.7->notebook>=4.4.1->widgetsnbextension~=3.6.0->ipywidgets>=7.5.1->giotto-tda->hepml) (3.7.1)\n",
            "Requirement already satisfied: websocket-client in /usr/local/lib/python3.10/dist-packages (from jupyter-server<3,>=1.8->notebook-shim>=0.2.3->nbclassic>=0.4.7->notebook>=4.4.1->widgetsnbextension~=3.6.0->ipywidgets>=7.5.1->giotto-tda->hepml) (1.8.0)\n",
            "Requirement already satisfied: sniffio>=1.1 in /usr/local/lib/python3.10/dist-packages (from anyio<4,>=3.1.0->jupyter-server<3,>=1.8->notebook-shim>=0.2.3->nbclassic>=0.4.7->notebook>=4.4.1->widgetsnbextension~=3.6.0->ipywidgets>=7.5.1->giotto-tda->hepml) (1.3.1)\n",
            "Requirement already satisfied: exceptiongroup in /usr/local/lib/python3.10/dist-packages (from anyio<4,>=3.1.0->jupyter-server<3,>=1.8->notebook-shim>=0.2.3->nbclassic>=0.4.7->notebook>=4.4.1->widgetsnbextension~=3.6.0->ipywidgets>=7.5.1->giotto-tda->hepml) (1.2.2)\n",
            "Building wheels for collected packages: wget\n",
            "  Building wheel for wget (setup.py) ... \u001b[?25l\u001b[?25hdone\n",
            "  Created wheel for wget: filename=wget-3.2-py3-none-any.whl size=9656 sha256=3c471749feaa8cb3875df1f10052f90ad30d21e128ab1a48c08eaaefa8d8cf8a\n",
            "  Stored in directory: /root/.cache/pip/wheels/8b/f1/7f/5c94f0a7a505ca1c81cd1d9208ae2064675d97582078e6c769\n",
            "Successfully built wget\n",
            "Installing collected packages: wget, texttable, watchdog, pathspec, mypy-extensions, jedi, igraph, asttokens, scikit-learn, pyflagser, ghapi, black, giotto-ph, execnb, nbdev, giotto-tda, hepml\n",
            "  Attempting uninstall: scikit-learn\n",
            "    Found existing installation: scikit-learn 1.2.2\n",
            "    Uninstalling scikit-learn-1.2.2:\n",
            "      Successfully uninstalled scikit-learn-1.2.2\n",
            "Successfully installed asttokens-2.4.1 black-24.4.2 execnb-0.1.6 ghapi-1.0.5 giotto-ph-0.2.4 giotto-tda-0.6.2 hepml-0.0.12 igraph-0.11.6 jedi-0.19.1 mypy-extensions-1.0.0 nbdev-2.3.25 pathspec-0.12.1 pyflagser-0.4.7 scikit-learn-1.3.2 texttable-1.7.0 watchdog-4.0.1 wget-3.2\n"
          ]
        }
      ],
      "source": [
        "! pip install --upgrade hepml"
      ]
    },
    {
      "cell_type": "code",
      "execution_count": null,
      "metadata": {
        "id": "0gXpKJQWVzT4"
      },
      "outputs": [],
      "source": [
        "# data wrangling\n",
        "import numpy as np\n",
        "import pandas as pd\n",
        "from pathlib import Path\n",
        "import pickle\n",
        "from typing import List\n",
        "from PIL import Image\n",
        "from hepml.core import download_dataset\n",
        "from scipy import ndimage\n",
        "\n",
        "# tda magic\n",
        "from gtda.homology import VietorisRipsPersistence, CubicalPersistence\n",
        "from gtda.diagrams import PersistenceEntropy\n",
        "from gtda.plotting import plot_heatmap, plot_point_cloud, plot_diagram\n",
        "from gtda.pipeline import Pipeline\n",
        "from hepml.core import make_point_clouds, load_shapes\n",
        "from gtda.graphs import GraphGeodesicDistance\n",
        "\n",
        "# ml tools\n",
        "from sklearn.ensemble import RandomForestClassifier\n",
        "from sklearn.preprocessing import LabelEncoder\n",
        "\n",
        "# dataviz\n",
        "import matplotlib.pyplot as plt"
      ]
    },
    {
      "cell_type": "code",
      "execution_count": null,
      "metadata": {
        "colab": {
          "base_uri": "https://localhost:8080/"
        },
        "id": "sKMHNQA1amAL",
        "outputId": "b985a390-59b3-425b-d42e-ca6422fd988b"
      },
      "outputs": [
        {
          "output_type": "execute_result",
          "data": {
            "text/plain": [
              "((300, 400, 3), (300,))"
            ]
          },
          "metadata": {},
          "execution_count": 8
        }
      ],
      "source": [
        "point_clouds_basic, labels_basic = make_point_clouds(n_samples_per_shape=100, n_points=20, noise=0.5)\n",
        "point_clouds_basic.shape, labels_basic.shape"
      ]
    },
    {
      "cell_type": "code",
      "source": [
        "type(point_clouds_basic[0])"
      ],
      "metadata": {
        "colab": {
          "base_uri": "https://localhost:8080/"
        },
        "id": "WgLmOAt_v9TT",
        "outputId": "77e1e69d-faa7-42ae-ec67-ee81b5cf1001"
      },
      "execution_count": null,
      "outputs": [
        {
          "output_type": "execute_result",
          "data": {
            "text/plain": [
              "numpy.ndarray"
            ]
          },
          "metadata": {},
          "execution_count": 18
        }
      ]
    },
    {
      "cell_type": "code",
      "source": [
        "fig = px.scatter_3d(point_clouds_basic[0])\n",
        "fig.show()"
      ],
      "metadata": {
        "colab": {
          "base_uri": "https://localhost:8080/",
          "height": 542
        },
        "id": "Dr5wGqM1u_Sr",
        "outputId": "3647667b-0211-4601-9a88-5f7f2cc91151"
      },
      "execution_count": null,
      "outputs": [
        {
          "output_type": "display_data",
          "data": {
            "text/html": [
              "<html>\n",
              "<head><meta charset=\"utf-8\" /></head>\n",
              "<body>\n",
              "    <div>            <script src=\"https://cdnjs.cloudflare.com/ajax/libs/mathjax/2.7.5/MathJax.js?config=TeX-AMS-MML_SVG\"></script><script type=\"text/javascript\">if (window.MathJax && window.MathJax.Hub && window.MathJax.Hub.Config) {window.MathJax.Hub.Config({SVG: {font: \"STIX-Web\"}});}</script>                <script type=\"text/javascript\">window.PlotlyConfig = {MathJaxConfig: 'local'};</script>\n",
              "        <script charset=\"utf-8\" src=\"https://cdn.plot.ly/plotly-2.24.1.min.js\"></script>                <div id=\"8db98e09-a20d-407c-a673-cd715d7f92e7\" class=\"plotly-graph-div\" style=\"height:525px; width:100%;\"></div>            <script type=\"text/javascript\">                                    window.PLOTLYENV=window.PLOTLYENV || {};                                    if (document.getElementById(\"8db98e09-a20d-407c-a673-cd715d7f92e7\")) {                    Plotly.newPlot(                        \"8db98e09-a20d-407c-a673-cd715d7f92e7\",                        [{\"hovertemplate\":\"\\u003cextra\\u003e\\u003c\\u002fextra\\u003e\",\"legendgroup\":\"\",\"marker\":{\"color\":\"#636efa\",\"symbol\":\"circle\"},\"mode\":\"markers\",\"name\":\"\",\"scene\":\"scene\",\"showlegend\":false,\"type\":\"scatter3d\"}],                        {\"template\":{\"data\":{\"histogram2dcontour\":[{\"type\":\"histogram2dcontour\",\"colorbar\":{\"outlinewidth\":0,\"ticks\":\"\"},\"colorscale\":[[0.0,\"#0d0887\"],[0.1111111111111111,\"#46039f\"],[0.2222222222222222,\"#7201a8\"],[0.3333333333333333,\"#9c179e\"],[0.4444444444444444,\"#bd3786\"],[0.5555555555555556,\"#d8576b\"],[0.6666666666666666,\"#ed7953\"],[0.7777777777777778,\"#fb9f3a\"],[0.8888888888888888,\"#fdca26\"],[1.0,\"#f0f921\"]]}],\"choropleth\":[{\"type\":\"choropleth\",\"colorbar\":{\"outlinewidth\":0,\"ticks\":\"\"}}],\"histogram2d\":[{\"type\":\"histogram2d\",\"colorbar\":{\"outlinewidth\":0,\"ticks\":\"\"},\"colorscale\":[[0.0,\"#0d0887\"],[0.1111111111111111,\"#46039f\"],[0.2222222222222222,\"#7201a8\"],[0.3333333333333333,\"#9c179e\"],[0.4444444444444444,\"#bd3786\"],[0.5555555555555556,\"#d8576b\"],[0.6666666666666666,\"#ed7953\"],[0.7777777777777778,\"#fb9f3a\"],[0.8888888888888888,\"#fdca26\"],[1.0,\"#f0f921\"]]}],\"heatmap\":[{\"type\":\"heatmap\",\"colorbar\":{\"outlinewidth\":0,\"ticks\":\"\"},\"colorscale\":[[0.0,\"#0d0887\"],[0.1111111111111111,\"#46039f\"],[0.2222222222222222,\"#7201a8\"],[0.3333333333333333,\"#9c179e\"],[0.4444444444444444,\"#bd3786\"],[0.5555555555555556,\"#d8576b\"],[0.6666666666666666,\"#ed7953\"],[0.7777777777777778,\"#fb9f3a\"],[0.8888888888888888,\"#fdca26\"],[1.0,\"#f0f921\"]]}],\"heatmapgl\":[{\"type\":\"heatmapgl\",\"colorbar\":{\"outlinewidth\":0,\"ticks\":\"\"},\"colorscale\":[[0.0,\"#0d0887\"],[0.1111111111111111,\"#46039f\"],[0.2222222222222222,\"#7201a8\"],[0.3333333333333333,\"#9c179e\"],[0.4444444444444444,\"#bd3786\"],[0.5555555555555556,\"#d8576b\"],[0.6666666666666666,\"#ed7953\"],[0.7777777777777778,\"#fb9f3a\"],[0.8888888888888888,\"#fdca26\"],[1.0,\"#f0f921\"]]}],\"contourcarpet\":[{\"type\":\"contourcarpet\",\"colorbar\":{\"outlinewidth\":0,\"ticks\":\"\"}}],\"contour\":[{\"type\":\"contour\",\"colorbar\":{\"outlinewidth\":0,\"ticks\":\"\"},\"colorscale\":[[0.0,\"#0d0887\"],[0.1111111111111111,\"#46039f\"],[0.2222222222222222,\"#7201a8\"],[0.3333333333333333,\"#9c179e\"],[0.4444444444444444,\"#bd3786\"],[0.5555555555555556,\"#d8576b\"],[0.6666666666666666,\"#ed7953\"],[0.7777777777777778,\"#fb9f3a\"],[0.8888888888888888,\"#fdca26\"],[1.0,\"#f0f921\"]]}],\"surface\":[{\"type\":\"surface\",\"colorbar\":{\"outlinewidth\":0,\"ticks\":\"\"},\"colorscale\":[[0.0,\"#0d0887\"],[0.1111111111111111,\"#46039f\"],[0.2222222222222222,\"#7201a8\"],[0.3333333333333333,\"#9c179e\"],[0.4444444444444444,\"#bd3786\"],[0.5555555555555556,\"#d8576b\"],[0.6666666666666666,\"#ed7953\"],[0.7777777777777778,\"#fb9f3a\"],[0.8888888888888888,\"#fdca26\"],[1.0,\"#f0f921\"]]}],\"mesh3d\":[{\"type\":\"mesh3d\",\"colorbar\":{\"outlinewidth\":0,\"ticks\":\"\"}}],\"scatter\":[{\"fillpattern\":{\"fillmode\":\"overlay\",\"size\":10,\"solidity\":0.2},\"type\":\"scatter\"}],\"parcoords\":[{\"type\":\"parcoords\",\"line\":{\"colorbar\":{\"outlinewidth\":0,\"ticks\":\"\"}}}],\"scatterpolargl\":[{\"type\":\"scatterpolargl\",\"marker\":{\"colorbar\":{\"outlinewidth\":0,\"ticks\":\"\"}}}],\"bar\":[{\"error_x\":{\"color\":\"#2a3f5f\"},\"error_y\":{\"color\":\"#2a3f5f\"},\"marker\":{\"line\":{\"color\":\"#E5ECF6\",\"width\":0.5},\"pattern\":{\"fillmode\":\"overlay\",\"size\":10,\"solidity\":0.2}},\"type\":\"bar\"}],\"scattergeo\":[{\"type\":\"scattergeo\",\"marker\":{\"colorbar\":{\"outlinewidth\":0,\"ticks\":\"\"}}}],\"scatterpolar\":[{\"type\":\"scatterpolar\",\"marker\":{\"colorbar\":{\"outlinewidth\":0,\"ticks\":\"\"}}}],\"histogram\":[{\"marker\":{\"pattern\":{\"fillmode\":\"overlay\",\"size\":10,\"solidity\":0.2}},\"type\":\"histogram\"}],\"scattergl\":[{\"type\":\"scattergl\",\"marker\":{\"colorbar\":{\"outlinewidth\":0,\"ticks\":\"\"}}}],\"scatter3d\":[{\"type\":\"scatter3d\",\"line\":{\"colorbar\":{\"outlinewidth\":0,\"ticks\":\"\"}},\"marker\":{\"colorbar\":{\"outlinewidth\":0,\"ticks\":\"\"}}}],\"scattermapbox\":[{\"type\":\"scattermapbox\",\"marker\":{\"colorbar\":{\"outlinewidth\":0,\"ticks\":\"\"}}}],\"scatterternary\":[{\"type\":\"scatterternary\",\"marker\":{\"colorbar\":{\"outlinewidth\":0,\"ticks\":\"\"}}}],\"scattercarpet\":[{\"type\":\"scattercarpet\",\"marker\":{\"colorbar\":{\"outlinewidth\":0,\"ticks\":\"\"}}}],\"carpet\":[{\"aaxis\":{\"endlinecolor\":\"#2a3f5f\",\"gridcolor\":\"white\",\"linecolor\":\"white\",\"minorgridcolor\":\"white\",\"startlinecolor\":\"#2a3f5f\"},\"baxis\":{\"endlinecolor\":\"#2a3f5f\",\"gridcolor\":\"white\",\"linecolor\":\"white\",\"minorgridcolor\":\"white\",\"startlinecolor\":\"#2a3f5f\"},\"type\":\"carpet\"}],\"table\":[{\"cells\":{\"fill\":{\"color\":\"#EBF0F8\"},\"line\":{\"color\":\"white\"}},\"header\":{\"fill\":{\"color\":\"#C8D4E3\"},\"line\":{\"color\":\"white\"}},\"type\":\"table\"}],\"barpolar\":[{\"marker\":{\"line\":{\"color\":\"#E5ECF6\",\"width\":0.5},\"pattern\":{\"fillmode\":\"overlay\",\"size\":10,\"solidity\":0.2}},\"type\":\"barpolar\"}],\"pie\":[{\"automargin\":true,\"type\":\"pie\"}]},\"layout\":{\"autotypenumbers\":\"strict\",\"colorway\":[\"#636efa\",\"#EF553B\",\"#00cc96\",\"#ab63fa\",\"#FFA15A\",\"#19d3f3\",\"#FF6692\",\"#B6E880\",\"#FF97FF\",\"#FECB52\"],\"font\":{\"color\":\"#2a3f5f\"},\"hovermode\":\"closest\",\"hoverlabel\":{\"align\":\"left\"},\"paper_bgcolor\":\"white\",\"plot_bgcolor\":\"#E5ECF6\",\"polar\":{\"bgcolor\":\"#E5ECF6\",\"angularaxis\":{\"gridcolor\":\"white\",\"linecolor\":\"white\",\"ticks\":\"\"},\"radialaxis\":{\"gridcolor\":\"white\",\"linecolor\":\"white\",\"ticks\":\"\"}},\"ternary\":{\"bgcolor\":\"#E5ECF6\",\"aaxis\":{\"gridcolor\":\"white\",\"linecolor\":\"white\",\"ticks\":\"\"},\"baxis\":{\"gridcolor\":\"white\",\"linecolor\":\"white\",\"ticks\":\"\"},\"caxis\":{\"gridcolor\":\"white\",\"linecolor\":\"white\",\"ticks\":\"\"}},\"coloraxis\":{\"colorbar\":{\"outlinewidth\":0,\"ticks\":\"\"}},\"colorscale\":{\"sequential\":[[0.0,\"#0d0887\"],[0.1111111111111111,\"#46039f\"],[0.2222222222222222,\"#7201a8\"],[0.3333333333333333,\"#9c179e\"],[0.4444444444444444,\"#bd3786\"],[0.5555555555555556,\"#d8576b\"],[0.6666666666666666,\"#ed7953\"],[0.7777777777777778,\"#fb9f3a\"],[0.8888888888888888,\"#fdca26\"],[1.0,\"#f0f921\"]],\"sequentialminus\":[[0.0,\"#0d0887\"],[0.1111111111111111,\"#46039f\"],[0.2222222222222222,\"#7201a8\"],[0.3333333333333333,\"#9c179e\"],[0.4444444444444444,\"#bd3786\"],[0.5555555555555556,\"#d8576b\"],[0.6666666666666666,\"#ed7953\"],[0.7777777777777778,\"#fb9f3a\"],[0.8888888888888888,\"#fdca26\"],[1.0,\"#f0f921\"]],\"diverging\":[[0,\"#8e0152\"],[0.1,\"#c51b7d\"],[0.2,\"#de77ae\"],[0.3,\"#f1b6da\"],[0.4,\"#fde0ef\"],[0.5,\"#f7f7f7\"],[0.6,\"#e6f5d0\"],[0.7,\"#b8e186\"],[0.8,\"#7fbc41\"],[0.9,\"#4d9221\"],[1,\"#276419\"]]},\"xaxis\":{\"gridcolor\":\"white\",\"linecolor\":\"white\",\"ticks\":\"\",\"title\":{\"standoff\":15},\"zerolinecolor\":\"white\",\"automargin\":true,\"zerolinewidth\":2},\"yaxis\":{\"gridcolor\":\"white\",\"linecolor\":\"white\",\"ticks\":\"\",\"title\":{\"standoff\":15},\"zerolinecolor\":\"white\",\"automargin\":true,\"zerolinewidth\":2},\"scene\":{\"xaxis\":{\"backgroundcolor\":\"#E5ECF6\",\"gridcolor\":\"white\",\"linecolor\":\"white\",\"showbackground\":true,\"ticks\":\"\",\"zerolinecolor\":\"white\",\"gridwidth\":2},\"yaxis\":{\"backgroundcolor\":\"#E5ECF6\",\"gridcolor\":\"white\",\"linecolor\":\"white\",\"showbackground\":true,\"ticks\":\"\",\"zerolinecolor\":\"white\",\"gridwidth\":2},\"zaxis\":{\"backgroundcolor\":\"#E5ECF6\",\"gridcolor\":\"white\",\"linecolor\":\"white\",\"showbackground\":true,\"ticks\":\"\",\"zerolinecolor\":\"white\",\"gridwidth\":2}},\"shapedefaults\":{\"line\":{\"color\":\"#2a3f5f\"}},\"annotationdefaults\":{\"arrowcolor\":\"#2a3f5f\",\"arrowhead\":0,\"arrowwidth\":1},\"geo\":{\"bgcolor\":\"white\",\"landcolor\":\"#E5ECF6\",\"subunitcolor\":\"white\",\"showland\":true,\"showlakes\":true,\"lakecolor\":\"white\"},\"title\":{\"x\":0.05},\"mapbox\":{\"style\":\"light\"}}},\"scene\":{\"domain\":{\"x\":[0.0,1.0],\"y\":[0.0,1.0]}},\"legend\":{\"tracegroupgap\":0},\"margin\":{\"t\":60}},                        {\"responsive\": true}                    ).then(function(){\n",
              "                            \n",
              "var gd = document.getElementById('8db98e09-a20d-407c-a673-cd715d7f92e7');\n",
              "var x = new MutationObserver(function (mutations, observer) {{\n",
              "        var display = window.getComputedStyle(gd).display;\n",
              "        if (!display || display === 'none') {{\n",
              "            console.log([gd, 'removed!']);\n",
              "            Plotly.purge(gd);\n",
              "            observer.disconnect();\n",
              "        }}\n",
              "}});\n",
              "\n",
              "// Listen for the removal of the full notebook cells\n",
              "var notebookContainer = gd.closest('#notebook-container');\n",
              "if (notebookContainer) {{\n",
              "    x.observe(notebookContainer, {childList: true});\n",
              "}}\n",
              "\n",
              "// Listen for the clearing of the current output cell\n",
              "var outputEl = gd.closest('.output');\n",
              "if (outputEl) {{\n",
              "    x.observe(outputEl, {childList: true});\n",
              "}}\n",
              "\n",
              "                        })                };                            </script>        </div>\n",
              "</body>\n",
              "</html>"
            ]
          },
          "metadata": {}
        }
      ]
    },
    {
      "cell_type": "code",
      "source": [
        "py.plot(fig, filename=\"plotly_scatter\", auto_open = True)"
      ],
      "metadata": {
        "colab": {
          "base_uri": "https://localhost:8080/",
          "height": 35
        },
        "id": "BKcKEgoduWJM",
        "outputId": "1273c110-b0af-451b-816e-40480f93ae58"
      },
      "execution_count": null,
      "outputs": [
        {
          "output_type": "execute_result",
          "data": {
            "text/plain": [
              "'https://plotly.com/~DarthRevan07/1/'"
            ],
            "application/vnd.google.colaboratory.intrinsic+json": {
              "type": "string"
            }
          },
          "metadata": {},
          "execution_count": 16
        }
      ]
    },
    {
      "cell_type": "code",
      "execution_count": null,
      "metadata": {
        "colab": {
          "base_uri": "https://localhost:8080/",
          "height": 542
        },
        "id": "oXlaYPz5chs4",
        "outputId": "4c1a2ba5-b358-403d-f981-dddd5a2b4157"
      },
      "outputs": [
        {
          "output_type": "display_data",
          "data": {
            "text/html": [
              "<html>\n",
              "<head><meta charset=\"utf-8\" /></head>\n",
              "<body>\n",
              "    <div>            <script src=\"https://cdnjs.cloudflare.com/ajax/libs/mathjax/2.7.5/MathJax.js?config=TeX-AMS-MML_SVG\"></script><script type=\"text/javascript\">if (window.MathJax && window.MathJax.Hub && window.MathJax.Hub.Config) {window.MathJax.Hub.Config({SVG: {font: \"STIX-Web\"}});}</script>                <script type=\"text/javascript\">window.PlotlyConfig = {MathJaxConfig: 'local'};</script>\n",
              "        <script charset=\"utf-8\" src=\"https://cdn.plot.ly/plotly-2.24.1.min.js\"></script>                <div id=\"74364560-7289-45df-a409-44bc6f60807f\" class=\"plotly-graph-div\" style=\"height:525px; width:100%;\"></div>            <script type=\"text/javascript\">                                    window.PLOTLYENV=window.PLOTLYENV || {};                                    if (document.getElementById(\"74364560-7289-45df-a409-44bc6f60807f\")) {                    Plotly.newPlot(                        \"74364560-7289-45df-a409-44bc6f60807f\",                        [{\"marker\":{\"color\":[0,1,2,3,4,5,6,7,8,9,10,11,12,13,14,15,16,17,18,19,20,21,22,23,24,25,26,27,28,29,30,31,32,33,34,35,36,37,38,39,40,41,42,43,44,45,46,47,48,49,50,51,52,53,54,55,56,57,58,59,60,61,62,63,64,65,66,67,68,69,70,71,72,73,74,75,76,77,78,79,80,81,82,83,84,85,86,87,88,89,90,91,92,93,94,95,96,97,98,99,100,101,102,103,104,105,106,107,108,109,110,111,112,113,114,115,116,117,118,119,120,121,122,123,124,125,126,127,128,129,130,131,132,133,134,135,136,137,138,139,140,141,142,143,144,145,146,147,148,149,150,151,152,153,154,155,156,157,158,159,160,161,162,163,164,165,166,167,168,169,170,171,172,173,174,175,176,177,178,179,180,181,182,183,184,185,186,187,188,189,190,191,192,193,194,195,196,197,198,199,200,201,202,203,204,205,206,207,208,209,210,211,212,213,214,215,216,217,218,219,220,221,222,223,224,225,226,227,228,229,230,231,232,233,234,235,236,237,238,239,240,241,242,243,244,245,246,247,248,249,250,251,252,253,254,255,256,257,258,259,260,261,262,263,264,265,266,267,268,269,270,271,272,273,274,275,276,277,278,279,280,281,282,283,284,285,286,287,288,289,290,291,292,293,294,295,296,297,298,299,300,301,302,303,304,305,306,307,308,309,310,311,312,313,314,315,316,317,318,319,320,321,322,323,324,325,326,327,328,329,330,331,332,333,334,335,336,337,338,339,340,341,342,343,344,345,346,347,348,349,350,351,352,353,354,355,356,357,358,359,360,361,362,363,364,365,366,367,368,369,370,371,372,373,374,375,376,377,378,379,380,381,382,383,384,385,386,387,388,389,390,391,392,393,394,395,396,397,398,399],\"colorscale\":[[0.0,\"#440154\"],[0.1111111111111111,\"#482878\"],[0.2222222222222222,\"#3e4989\"],[0.3333333333333333,\"#31688e\"],[0.4444444444444444,\"#26828e\"],[0.5555555555555556,\"#1f9e89\"],[0.6666666666666666,\"#35b779\"],[0.7777777777777778,\"#6ece58\"],[0.8888888888888888,\"#b5de2b\"],[1.0,\"#fde725\"]],\"opacity\":0.8,\"size\":4},\"mode\":\"markers\",\"x\":[-0.084299915549017,0.6456649392128573,0.7448300466066073,0.026976303833747134,-0.618132755909724,-0.7223931662662662,-0.4739997644936423,0.6151388749051374,1.092236221779497,0.6265126831256129,-0.2971867410700094,-0.9892929083831774,-0.3517933418020746,0.21686684663397382,1.0710283304533228,0.5175164356428865,-0.3058524552780514,-0.8171822540446394,-0.6353789803876952,0.31949122070115454,1.1318310856752927,0.5967223290962145,-0.168375936114282,-0.5990484298570424,-0.6750747520244629,0.04514682465346806,0.5544050147794504,1.0230029980530855,0.34573599244169895,-0.8842782704837626,-0.7996889290177389,-0.5642422489756516,0.6892508622702251,0.9766310298580364,0.329606379991772,-0.5692163258668197,-0.9629814782639187,-0.41058746623055764,0.2583685663206493,0.7319351048624044,0.8894022272097122,-0.37203711197990597,-1.0410550995947163,-0.7710680418056999,-0.07836805926889817,0.9484809525700009,0.6822472570474273,-0.03581670160219694,-0.6952955726987378,-1.1580803812979756,-0.024048060892654655,0.48334848766281885,1.034527147336804,0.30587812244337237,-0.4162102822096606,-1.1267114948154373,-0.7448237877573367,0.49093604413174247,0.9585781436570082,0.8056681020822638,-0.4961329218677593,-0.9870194334818032,-0.6998359522934443,0.12117157119297275,1.1308137137889154,0.600199931490756,-0.13483968304007676,-1.1027819329590987,-0.8027251329113048,-0.177340661075708,0.9387077704020382,0.8086375961372234,0.033960122848849916,-0.6682518341253485,-1.1236225697327915,-0.4640328254014446,0.519441135820754,0.9597547019123513,0.7486376697485158,-0.6714188720381162,-1.079221097401776,-0.8158040029105463,0.2422284865141215,1.1197008298135191,0.6132274882817965,-0.16919393501847288,-0.8797279845518688,-1.0283651896926276,0.217398208220902,0.6543824018362423,1.0383952835569583,-0.1301324570123879,-0.8526447633698844,-1.0154496242297815,-0.0849713243360258,0.5765861899332804,0.8099774514352103,0.1847323622359649,-0.7481338314632582,-1.0549818391086456,-0.6710735635953382,0.24725833167878358,0.830497877283159,0.8008417262456267,-0.4600667637751732,-1.10501841798455,-0.8090230310183025,0.27672354421742007,0.9414987495532244,0.6887937797587068,-0.13348828322519604,-0.9857487667784997,-0.6651980952387535,-0.18987701530310236,0.7084502943029256,0.7709495336816907,0.39019541222058096,-0.8094905824291356,-0.8071947428075599,-0.1794061463454747,0.8114627976852837,0.7606528361005578,0.5503686471572499,-0.24052045927581378,-1.000363545496977,-0.369671574405891,0.36491279672611904,1.131600132694966,0.8877473101528712,0.0061647670509552,-0.9653378461211438,-1.019622807168625,0.25637034027383493,0.6239655928587808,1.0082274897280872,0.29602766600214087,-0.9813281440685904,-0.716352446830388,-0.2014853963226577,0.7951887759038064,1.2114103556369766,0.5811664063832676,-0.6617450637784716,-0.7864335861132523,-0.25797530492869075,0.5224675205803724,1.0963505438784362,0.6261125858980336,-0.3486485907015048,-0.8154184066544605,-0.5633012474029391,0.07627066132999424,0.8246750983447564,0.9084388651509963,0.018327998731489457,-0.9449240260374041,-0.6545380970391368,-0.07176977010088367,0.9221167538609605,1.0658074186535131,0.46308748824710116,-0.6063528037050883,-0.7945489457604484,-0.3381209055566699,0.620043640982386,0.819667966307978,0.31937544710162447,-0.6576458274638989,-0.9450163205316503,-0.7492000430326926,0.3656604025455046,0.8198449185481795,0.9001043549558432,-0.02854762213595327,-0.794786813528076,-0.9848682649839606,-0.042259605159410935,0.8322136793372843,0.8143006967998183,-0.04550566595683622,-0.7716386146514185,-0.7145672810406121,-0.036261149657074776,0.6233872819211326,1.218951770636339,0.48003730536262684,-0.4945658906587824,-1.1714745680448035,-0.6202441475556251,0.5636928180557108,1.0159829329731627,0.5679163829919004,-0.32640559175124456,-0.9897291387942038,-0.5771765083671216,0.2996465459449791,1.0123913201752162,0.7592720305845251,0.01966537050717984,-1.0281681608330675,-0.7973001138711383,-0.12065359008930504,1.0147361731833648,1.1281100591786117,0.23875468943845668,-0.9584025957682589,-1.0933473901327335,-0.5274939413828923,0.8444962374466034,0.93408731381026,0.29083283809509414,-0.30777848669259295,-0.9737204660332732,-0.5073393920345985,0.5096306311620147,1.2160509933827035,0.5950555274757601,-0.41886733298949663,-1.117478050536528,-0.8976274569993432,-0.14688895865059204,0.9462147083991267,0.6191200249109063,0.22063725157717903,-0.6033695827267902,-1.1082322368851067,-0.13433532408476617,0.9531892505273643,0.8021190744382495,0.3613884928963831,-0.49865422160584844,-0.9988116498144637,-0.5522140638350252,0.5571378226010176,0.9976419282362845,0.40534216165411296,-0.5931595139033459,-0.9827739251641634,-0.599045592886107,0.41765147011220916,0.7733049635858308,0.6712181516759604,-0.0928892894641579,-0.7621539704815192,-1.0026325685148707,0.06474509414797136,0.7671044176127129,0.9374275580098138,0.10310612384561782,-0.8874573682502014,-1.0379836258086852,-0.4757755292260117,0.3756756739419206,0.8829078228036766,0.4427872054208615,-0.5460668416012651,-0.8689866535073103,-0.44154553524049733,0.620310067126728,1.115090915305744,0.6041009087731717,-0.209685138186411,-0.7874510207531398,-0.8483425524667516,0.19197853012452337,0.8949761688159048,1.009042403020783,0.03281126670006842,-0.7196928478705131,-1.0534934024195586,-0.002533500809502598,0.9809961476800687,0.9793386061906884,0.08473099061365347,-0.8451142742006503,-0.7841425566851988,-0.2804987671584735,0.5043183706736267,0.9481586819003317,0.4854372770538067,-0.19576208130011902,-1.135809276934019,-0.6651383845526228,0.36741983367330505,0.9033337386771401,0.9527045485053474,-0.007732204176961632,-0.9152771648878075,-0.955317174808985,0.0960388246756205,0.6564706228932877,0.6825473604635315,0.4022732712672955,-0.9499725719157708,-0.9528335216633732,-0.24077535667330874,0.880509015375428,1.021922340627131,0.5946590164280371,-0.6264642928737105,-1.1543291105978348,-0.4422783097446851,0.14892604889968836,1.2045157283300194,0.8642687466000569,-0.01751164181918824,-1.0199392861017484,-0.6846758007778394,-0.057162885644946204,0.7773813176533937,0.8286606630044271,0.03273011938584865,-0.6779985184752051,-1.1131045357956613,0.023878937916376602,0.9021820927901727,0.8269350232798587,0.4747743587040478,-0.5237887488718382,-1.1414767610555303,-0.3570537399393675,0.7315632244346111,1.0738401921979923,0.39502360100141903,-0.6111843360006846,-1.0109095585863805,-0.7431413893911875,0.2584243431867783,1.040946933323281,0.8273571585794318,-0.33670692966645227,-1.072911535151298,-0.71221403556711,0.12233027391916924,1.0185297285274828,1.137119983763404,0.09272157465868983,-0.51291065433324,-0.8721902076067103,-0.12861055079225486,0.7223425877642008,0.9213925753322565,0.5699806612317709,-0.5205836842361866,-0.8570712345482376,-0.3528765378481259,0.24121699557428278,1.1184569204461394,0.5414434776972822,-0.14136850850056915,-0.8492535271025847,-0.9296747877373921,0.048702897524824235,1.0136715681360302,0.6398968109985089,-0.14461324120040112,-0.7722351159520343,-0.682332601126689,-0.20165425203503787,0.7492001147553309,1.0732703227702132,0.4834128896224285,-0.8600227937690275,-0.998147434269345,-0.4369493960764939,0.43681989967390905,0.8915294081670542,0.4727613155085759,-0.33370074525604687,-0.8844878924769644,-0.7938212616198086,0.27223098322248873,0.8046711714811702,0.937392508458694,0.02418767675359179,-0.7151626410428233,-0.8433355017218946,0.055897811397132915,0.8429437619455539,1.049784483017631,0.22830986814611162,-0.5843010136104647,-1.1230185650723175,-0.07719317055975267,0.41760918752841175,1.2292608542499115,0.33403511955685444,-0.6822964252388625,-0.8325297274980864,-0.2840913667825203,0.6111035914061989,1.088466702537706,0.45589941965584413,-0.361745371818863,-0.8174401487883287,-0.6525263872960019,0.2960989721463704,0.9014063545601689,0.7904701581288724,0.08623900334568359],\"y\":[0.8104670559566332,0.37847907378856466,-0.6369294681105231,-0.9797427520431208,-0.6687890853597265,0.37651180406417123,0.7219398599174973,0.5861155284364918,0.1043354222174096,-1.0922710628964953,-0.8824290961906301,-0.0053734135728882035,1.0865636032762394,0.978341786397235,0.20161519384436336,-0.5187973735206974,-0.9412687406647072,-0.22058440911437444,0.5438694854519655,0.8239278289778595,0.32576255755437883,-0.3975917097172729,-1.1845468439949987,-0.660781964123458,0.5666659682487561,1.2086524989646839,0.5113747488995173,-0.07777365768054872,-0.9328664451791424,-0.5221866006964269,0.24292300160901859,0.9235281397458269,0.9308835476224814,0.20344049401974817,-0.9626355743123477,-0.7225264546043223,-0.16854715549014082,0.6554136438670137,0.940141069109887,0.09149965409472471,-0.8053669489946466,-0.8984759527500608,-0.6232900481507733,0.6250376000309688,1.0929522708127124,0.6242534720117424,-0.45610454613391255,-1.0042133314840607,-0.6538763581429845,0.13107123664201842,0.8590041197113558,0.7569198639534525,-0.14207871783020495,-0.9812754573398794,-0.722959878860932,0.18499083636501087,0.7375042446951724,0.7944147005342492,0.1970160840386868,-0.888039222391702,-0.7059127312802447,-0.41573492715372695,0.48367955023743536,0.8893865576543123,0.5991148638389767,-0.7337890184804006,-1.168651043939507,-0.3597500994716206,0.5027861435533101,0.8419269209748439,0.5453667483202016,-0.40970808809822595,-0.8692163174037597,-0.5938955784085315,0.2589445827762312,1.1175384516017464,0.8590647018229801,-0.2149788121337649,-1.0264322603135863,-1.0443880785554909,-0.08070419050480858,0.5412731788233454,0.7989662009075811,0.24136217260347104,-0.7425248946609492,-0.8114396419322578,-0.4214429192911106,0.5451660373838626,1.2361090185494028,0.6391635701719556,-0.38468023648788746,-1.1322304061797492,-0.7220990960375149,0.21313025656942286,0.7729308294934143,0.7666988950657776,-0.3214475858233119,-0.6989964424262507,-0.6415418974237841,-0.00474713669329592,0.6211123573204214,0.7356027607218738,0.29490107276094735,-0.9358061307907422,-1.1432081045586076,-0.0358859236302318,0.6660736444632245,0.8261469462511002,0.34113021334568705,-0.4629750072704841,-0.9498145412416864,-0.3229719849821727,0.21016182555504143,0.8247662216711915,0.6107331228090538,-0.18451763877727584,-1.1310380767792072,-0.48501134797377604,0.16879067525179256,1.0683561077726744,0.7340893746853041,0.1406907908904822,-0.9841979180020516,-0.724645502301423,-0.06146543212253884,0.6653008997664998,1.087383366097813,0.47690337448474207,-0.5540218797975792,-0.7715098017532123,-0.2494529638724926,0.8284138930147729,0.8808829981108022,0.5033432213540071,-0.707325343559535,-1.2350582286246352,-0.6877386376424661,0.5348186461584467,0.851256756914122,0.525184309555788,-0.009178173896194602,-0.9300692640293684,-0.9848826777452464,0.008579245993626534,0.8979821410052151,1.1011407756482632,0.08242460282094216,-0.7721243766758579,-1.1474561748134338,-0.35712361667862613,0.6709743244525923,0.8766113002868838,0.5967061049932452,-0.7076161679751477,-1.1990437853193503,-0.6121260230112737,0.5692124571751962,1.0356851132936162,0.6745934724265894,-0.1123060176063479,-1.125974069611185,-0.5834853495962233,0.16335491419008713,0.8562506883840566,1.0094239805458218,-0.2054753249590113,-1.005286511778991,-1.1094293657646963,0.001959365030120605,0.8357092030019704,1.1725219009313113,0.08749938330998017,-0.6114855716622802,-0.8484628089445767,-0.5850760751710053,0.684184754329296,0.7506637475258975,0.5754837713655918,-0.6628865743169103,-0.9837176566721979,-0.7844588436426501,0.15181721973772339,1.1501667855274331,0.5566984286728308,-0.4077687246660803,-1.0784655654672144,-0.8267554826164419,0.06038815093034927,0.75941241378276,1.0545507461323798,0.27550567627081113,-0.9899680564715938,-0.7372621615697639,-0.2026268982830158,0.8081297505937276,1.008507372487137,0.32234069223672596,-0.6662688879615815,-1.196085958013545,-0.6083043009359455,0.6558278548550455,1.2431371589263023,0.5776667857181278,-0.14759781083286122,-0.9886702810948527,-0.9391565767321177,-0.008385628690058683,0.907697444265048,0.9619049092522431,-0.03874937549436824,-0.743046173026052,-1.1170669627478673,-0.02740652235120867,1.0357316859044565,1.112378468264795,0.09689681751902002,-0.9126681689823986,-0.7820345647760041,-0.3276128532304043,0.5267554930062003,0.881235905087115,0.3851607926856236,-0.5667388122188945,-1.2030778540709532,-0.6976183009384063,0.20920550074869204,0.7472206440367175,0.6022269384224949,-0.289312509814904,-0.9553287326293942,-0.9577167273483109,-0.13677965136208026,0.7688977478213002,1.0769809433240156,-0.1130358471312938,-0.9130444048572501,-1.1059300401108412,-0.12790092248382418,0.6114792159236317,1.0977805707523383,0.46818410656658743,-0.7069128282743079,-1.1494683317434264,-0.5115765640693815,0.33457508603059677,0.9050638994212306,0.7573813788993189,-0.13182521374939343,-1.0596339862294482,-0.6571865065194296,0.11772346444124623,1.1269934418596348,0.9220305810248397,0.1348495730276952,-0.7800894038833608,-1.0095327410238235,0.1907725009805526,0.7367681394831903,0.8367830167761818,0.1457865136381073,-0.644498247591143,-1.0550470888744132,-0.3750822563968849,0.8603064140603025,1.1635314773246324,0.45910109283555023,-0.40645177208217165,-1.142372714435969,-0.40160808326966013,0.328885395134057,1.1296558494690676,0.8257536374897745,-0.17725130308965528,-0.844948879091209,-0.9237025671065318,0.15125487980958818,1.0276535449730602,1.062668980667858,-0.1242789646514911,-0.5990205419546035,-0.8301579273518607,-0.23763913241938792,0.5724224497346024,1.0738469782139985,0.23878599442104148,-0.3924519730705092,-0.8729256974511139,-0.48495493279795526,0.40972411065636744,0.8220500521314786,0.7559407301931851,-0.35471034910964266,-1.1489038105346183,-0.8148027603033693,0.48856695895860114,0.8232841182194284,0.763082635301168,-0.17873830105439942,-1.0937133512673238,-0.9234264203874027,0.2068941146182861,0.8189168807003446,0.8722423090190141,0.016253347842540317,-0.6525405953141308,-0.8608862470946687,-0.2291124660377371,0.5424904494893313,1.1102813571908494,0.347369136810833,-0.621926512281394,-0.868797560126048,-0.5421240787832753,0.6141560828873872,1.0311030592711128,0.7551174253757964,-0.5024977743894848,-1.1334989858641462,-0.8426296338008505,0.23307644497172433,0.9430730782807666,1.0216405711107333,-0.2290639732974414,-1.0211662778238708,-1.154672089587837,-0.3583931445112055,0.7596212606641014,0.9632734672889307,0.4153348418385381,-0.7381471686581988,-0.8677316882205384,-0.3400877801615288,0.5373050785809463,0.8494940244029681,0.4176558221671776,-0.5168449390888363,-0.8858130003811886,-0.5997657857336975,0.47757495658728816,1.1019264344866184,0.7260515652344668,-0.24961969951876467,-0.7694711709000734,-0.9873067374944817,0.02265861862674255,1.0468582092836594,0.9359528881156929,0.1478362014585356,-0.8825669225292254,-1.158055170838919,-0.5196467730121896,0.7016102092911201,1.1050791478691355,0.5415281434916535,-0.3558307763977226,-1.24707732308174,-0.7642663028635,0.3572976414539911,1.1060381390018192,0.5733911137106991,-0.15798470149903526,-0.9284347638179062,-0.9369219432734693,0.35399237873024253,1.0171885328257066,0.8165128951429768,0.13923155525601816,-0.6682548965682329,-1.0248923916830912,0.010597894409181158,0.6632846830614982,0.9311374909202758,0.055597489921132615,-0.46487947892461134,-0.8434872689760196,-0.6184482967280649,0.7411506413374177,0.8477573813174557,0.7234584092735747,-0.6589697399336529,-1.1270567184327986,-0.5506911083063306,0.42460948395154946,1.0630404999735419,0.5994278475638082,-0.3993343177602195,-0.7791340630912409,-1.041215493253,-0.20288962899629656,0.9214694575880553,0.7915242478374194,-0.013246021493916682,-0.8607410268130271,-0.9712941109049394,-0.18720354142140133,0.5957175038017939,0.9810148737633381,0.35791212374907194,-0.5100400317067133,-1.1892870560500337],\"z\":[0.0,0.0,0.0,0.0,0.0,0.0,0.0,0.0,0.0,0.0,0.0,0.0,0.0,0.0,0.0,0.0,0.0,0.0,0.0,0.0,0.0,0.0,0.0,0.0,0.0,0.0,0.0,0.0,0.0,0.0,0.0,0.0,0.0,0.0,0.0,0.0,0.0,0.0,0.0,0.0,0.0,0.0,0.0,0.0,0.0,0.0,0.0,0.0,0.0,0.0,0.0,0.0,0.0,0.0,0.0,0.0,0.0,0.0,0.0,0.0,0.0,0.0,0.0,0.0,0.0,0.0,0.0,0.0,0.0,0.0,0.0,0.0,0.0,0.0,0.0,0.0,0.0,0.0,0.0,0.0,0.0,0.0,0.0,0.0,0.0,0.0,0.0,0.0,0.0,0.0,0.0,0.0,0.0,0.0,0.0,0.0,0.0,0.0,0.0,0.0,0.0,0.0,0.0,0.0,0.0,0.0,0.0,0.0,0.0,0.0,0.0,0.0,0.0,0.0,0.0,0.0,0.0,0.0,0.0,0.0,0.0,0.0,0.0,0.0,0.0,0.0,0.0,0.0,0.0,0.0,0.0,0.0,0.0,0.0,0.0,0.0,0.0,0.0,0.0,0.0,0.0,0.0,0.0,0.0,0.0,0.0,0.0,0.0,0.0,0.0,0.0,0.0,0.0,0.0,0.0,0.0,0.0,0.0,0.0,0.0,0.0,0.0,0.0,0.0,0.0,0.0,0.0,0.0,0.0,0.0,0.0,0.0,0.0,0.0,0.0,0.0,0.0,0.0,0.0,0.0,0.0,0.0,0.0,0.0,0.0,0.0,0.0,0.0,0.0,0.0,0.0,0.0,0.0,0.0,0.0,0.0,0.0,0.0,0.0,0.0,0.0,0.0,0.0,0.0,0.0,0.0,0.0,0.0,0.0,0.0,0.0,0.0,0.0,0.0,0.0,0.0,0.0,0.0,0.0,0.0,0.0,0.0,0.0,0.0,0.0,0.0,0.0,0.0,0.0,0.0,0.0,0.0,0.0,0.0,0.0,0.0,0.0,0.0,0.0,0.0,0.0,0.0,0.0,0.0,0.0,0.0,0.0,0.0,0.0,0.0,0.0,0.0,0.0,0.0,0.0,0.0,0.0,0.0,0.0,0.0,0.0,0.0,0.0,0.0,0.0,0.0,0.0,0.0,0.0,0.0,0.0,0.0,0.0,0.0,0.0,0.0,0.0,0.0,0.0,0.0,0.0,0.0,0.0,0.0,0.0,0.0,0.0,0.0,0.0,0.0,0.0,0.0,0.0,0.0,0.0,0.0,0.0,0.0,0.0,0.0,0.0,0.0,0.0,0.0,0.0,0.0,0.0,0.0,0.0,0.0,0.0,0.0,0.0,0.0,0.0,0.0,0.0,0.0,0.0,0.0,0.0,0.0,0.0,0.0,0.0,0.0,0.0,0.0,0.0,0.0,0.0,0.0,0.0,0.0,0.0,0.0,0.0,0.0,0.0,0.0,0.0,0.0,0.0,0.0,0.0,0.0,0.0,0.0,0.0,0.0,0.0,0.0,0.0,0.0,0.0,0.0,0.0,0.0,0.0,0.0,0.0,0.0,0.0,0.0,0.0,0.0,0.0,0.0,0.0,0.0,0.0,0.0,0.0,0.0,0.0,0.0,0.0,0.0,0.0,0.0,0.0,0.0,0.0,0.0,0.0,0.0,0.0,0.0,0.0,0.0,0.0,0.0,0.0,0.0,0.0,0.0,0.0,0.0,0.0,0.0],\"type\":\"scatter3d\"}],                        {\"template\":{\"data\":{\"histogram2dcontour\":[{\"type\":\"histogram2dcontour\",\"colorbar\":{\"outlinewidth\":0,\"ticks\":\"\"},\"colorscale\":[[0.0,\"#0d0887\"],[0.1111111111111111,\"#46039f\"],[0.2222222222222222,\"#7201a8\"],[0.3333333333333333,\"#9c179e\"],[0.4444444444444444,\"#bd3786\"],[0.5555555555555556,\"#d8576b\"],[0.6666666666666666,\"#ed7953\"],[0.7777777777777778,\"#fb9f3a\"],[0.8888888888888888,\"#fdca26\"],[1.0,\"#f0f921\"]]}],\"choropleth\":[{\"type\":\"choropleth\",\"colorbar\":{\"outlinewidth\":0,\"ticks\":\"\"}}],\"histogram2d\":[{\"type\":\"histogram2d\",\"colorbar\":{\"outlinewidth\":0,\"ticks\":\"\"},\"colorscale\":[[0.0,\"#0d0887\"],[0.1111111111111111,\"#46039f\"],[0.2222222222222222,\"#7201a8\"],[0.3333333333333333,\"#9c179e\"],[0.4444444444444444,\"#bd3786\"],[0.5555555555555556,\"#d8576b\"],[0.6666666666666666,\"#ed7953\"],[0.7777777777777778,\"#fb9f3a\"],[0.8888888888888888,\"#fdca26\"],[1.0,\"#f0f921\"]]}],\"heatmap\":[{\"type\":\"heatmap\",\"colorbar\":{\"outlinewidth\":0,\"ticks\":\"\"},\"colorscale\":[[0.0,\"#0d0887\"],[0.1111111111111111,\"#46039f\"],[0.2222222222222222,\"#7201a8\"],[0.3333333333333333,\"#9c179e\"],[0.4444444444444444,\"#bd3786\"],[0.5555555555555556,\"#d8576b\"],[0.6666666666666666,\"#ed7953\"],[0.7777777777777778,\"#fb9f3a\"],[0.8888888888888888,\"#fdca26\"],[1.0,\"#f0f921\"]]}],\"heatmapgl\":[{\"type\":\"heatmapgl\",\"colorbar\":{\"outlinewidth\":0,\"ticks\":\"\"},\"colorscale\":[[0.0,\"#0d0887\"],[0.1111111111111111,\"#46039f\"],[0.2222222222222222,\"#7201a8\"],[0.3333333333333333,\"#9c179e\"],[0.4444444444444444,\"#bd3786\"],[0.5555555555555556,\"#d8576b\"],[0.6666666666666666,\"#ed7953\"],[0.7777777777777778,\"#fb9f3a\"],[0.8888888888888888,\"#fdca26\"],[1.0,\"#f0f921\"]]}],\"contourcarpet\":[{\"type\":\"contourcarpet\",\"colorbar\":{\"outlinewidth\":0,\"ticks\":\"\"}}],\"contour\":[{\"type\":\"contour\",\"colorbar\":{\"outlinewidth\":0,\"ticks\":\"\"},\"colorscale\":[[0.0,\"#0d0887\"],[0.1111111111111111,\"#46039f\"],[0.2222222222222222,\"#7201a8\"],[0.3333333333333333,\"#9c179e\"],[0.4444444444444444,\"#bd3786\"],[0.5555555555555556,\"#d8576b\"],[0.6666666666666666,\"#ed7953\"],[0.7777777777777778,\"#fb9f3a\"],[0.8888888888888888,\"#fdca26\"],[1.0,\"#f0f921\"]]}],\"surface\":[{\"type\":\"surface\",\"colorbar\":{\"outlinewidth\":0,\"ticks\":\"\"},\"colorscale\":[[0.0,\"#0d0887\"],[0.1111111111111111,\"#46039f\"],[0.2222222222222222,\"#7201a8\"],[0.3333333333333333,\"#9c179e\"],[0.4444444444444444,\"#bd3786\"],[0.5555555555555556,\"#d8576b\"],[0.6666666666666666,\"#ed7953\"],[0.7777777777777778,\"#fb9f3a\"],[0.8888888888888888,\"#fdca26\"],[1.0,\"#f0f921\"]]}],\"mesh3d\":[{\"type\":\"mesh3d\",\"colorbar\":{\"outlinewidth\":0,\"ticks\":\"\"}}],\"scatter\":[{\"fillpattern\":{\"fillmode\":\"overlay\",\"size\":10,\"solidity\":0.2},\"type\":\"scatter\"}],\"parcoords\":[{\"type\":\"parcoords\",\"line\":{\"colorbar\":{\"outlinewidth\":0,\"ticks\":\"\"}}}],\"scatterpolargl\":[{\"type\":\"scatterpolargl\",\"marker\":{\"colorbar\":{\"outlinewidth\":0,\"ticks\":\"\"}}}],\"bar\":[{\"error_x\":{\"color\":\"#2a3f5f\"},\"error_y\":{\"color\":\"#2a3f5f\"},\"marker\":{\"line\":{\"color\":\"#E5ECF6\",\"width\":0.5},\"pattern\":{\"fillmode\":\"overlay\",\"size\":10,\"solidity\":0.2}},\"type\":\"bar\"}],\"scattergeo\":[{\"type\":\"scattergeo\",\"marker\":{\"colorbar\":{\"outlinewidth\":0,\"ticks\":\"\"}}}],\"scatterpolar\":[{\"type\":\"scatterpolar\",\"marker\":{\"colorbar\":{\"outlinewidth\":0,\"ticks\":\"\"}}}],\"histogram\":[{\"marker\":{\"pattern\":{\"fillmode\":\"overlay\",\"size\":10,\"solidity\":0.2}},\"type\":\"histogram\"}],\"scattergl\":[{\"type\":\"scattergl\",\"marker\":{\"colorbar\":{\"outlinewidth\":0,\"ticks\":\"\"}}}],\"scatter3d\":[{\"type\":\"scatter3d\",\"line\":{\"colorbar\":{\"outlinewidth\":0,\"ticks\":\"\"}},\"marker\":{\"colorbar\":{\"outlinewidth\":0,\"ticks\":\"\"}}}],\"scattermapbox\":[{\"type\":\"scattermapbox\",\"marker\":{\"colorbar\":{\"outlinewidth\":0,\"ticks\":\"\"}}}],\"scatterternary\":[{\"type\":\"scatterternary\",\"marker\":{\"colorbar\":{\"outlinewidth\":0,\"ticks\":\"\"}}}],\"scattercarpet\":[{\"type\":\"scattercarpet\",\"marker\":{\"colorbar\":{\"outlinewidth\":0,\"ticks\":\"\"}}}],\"carpet\":[{\"aaxis\":{\"endlinecolor\":\"#2a3f5f\",\"gridcolor\":\"white\",\"linecolor\":\"white\",\"minorgridcolor\":\"white\",\"startlinecolor\":\"#2a3f5f\"},\"baxis\":{\"endlinecolor\":\"#2a3f5f\",\"gridcolor\":\"white\",\"linecolor\":\"white\",\"minorgridcolor\":\"white\",\"startlinecolor\":\"#2a3f5f\"},\"type\":\"carpet\"}],\"table\":[{\"cells\":{\"fill\":{\"color\":\"#EBF0F8\"},\"line\":{\"color\":\"white\"}},\"header\":{\"fill\":{\"color\":\"#C8D4E3\"},\"line\":{\"color\":\"white\"}},\"type\":\"table\"}],\"barpolar\":[{\"marker\":{\"line\":{\"color\":\"#E5ECF6\",\"width\":0.5},\"pattern\":{\"fillmode\":\"overlay\",\"size\":10,\"solidity\":0.2}},\"type\":\"barpolar\"}],\"pie\":[{\"automargin\":true,\"type\":\"pie\"}]},\"layout\":{\"autotypenumbers\":\"strict\",\"colorway\":[\"#636efa\",\"#EF553B\",\"#00cc96\",\"#ab63fa\",\"#FFA15A\",\"#19d3f3\",\"#FF6692\",\"#B6E880\",\"#FF97FF\",\"#FECB52\"],\"font\":{\"color\":\"#2a3f5f\"},\"hovermode\":\"closest\",\"hoverlabel\":{\"align\":\"left\"},\"paper_bgcolor\":\"white\",\"plot_bgcolor\":\"#E5ECF6\",\"polar\":{\"bgcolor\":\"#E5ECF6\",\"angularaxis\":{\"gridcolor\":\"white\",\"linecolor\":\"white\",\"ticks\":\"\"},\"radialaxis\":{\"gridcolor\":\"white\",\"linecolor\":\"white\",\"ticks\":\"\"}},\"ternary\":{\"bgcolor\":\"#E5ECF6\",\"aaxis\":{\"gridcolor\":\"white\",\"linecolor\":\"white\",\"ticks\":\"\"},\"baxis\":{\"gridcolor\":\"white\",\"linecolor\":\"white\",\"ticks\":\"\"},\"caxis\":{\"gridcolor\":\"white\",\"linecolor\":\"white\",\"ticks\":\"\"}},\"coloraxis\":{\"colorbar\":{\"outlinewidth\":0,\"ticks\":\"\"}},\"colorscale\":{\"sequential\":[[0.0,\"#0d0887\"],[0.1111111111111111,\"#46039f\"],[0.2222222222222222,\"#7201a8\"],[0.3333333333333333,\"#9c179e\"],[0.4444444444444444,\"#bd3786\"],[0.5555555555555556,\"#d8576b\"],[0.6666666666666666,\"#ed7953\"],[0.7777777777777778,\"#fb9f3a\"],[0.8888888888888888,\"#fdca26\"],[1.0,\"#f0f921\"]],\"sequentialminus\":[[0.0,\"#0d0887\"],[0.1111111111111111,\"#46039f\"],[0.2222222222222222,\"#7201a8\"],[0.3333333333333333,\"#9c179e\"],[0.4444444444444444,\"#bd3786\"],[0.5555555555555556,\"#d8576b\"],[0.6666666666666666,\"#ed7953\"],[0.7777777777777778,\"#fb9f3a\"],[0.8888888888888888,\"#fdca26\"],[1.0,\"#f0f921\"]],\"diverging\":[[0,\"#8e0152\"],[0.1,\"#c51b7d\"],[0.2,\"#de77ae\"],[0.3,\"#f1b6da\"],[0.4,\"#fde0ef\"],[0.5,\"#f7f7f7\"],[0.6,\"#e6f5d0\"],[0.7,\"#b8e186\"],[0.8,\"#7fbc41\"],[0.9,\"#4d9221\"],[1,\"#276419\"]]},\"xaxis\":{\"gridcolor\":\"white\",\"linecolor\":\"white\",\"ticks\":\"\",\"title\":{\"standoff\":15},\"zerolinecolor\":\"white\",\"automargin\":true,\"zerolinewidth\":2},\"yaxis\":{\"gridcolor\":\"white\",\"linecolor\":\"white\",\"ticks\":\"\",\"title\":{\"standoff\":15},\"zerolinecolor\":\"white\",\"automargin\":true,\"zerolinewidth\":2},\"scene\":{\"xaxis\":{\"backgroundcolor\":\"#E5ECF6\",\"gridcolor\":\"white\",\"linecolor\":\"white\",\"showbackground\":true,\"ticks\":\"\",\"zerolinecolor\":\"white\",\"gridwidth\":2},\"yaxis\":{\"backgroundcolor\":\"#E5ECF6\",\"gridcolor\":\"white\",\"linecolor\":\"white\",\"showbackground\":true,\"ticks\":\"\",\"zerolinecolor\":\"white\",\"gridwidth\":2},\"zaxis\":{\"backgroundcolor\":\"#E5ECF6\",\"gridcolor\":\"white\",\"linecolor\":\"white\",\"showbackground\":true,\"ticks\":\"\",\"zerolinecolor\":\"white\",\"gridwidth\":2}},\"shapedefaults\":{\"line\":{\"color\":\"#2a3f5f\"}},\"annotationdefaults\":{\"arrowcolor\":\"#2a3f5f\",\"arrowhead\":0,\"arrowwidth\":1},\"geo\":{\"bgcolor\":\"white\",\"landcolor\":\"#E5ECF6\",\"subunitcolor\":\"white\",\"showland\":true,\"showlakes\":true,\"lakecolor\":\"white\"},\"title\":{\"x\":0.05},\"mapbox\":{\"style\":\"light\"}}},\"scene\":{\"xaxis\":{\"title\":{\"text\":\"0th\"},\"type\":\"linear\",\"showexponent\":\"all\",\"exponentformat\":\"e\"},\"yaxis\":{\"title\":{\"text\":\"1st\"},\"type\":\"linear\",\"showexponent\":\"all\",\"exponentformat\":\"e\"},\"zaxis\":{\"title\":{\"text\":\"2nd\"},\"type\":\"linear\",\"showexponent\":\"all\",\"exponentformat\":\"e\"}}},                        {\"responsive\": true}                    ).then(function(){\n",
              "                            \n",
              "var gd = document.getElementById('74364560-7289-45df-a409-44bc6f60807f');\n",
              "var x = new MutationObserver(function (mutations, observer) {{\n",
              "        var display = window.getComputedStyle(gd).display;\n",
              "        if (!display || display === 'none') {{\n",
              "            console.log([gd, 'removed!']);\n",
              "            Plotly.purge(gd);\n",
              "            observer.disconnect();\n",
              "        }}\n",
              "}});\n",
              "\n",
              "// Listen for the removal of the full notebook cells\n",
              "var notebookContainer = gd.closest('#notebook-container');\n",
              "if (notebookContainer) {{\n",
              "    x.observe(notebookContainer, {childList: true});\n",
              "}}\n",
              "\n",
              "// Listen for the clearing of the current output cell\n",
              "var outputEl = gd.closest('.output');\n",
              "if (outputEl) {{\n",
              "    x.observe(outputEl, {childList: true});\n",
              "}}\n",
              "\n",
              "                        })                };                            </script>        </div>\n",
              "</body>\n",
              "</html>"
            ]
          },
          "metadata": {}
        }
      ],
      "source": [
        "plot_point_cloud(point_clouds_basic[0])"
      ]
    },
    {
      "cell_type": "code",
      "execution_count": null,
      "metadata": {
        "colab": {
          "base_uri": "https://localhost:8080/",
          "height": 542
        },
        "id": "4l-q--NCcwvW",
        "outputId": "676d10b9-c366-451a-ecdb-83a0dd2f8088"
      },
      "outputs": [
        {
          "data": {
            "text/html": [
              "<html>\n",
              "<head><meta charset=\"utf-8\" /></head>\n",
              "<body>\n",
              "    <div>            <script src=\"https://cdnjs.cloudflare.com/ajax/libs/mathjax/2.7.5/MathJax.js?config=TeX-AMS-MML_SVG\"></script><script type=\"text/javascript\">if (window.MathJax && window.MathJax.Hub && window.MathJax.Hub.Config) {window.MathJax.Hub.Config({SVG: {font: \"STIX-Web\"}});}</script>                <script type=\"text/javascript\">window.PlotlyConfig = {MathJaxConfig: 'local'};</script>\n",
              "        <script charset=\"utf-8\" src=\"https://cdn.plot.ly/plotly-2.24.1.min.js\"></script>                <div id=\"c9861d50-84a8-4f99-8fe4-6711acafb29e\" class=\"plotly-graph-div\" style=\"height:525px; width:100%;\"></div>            <script type=\"text/javascript\">                                    window.PLOTLYENV=window.PLOTLYENV || {};                                    if (document.getElementById(\"c9861d50-84a8-4f99-8fe4-6711acafb29e\")) {                    Plotly.newPlot(                        \"c9861d50-84a8-4f99-8fe4-6711acafb29e\",                        [{\"marker\":{\"color\":[0,1,2,3,4,5,6,7,8,9,10,11,12,13,14,15,16,17,18,19,20,21,22,23,24,25,26,27,28,29,30,31,32,33,34,35,36,37,38,39,40,41,42,43,44,45,46,47,48,49,50,51,52,53,54,55,56,57,58,59,60,61,62,63,64,65,66,67,68,69,70,71,72,73,74,75,76,77,78,79,80,81,82,83,84,85,86,87,88,89,90,91,92,93,94,95,96,97,98,99,100,101,102,103,104,105,106,107,108,109,110,111,112,113,114,115,116,117,118,119,120,121,122,123,124,125,126,127,128,129,130,131,132,133,134,135,136,137,138,139,140,141,142,143,144,145,146,147,148,149,150,151,152,153,154,155,156,157,158,159,160,161,162,163,164,165,166,167,168,169,170,171,172,173,174,175,176,177,178,179,180,181,182,183,184,185,186,187,188,189,190,191,192,193,194,195,196,197,198,199,200,201,202,203,204,205,206,207,208,209,210,211,212,213,214,215,216,217,218,219,220,221,222,223,224,225,226,227,228,229,230,231,232,233,234,235,236,237,238,239,240,241,242,243,244,245,246,247,248,249,250,251,252,253,254,255,256,257,258,259,260,261,262,263,264,265,266,267,268,269,270,271,272,273,274,275,276,277,278,279,280,281,282,283,284,285,286,287,288,289,290,291,292,293,294,295,296,297,298,299,300,301,302,303,304,305,306,307,308,309,310,311,312,313,314,315,316,317,318,319,320,321,322,323,324,325,326,327,328,329,330,331,332,333,334,335,336,337,338,339,340,341,342,343,344,345,346,347,348,349,350,351,352,353,354,355,356,357,358,359,360,361,362,363,364,365,366,367,368,369,370,371,372,373,374,375,376,377,378,379,380,381,382,383,384,385,386,387,388,389,390,391,392,393,394,395,396,397,398,399],\"colorscale\":[[0.0,\"#440154\"],[0.1111111111111111,\"#482878\"],[0.2222222222222222,\"#3e4989\"],[0.3333333333333333,\"#31688e\"],[0.4444444444444444,\"#26828e\"],[0.5555555555555556,\"#1f9e89\"],[0.6666666666666666,\"#35b779\"],[0.7777777777777778,\"#6ece58\"],[0.8888888888888888,\"#b5de2b\"],[1.0,\"#fde725\"]],\"opacity\":0.8,\"size\":4},\"mode\":\"markers\",\"x\":[0.8523219379049385,0.45625492251043487,-0.590859534554323,-1.005261473393379,-0.8290921787929233,0.33873439109751774,1.132118772917491,0.6445645258336448,0.08417563958007274,-0.8267291965867393,-1.0447257624818245,-0.12922031936675862,0.7297781870417324,0.831891749713414,0.05667250745423555,-0.6802658650692224,-0.990657743779386,-0.06878549916091603,0.9008039752706134,0.9611358962734398,0.37683699086357736,0.20376605582098517,-0.3488066203171487,-0.34300298314529615,-0.2786995577866869,-0.0527855497592129,0.6735194621891136,0.1807622817105854,-0.13042789413141992,-0.6013402883437595,-0.4643046673123474,-0.04764520963577253,0.22263131003189723,0.5061870733692,-0.03156983671416032,-0.25511485190270256,-0.7627111999125165,0.08132942863665596,0.3905220373060426,0.3751539385407434,-0.3884729009067844,-0.11882867585967707,0.06971293030722606,0.20984750136417418,0.23416860085903496,0.03692531546133887,-0.17001113202704393,-0.2475430806252698,0.002945281300056529,0.2766902238309529,0.4274991771294008,-0.19998061226579114,-0.23916324397616645,-0.6086678668165847,-0.29829230871104967,0.20508755527548195,0.38762356560500943,0.21467091322983312,-0.4106286084698823,-0.22599406998152216,-0.9201284221615673,-0.7350847307254466,0.21681306626479957,1.0814632301680358,0.6021531691884108,-0.17235698728188886,-0.8600852616168593,-0.6265048252743779,0.1649893500275119,0.72774894612662,0.9046282413852166,-0.19528633703793288,-0.588488240595717,-0.9689713000599238,-0.36245133371103866,0.8978668826092198,1.069161384514153,0.31189339584160863,-0.48501180251512044,-1.0979662137586497,-0.7620179779325911,-0.4936700549438876,0.2375524860873171,0.6582886579364553,0.28282070389081987,-0.21107121331361467,-0.38400125050635453,-0.4017656275893186,0.14046453042029317,0.5402925530696658,0.6421519960603681,0.08189129912836517,-0.3184302960597363,-0.4189460775023357,0.08297619722942237,0.32660097846922764,0.8390816649565419,0.1730285669988717,-0.5514570211042507,-0.7611164220460019,0.4370127636952666,0.3946288420419655,-0.0004977132128107242,-0.47970620557123456,0.009110060926286634,-0.04461104455851213,0.4428644267050888,0.017760788005363126,0.17624969221980014,-0.02259392543165928,-0.1035014670480732,0.16650805592351872,0.006957516817996223,0.34604738559452847,0.22394130585545152,-0.45931359223312673,-0.19056057452039482,0.04046866211985849,0.36473452478449314,0.03441532221975091,1.136026824943919,0.5255183607676972,-0.23135400166988435,-0.7692983720275639,-0.6984004182741326,0.11747364449182479,0.8187221524345403,0.814613862614233,0.011276608393441079,-0.7457713821364658,-0.9875993058660875,0.1996344385042771,0.6529282657610824,0.6444852119383695,0.13616433119388366,-0.6424688399455855,-0.867848880797387,-0.06341772891963993,0.39633948713829864,0.7619755746203485,0.648020571217528,0.19063335239145102,-0.430610781861817,-0.5190074140770085,-0.4854714249138303,0.14710475773340081,0.47901162202164405,0.7488237503262891,0.0725011540414333,-0.5558552589963861,-0.5075596661277519,0.19563584937152528,0.5413395465892017,0.5773202558364182,0.27584753522405625,-0.5189902074963527,-0.9103230227011627,-0.2867806989784644,0.45286429642266374,0.8831404136419017,-0.06271258492027493,-0.24042773386315813,-0.04152833648302598,-0.07720378020999266,0.26859855343130884,-0.03999333485692265,-0.17204448753656848,-0.10893280844072246,0.2557345812475272,0.33693122135560943,0.07529259223959126,0.16373362007949638,-0.009681561390292373,-0.3139277789765306,-0.21316300720941836,-0.00588857595444757,0.08062508120465608,0.048079087166522635,0.13107128773513396,0.09138559823983228,-0.8042679218719426,-0.44805594642177826,0.5181268387041449,0.8953606105809752,0.7695345504289269,-0.3974952518053283,-0.8887237057690406,-0.793775567283123,0.19440687516590993,0.9406054175433678,0.5471675833534396,0.16889734382522045,-0.7578604697349222,-0.9121996322857566,-0.11178540165930055,0.5627253814691362,0.8583104258953829,0.4099148301485094,-0.5794968444091754,-0.9076304185022127,-0.7658664821535723,-0.3458048439932463,0.578038494465696,0.8959050678865328,0.3161081361778739,-0.3772549608323318,-0.5836736865998868,-0.4823388947431358,0.33644847530620103,0.8862812806844821,0.7983877805728814,0.0596800970153103,-0.5690053602086749,-0.596111039753017,-0.3496347260444123,0.4234986499734679,0.9391373773441323,0.0990293404698443,-0.3577291366059014,-0.8307288104383654,0.13168602857423625,0.0751021683344443,-0.10931794121623457,-0.15531077691188602,-0.046417465872063426,0.055193643963279394,-0.2266377836360287,-0.031655613218295575,-0.059283150154221476,-0.011506122846687925,0.16807431852533306,0.18028805550141358,-0.011965469902293508,-0.1385481311166923,0.19779200505707492,0.2181840708671074,0.1877674691521426,0.06738209008740179,-0.0589125175747694,0.017107396677287147,0.7644982873444361,0.6639274540608573,-0.12251218651735041,-0.7796253879667432,-0.6880200047626301,0.1505605583707459,0.8712522462977907,0.5488849575194616,-0.37271849621961317,-0.5296176138374957,-0.591551587537795,0.23817527626435095,0.8050723938015567,0.5790429191975599,0.06828756375155758,-0.7164682025872902,-1.0550622173808273,-0.37462496204415197,0.7393486745399949,1.0271280197399244,0.9781376849515214,0.45220360500912987,-0.3530214380265579,-1.091027669382279,-0.42207000983243104,0.42327712078848384,0.8620443933440602,0.7030418235509368,-0.20506885242874406,-0.6977159738004021,-0.9226493158184652,-0.22474785387613436,0.9249436089996756,0.7853786349945939,-0.02116860471875935,-0.6255998870476451,-0.631714172295192,-0.30967349717883164,0.5497715765589533,0.9533584122733141,-0.03215477291763222,0.2636999050540943,0.11054827406343036,-0.25915963860262303,-0.10557132083731782,0.07006221019776704,0.3624221815157803,-0.07073079710893265,-0.1070153015453,-0.08603611064262205,-0.23837769162672884,0.046629361251131415,-0.004417527782272848,0.03366569527626519,0.05789216648306783,-0.025717691201803575,0.07607795809314732,0.018812687400860145,0.26174816006731594,-0.06208481254292536,-0.76528653664624,-0.4862188621318183,0.3133171250891015,0.7147690105796147,0.6029675411278789,-0.2857586692493955,-0.6707302937490607,-0.5614136842181006,0.3513914210667731,0.5675501838733519,0.7680548021948944,-0.12591570400950242,-0.7546308951843215,-0.5194856805823556,-0.2175827059610731,0.38552922559672714,0.5622839443686002,0.19490052311536749,-0.30839109615192617,-0.7881044737624858,-1.033549374848698,-0.7262695565740793,0.5162760787200962,1.193361654128566,0.4517245630677305,-0.4309301085936253,-0.9786169488792389,-0.9188090479588302,0.10681386639704418,0.9771306377034092,0.7991655253816083,-0.1710688433024114,-0.7995973458095906,-1.059946874993482,-0.369139787247255,0.6898281336218726,0.9092145793937784,0.5028837039243087,-0.7157898780414771,-1.1821436207658205,-0.057223203866258066,-0.09195071535248803,0.2795439726143853,0.13748592910873036,0.24990678383436765,-0.26609213611371957,-0.1848429990656016,-0.2902641848906075,0.0402426433825505,0.4949321883653508,0.23963934368736062,-0.06190802909382307,-0.3921322008066669,-0.22957422993299537,0.21046512083865818,0.14745322798643906,0.022783322372244452,0.21023105995837468,0.005393930045925699,-0.3824210416029498,0.7797081482195283,0.20504529504170044,-0.3939682774935473,-0.5983599395356112,-0.2726017595679989,0.049965563901424925,0.566180201469153,0.7398569874429202,0.018815268343315233,-0.6493284876602624,-0.7725896182182368,-0.18015279735181816,0.6010631369488727,0.5405595367197991,0.18429261598816388,-0.7404139564585985,-0.6065479076792625,0.053230543115544815,0.3160288578589007,0.5314795007363309,0.7427888233695412,0.5207254713601462,-0.30962048312486196,-1.1326321350171198,-0.404604633479289,0.3501093331530283,1.0787943333678531,0.6302000813041578,0.03521558013938225,-0.7491647842294848,-0.7875771960957324,0.2065649007883066,0.948427190237945,0.7604436057458808,0.0018506033801996002,-0.8812107519722929,-1.112202186397587,-0.180058379247654,0.8696889405954361,1.0628504052208239],\"y\":[-0.08454426927067688,-0.22386392906483055,0.15516892168487922,-0.012134965509793427,0.044613483735313986,0.054327425538371776,0.24512941656462323,0.11551930487298617,0.003996784228833095,0.023234252702685143,0.1994459534864556,0.1403078552113925,0.03191819788082634,0.12227652520560944,0.09041335060080996,-0.204676125720965,0.12973355783136054,0.21852107563717554,0.0016255394869308382,0.1575376650853244,1.029248919617701,0.3591531320820972,-0.5828877500103055,-0.7103205291765635,-0.6839378757129684,0.30655033076234367,0.718036463246392,0.7853781734628156,0.12309821770228029,-0.7317186834725269,-0.5092063138232823,-0.06822113439739547,0.6135472191264459,0.6300792958443757,0.33134527333950037,-0.6817998558728112,-0.7898543658941841,-0.32765302051336,0.6357414365621996,0.7147386027595293,0.9417503779663912,0.5271201966164257,-0.1815462581959924,-1.0465344796057838,-0.6235609937916096,0.05888280727100004,0.7354951412820363,0.5107519413362946,0.06475667428731305,-0.9739797803621074,-0.9862579198062098,-0.18911396206710818,0.7230521032012156,0.5999193693355545,0.2951261971286139,-0.7585574640560695,-1.0683025318267734,-0.13965705635140174,0.3641113038836463,1.033954909337885,0.3556756458242044,-0.022400772004057684,-0.10851047280680398,-0.053235192576739254,-0.1557999076584522,0.08164223640650325,-0.009889913881976298,0.11505403220672855,-0.04205591245951083,0.023329238457553525,-0.23501418189275064,0.06408393487105572,0.09692414630982593,0.2401820509114171,0.26428376771673573,0.12106355523490918,-0.07755399907399144,-0.08362943596816906,0.07532770887387148,-0.029766228306832065,-0.864888052803171,-0.5110229149540331,0.45216653318710015,0.8341228087968231,0.5445688099316441,-0.29394749656688013,-0.6291646877888508,-0.4843734576856959,0.132306234260765,0.6503198755906496,0.5464760104817672,-0.03912233117808405,-0.4362374314481373,-0.446417775629429,-0.3327123528321514,0.41515580161970594,0.47969073837571163,-0.03710704100011172,-0.46366089724059634,-0.5511053144246156,-1.163352602413195,-0.5933172957673765,0.349343461320667,1.0875383911892378,0.41290744275106184,-0.3238010883833787,-0.7052513887279817,-0.6735657211362538,0.3449881835213785,0.9872046346082786,0.9052026104895341,-0.13391285700103966,-0.7023786961707108,-1.0118781240055565,-0.23189015019992237,0.7154801079294005,1.1091354405539138,0.18369374158634533,-0.6192197253451481,-0.8351220149086629,-0.27949111116719905,-0.039797138635779716,-0.05730855854490294,0.06013180793609624,0.27090973271010466,0.15212167689096862,-0.19385575790199444,-0.11563657267584279,-0.08339265673342512,0.033305101566074025,0.1578957776910816,-0.1378365443653606,-0.4135389984320478,-0.3676989571816488,0.02356083150921895,0.20558522398427395,0.42320159374277205,0.06112948666790706,-0.03562945718377067,-0.35171746184388486,0.41748791325704215,0.19648866640569457,-0.12763779429901906,-0.4866140084485763,-0.3997454332388782,0.28803180720206073,0.8416321122220685,0.40132372826731777,0.15119859812200426,-0.8357767415722039,-0.38731815301738376,0.22825787998138874,0.31476169672722315,0.6921239842020446,-0.09746812232547744,-0.4020839594294132,-0.74600254774352,-0.39572153762214257,0.28165704011845255,0.6382799422940338,1.1657292605646186,0.321166409445252,-0.3132797958117871,-0.9894818721998946,-0.6660785308207458,0.2077614963307859,0.7343940574660548,0.9761142461973747,-0.12756292882700715,-0.8092389687599286,-0.716755339926719,-0.2295243142116482,0.839304026822679,1.1401272085052696,0.26209958808859446,-0.6207211653728889,-1.134314048302521,-0.16796497323308285,0.830837692684683,0.7939136302283997,0.5823885262964792,0.43768302573598356,-0.2547960108546816,-0.3330582089143424,-0.1960505259715996,-0.03201816223197744,0.21072302842968105,0.43741725010367855,-0.0945671185082663,-0.1295605361817898,-0.17452146360220272,-0.1410252786719146,0.3531213050251612,0.3148366387766969,-0.15979446217316845,-0.254378871331404,-0.444950038761584,-0.24083253620443867,0.36227518263032393,0.33783455786428507,-0.4147736061325274,-0.37070228943189926,0.015101308815516495,0.5416133989635015,0.151793272591978,-0.3652322821591838,-0.5418182089697114,-0.2893923263683377,0.21262936494966042,0.26618287873887386,0.5159467265881788,0.07563462840683537,-0.5880540992103875,-0.6080258395130043,0.04072373268049177,0.4916494530917477,0.6679014915596337,0.084778235106201,-0.5371423595317528,-0.6877373317325065,-0.9209216568101293,-0.5227467721793944,0.5405932499529267,1.213057014316268,0.8073868087156191,-0.19297598209345845,-1.0727725971718565,-0.5705560614018167,0.014734230828541112,0.8676757854570586,0.8686976470782815,0.009156268103055375,-0.6877061527069137,-0.9638388731571685,-0.3426217913108758,0.7352951542907242,1.1000545771698291,0.5250890326895221,-0.624983761970777,-1.1675039264799514,-0.2922109258343394,-0.24560280116674238,0.2607657571794932,0.6669759257835421,0.4358624201873124,-0.3466566037235745,-0.6339585509237691,-0.31755113268419777,-0.0820237727067957,0.6124013519416717,0.39371749638166176,0.04721526333098641,-0.6492839728914785,-0.7129381865221686,0.11830334862792516,0.3091200032509631,0.26442734861015615,0.1607733975830916,-0.18063152663300913,-0.2872393012503907,0.6000103239953238,0.05597250269221496,-0.07127903111811942,-0.24038486635123724,-0.31583213568306995,0.23011908260784553,0.48913062111736255,0.09448013416195716,0.022216372547595592,-0.39926366943473834,-0.4576887240526875,-0.14936620356902433,0.476208831951554,0.6246641057476576,0.2153200073983727,-0.434838622135288,-0.4309119834107111,-0.2578965884966025,0.20808366860830085,0.4302442605047435,1.02528967662511,0.36283755146365343,-0.537655940353529,-1.0929951778608018,-0.5297862029028622,0.14273406448206744,1.0837238964670535,0.9764472521105185,-0.3584858190248682,-1.111809323632412,-1.058336885465629,-0.21285823039100307,0.6439926197577377,0.8985257862517051,-0.007317061476388165,-0.5107861736202544,-0.7998529837207695,-0.3314240555105165,0.7346173908453772,0.7949335661950143,0.7440493884750814,0.4559067689622166,-0.4785414778298512,-0.6992621442468057,-0.6198770539737825,0.040576041357457904,0.5826019277390173,0.5900557127095785,0.018242201282778106,-0.5674980447324464,-0.7318790976537647,0.0658502545297514,0.6315912237131585,0.41836475687166247,0.3278897158614743,-0.6531734595987109,-0.6259558745003977,-0.0745220656742005,0.2190783231575364,0.4227342993960381,-0.4565117051521216,0.04722375496542472,0.14570605731921416,0.18583325944765694,0.42209207128507575,-0.28231304790521505,-0.04107832520291804,-0.1800138541581809,0.1130519913991794,0.3056056700421931,0.337181877732167,-0.06456152964900237,-0.020264313219915342,-0.1075397731527521,-0.06130372347760537,0.10877528089333405,0.09338049383846841,0.22101693387774912,0.000714094199486065,-0.34516002799799483,-0.905214869001741,-0.6696897800823721,0.6058326384245764,1.0603751791428913,0.7879671361462433,-0.022937172504142955,-1.072841061044366,-0.5264126171854671,-0.05962936468250141,0.7869037350903633,1.0440912709394639,-0.14469026338338173,-0.772805135799105,-0.7211653882257831,-0.27012457821211144,0.724423423781307,1.086102945334374,0.1920179831483077,-0.6840648140074592,-0.9779762231121849,-0.8394021806870675,-0.39736415361527627,0.17220772639373905,0.7289008345518291,0.46555207262955023,-0.10746192019756032,-0.7585593284283764,-0.45712359902023886,0.3189752623812023,0.8538182173355471,0.80695416725058,0.1924650763561949,-0.8459393689322838,-0.4538197190257274,0.12433544795466313,0.7608414727568513,0.7711869072984878,0.10792310882830719,-0.344570864706119,-0.922006296511422,0.335644085097073,-0.04463850554203931,-0.0852259711989567,0.048137412823781034,-0.17479361551866862,-0.1786732313011311,0.0926049260468863,0.07636387202354313,0.18180192711272003,-0.10384856300378317,-0.27499758650947415,-0.0257611299082338,-0.10181922718099079,0.32501270737638654,-0.20023842763077157,-0.0999345812994788,-0.18435154280765634,0.11422336870995516,-0.05337474408029594,0.15024541634226588],\"z\":[0.02097063587318848,0.9668410788525835,0.7140020127165925,0.00376366858989155,-0.5826970786191503,-1.1863429419366596,-0.5281859016951165,0.8390395127443822,1.0630831884073406,0.41042102461279184,-0.37739852548477587,-0.8065190944687725,-0.4128631201787796,0.17655120165683286,0.9999171668541245,0.41862738438999647,-0.4247799026692521,-0.7639932039795252,-0.7429503788883781,0.3578211682899972,0.13971886173964582,0.6040241190890695,0.9814449257296788,0.20243983209934044,-0.7294036989217823,-0.9947208620927878,-0.15278430130734522,0.8740884862332094,1.2120705789056834,0.30409874411227417,-0.5566659593683811,-0.7750978754208941,-0.6554761376392937,0.5907254974780313,0.8576342275332665,0.5873853895009504,-0.2635226360262867,-0.7275771951869012,-0.5011825412049926,0.3666266494112993,0.20059566536304585,0.8899879264139636,0.9485879801610122,0.13907331224741618,-0.7284687333487082,-0.7539633732339506,-0.4516300620979054,0.7573832936694835,0.9157964210662949,0.2692087194068761,-0.3496455583570595,-1.0347059279590893,-0.412789631107069,0.4115774192958057,0.8303922802195081,0.6567783298869391,-0.23820967029581785,-1.1345658285238018,-0.712126396951371,-0.013317511856524494,-0.23356776656429612,0.7090528789317476,0.9590132681269312,-0.07117742721186374,-0.8181219033797908,-0.8883368813412538,-0.2860354201709783,0.5630113867566235,1.18807202685851,0.6152080829695046,-0.38488899205577365,-1.1938840134550015,-0.7152335245297787,0.588026290845842,1.0648258583985872,0.7657396886459785,-0.46673079119005906,-1.0647371854924002,-0.5809926653221131,0.17851817757360625,-0.12419909016267827,0.8101815406013539,1.1050527702941664,0.16863851868359772,-0.8865733691238278,-0.9756841873820409,-0.19767744208673788,0.8425893535917869,0.7838471540040934,0.49626883434230096,-0.38028124971168076,-0.8172362674856046,-0.40495857351854986,0.6676291121209892,1.0377181491027674,0.7866926306292918,-0.34547558559599434,-1.1098238516879555,-0.7158027433805193,-0.08956773738286658,0.22942637364496254,1.07273266564896,0.9432937946554071,0.12297782695629553,-0.724263082329857,-1.113362132336745,-0.44124450104869334,0.6156142181938966,0.7497479929275426,0.6553222004065827,-0.32207938383935825,-0.8942445621063589,-0.6701562577016285,0.1865486414167259,1.0322045772014163,0.7135540642790094,-0.24185860142506804,-0.8036506960945962,-0.6428060805829416,0.1388589882076284,0.06253668956914493,0.6713850784047476,0.9342386367083652,0.03976182238484313,-0.8676037346113665,-1.1403487784431525,-0.37999528118830167,0.8246329921124969,0.8464476938639013,0.5359360925120826,-0.7591128237392752,-1.1216139822009514,-0.5644933673559436,0.38168117197218987,1.1921332539951925,0.7895032037156121,-0.4476246263965105,-0.9807984695590259,-0.5857291318900075,0.3130710694037455,0.23313056013829425,1.0902206369747773,1.1553813361724399,0.3434624535510774,-0.895663394650237,-0.7347468548709007,-0.29432506656995794,0.46000942452521604,0.8133055743827605,0.5631848876497116,-0.5481656109316861,-0.8011072586150335,-0.43311038334576163,0.1858938273933861,1.0050651851379926,0.8210810860927993,-0.4672998382707018,-1.0349322097919351,-0.9583009188067727,0.18614619483057873,0.24752225817074314,0.898808898096667,1.1463539170017891,-0.013408027726318189,-0.6455084831854521,-0.9355752450373223,-0.07856284038212069,0.4301206956796813,0.9152960382198393,0.4026170442220533,-0.332356955137421,-0.7534283371318267,-0.6510535958995379,0.47557483403914813,0.9382895573362303,0.8158276102196937,-0.1352519840281825,-0.7325467652773805,-0.9128446186624676,-0.03546676881060565,-0.23457393524645048,0.849818420655302,0.7604273884507065,-0.007009664040110691,-0.9051013373412677,-0.7325781277707177,-0.4239619409296336,0.7316802125400234,1.2272020949467393,0.1961259016258151,-0.6322158395256177,-0.8909245704756146,-0.4442375706230469,0.4127751545742155,1.087501830344162,0.4761137294368994,-0.5271052207412514,-1.143078088582175,-0.5466826540396642,0.03840361916538801,0.17944386667644624,0.8031988456671597,1.1254988571234816,-0.052939801070768205,-0.7599214073878052,-0.8040832145694904,-0.18511113403270396,0.5475436529736044,1.064814612867537,0.31939069088437505,-0.34965964662619853,-0.9779468880708058,-0.4753146722978314,0.21773682308495557,1.1563471062545356,0.5244482360384488,-0.15098520123939457,-1.0755451149726079,-0.9833160096845683,0.3397867914503515,0.21165361126074056,0.6509603324311095,1.1584736025154951,0.15814035210867874,-0.8245302379717953,-1.181469418089828,-0.22312984567274657,0.8600913241168123,0.9145641747736311,0.1976182707956175,-0.7687064408620232,-0.8190205315357169,-0.710560655677678,0.26638886870902034,0.960846076001734,0.708114804148601,-0.15691425969509304,-0.7174281126422068,-0.7745149200495047,0.2497826712787468,0.20774358183981106,0.7934784292103334,0.6824779187396772,0.23191703789448573,-0.7460546628766305,-0.9548912923619275,-0.350857142079957,0.7660201101085988,0.8795017363096556,0.5785081711693149,-0.7677320259802314,-0.7563761866184788,-0.4476608317728014,0.461325718546603,1.1863513291136811,0.7305744420196336,-0.15110671849615898,-0.7312692321806559,-0.5538959671797423,0.30323991337797007,-0.020057148982242923,0.7639195550142979,1.0291751424307474,-0.09372622125705224,-0.7719745260856739,-1.119127446564029,-0.2040464931267239,0.8905954952058006,0.7929483847875828,0.5823285592637686,-0.6968746176650581,-1.2020907514021357,-0.4084228915012457,0.3794044034020093,1.189366069532417,0.6956312285514399,-0.20473294357860305,-0.9688630273272953,-0.7401852806458955,0.05383943725873655,0.13404734611284252,0.9280280471338911,0.7976142449447482,0.16687787093217807,-0.5538821140428126,-1.0758117746624176,-0.13092881551978797,0.40887773958126405,1.1391372030037665,0.2501622478085224,-0.4939024669954243,-1.2240653219137345,-0.6799576167776531,0.35986392201052636,1.2024297965155155,0.6455605356403975,-0.15578758322799424,-1.1893486777534426,-0.7997209650677908,0.3347798381761147,-0.05395309744015203,0.972220718308421,1.03738902877512,0.10959055980399815,-0.5090862309045725,-1.1817405417298512,-0.36034631746316187,0.7810818639666357,1.2386658684783787,0.455834552901333,-0.4308133594752864,-0.8283600570985983,-0.3174980412725414,0.5930584747979826,1.0833195811946779,0.5198878369031017,-0.21077480363478635,-1.155870445266098,-0.8306843988850143,-0.08396545049511553,-0.07946673777683455,0.8422223094005907,1.1397966688889274,0.27411145433817197,-0.9919400336675317,-0.7949260577384287,-0.2849252488162235,0.47762092658527433,0.7436152877638635,0.3441907197775738,-0.7880153639343905,-0.8619069877126011,-0.6180654508442698,0.354554096257069,0.9822921250605154,0.506412019598429,-0.0939768685921678,-0.8223248377719647,-0.5310647078767796,0.2815395005558333,-0.01998007051605255,0.7109687284781128,0.8597786018699185,-0.02125578427187272,-0.7702514370308897,-1.1656930240505567,-0.15603761203823802,0.6980958480609529,1.2247805255621402,0.5572727005788518,-0.35115906966652366,-0.788964607942954,-0.6590767475004946,0.23962514996159306,0.8052924181731927,0.47294844131463093,-0.4482676495683748,-1.148475513744474,-0.8799363599173504,-0.09573186990824675,-0.10999038502113556,0.6695251916144151,1.0962873530472643,0.24149684780212796,-0.5276218927908813,-0.8196520323378632,-0.1619009664141351,0.5604048689837655,1.1040923404192275,0.46784072491325257,-0.7623381397260265,-0.8254441265242157,-0.7760946312390551,0.22169426291149186,0.7787983971009089,0.5382925996516963,-0.4391247811352601,-0.9692337525190615,-0.6589406226011993,-0.046206777307948116,-0.08176098429022383,1.040381586222766,0.8687563986300396,0.34598661216560767,-0.663934870073613,-1.178625012693262,-0.07404439522888273,0.5805261191739088,0.8192399768882894,0.44440807761859064,-0.7929700988091453,-1.0926176928608764,-0.30054158609279313,0.2630986424892758,0.9321391595612453,0.46116464558501596,-0.4672486807415812,-0.7428170915922988,-0.976436355686028,-0.0014541962151347343],\"type\":\"scatter3d\"}],                        {\"template\":{\"data\":{\"histogram2dcontour\":[{\"type\":\"histogram2dcontour\",\"colorbar\":{\"outlinewidth\":0,\"ticks\":\"\"},\"colorscale\":[[0.0,\"#0d0887\"],[0.1111111111111111,\"#46039f\"],[0.2222222222222222,\"#7201a8\"],[0.3333333333333333,\"#9c179e\"],[0.4444444444444444,\"#bd3786\"],[0.5555555555555556,\"#d8576b\"],[0.6666666666666666,\"#ed7953\"],[0.7777777777777778,\"#fb9f3a\"],[0.8888888888888888,\"#fdca26\"],[1.0,\"#f0f921\"]]}],\"choropleth\":[{\"type\":\"choropleth\",\"colorbar\":{\"outlinewidth\":0,\"ticks\":\"\"}}],\"histogram2d\":[{\"type\":\"histogram2d\",\"colorbar\":{\"outlinewidth\":0,\"ticks\":\"\"},\"colorscale\":[[0.0,\"#0d0887\"],[0.1111111111111111,\"#46039f\"],[0.2222222222222222,\"#7201a8\"],[0.3333333333333333,\"#9c179e\"],[0.4444444444444444,\"#bd3786\"],[0.5555555555555556,\"#d8576b\"],[0.6666666666666666,\"#ed7953\"],[0.7777777777777778,\"#fb9f3a\"],[0.8888888888888888,\"#fdca26\"],[1.0,\"#f0f921\"]]}],\"heatmap\":[{\"type\":\"heatmap\",\"colorbar\":{\"outlinewidth\":0,\"ticks\":\"\"},\"colorscale\":[[0.0,\"#0d0887\"],[0.1111111111111111,\"#46039f\"],[0.2222222222222222,\"#7201a8\"],[0.3333333333333333,\"#9c179e\"],[0.4444444444444444,\"#bd3786\"],[0.5555555555555556,\"#d8576b\"],[0.6666666666666666,\"#ed7953\"],[0.7777777777777778,\"#fb9f3a\"],[0.8888888888888888,\"#fdca26\"],[1.0,\"#f0f921\"]]}],\"heatmapgl\":[{\"type\":\"heatmapgl\",\"colorbar\":{\"outlinewidth\":0,\"ticks\":\"\"},\"colorscale\":[[0.0,\"#0d0887\"],[0.1111111111111111,\"#46039f\"],[0.2222222222222222,\"#7201a8\"],[0.3333333333333333,\"#9c179e\"],[0.4444444444444444,\"#bd3786\"],[0.5555555555555556,\"#d8576b\"],[0.6666666666666666,\"#ed7953\"],[0.7777777777777778,\"#fb9f3a\"],[0.8888888888888888,\"#fdca26\"],[1.0,\"#f0f921\"]]}],\"contourcarpet\":[{\"type\":\"contourcarpet\",\"colorbar\":{\"outlinewidth\":0,\"ticks\":\"\"}}],\"contour\":[{\"type\":\"contour\",\"colorbar\":{\"outlinewidth\":0,\"ticks\":\"\"},\"colorscale\":[[0.0,\"#0d0887\"],[0.1111111111111111,\"#46039f\"],[0.2222222222222222,\"#7201a8\"],[0.3333333333333333,\"#9c179e\"],[0.4444444444444444,\"#bd3786\"],[0.5555555555555556,\"#d8576b\"],[0.6666666666666666,\"#ed7953\"],[0.7777777777777778,\"#fb9f3a\"],[0.8888888888888888,\"#fdca26\"],[1.0,\"#f0f921\"]]}],\"surface\":[{\"type\":\"surface\",\"colorbar\":{\"outlinewidth\":0,\"ticks\":\"\"},\"colorscale\":[[0.0,\"#0d0887\"],[0.1111111111111111,\"#46039f\"],[0.2222222222222222,\"#7201a8\"],[0.3333333333333333,\"#9c179e\"],[0.4444444444444444,\"#bd3786\"],[0.5555555555555556,\"#d8576b\"],[0.6666666666666666,\"#ed7953\"],[0.7777777777777778,\"#fb9f3a\"],[0.8888888888888888,\"#fdca26\"],[1.0,\"#f0f921\"]]}],\"mesh3d\":[{\"type\":\"mesh3d\",\"colorbar\":{\"outlinewidth\":0,\"ticks\":\"\"}}],\"scatter\":[{\"fillpattern\":{\"fillmode\":\"overlay\",\"size\":10,\"solidity\":0.2},\"type\":\"scatter\"}],\"parcoords\":[{\"type\":\"parcoords\",\"line\":{\"colorbar\":{\"outlinewidth\":0,\"ticks\":\"\"}}}],\"scatterpolargl\":[{\"type\":\"scatterpolargl\",\"marker\":{\"colorbar\":{\"outlinewidth\":0,\"ticks\":\"\"}}}],\"bar\":[{\"error_x\":{\"color\":\"#2a3f5f\"},\"error_y\":{\"color\":\"#2a3f5f\"},\"marker\":{\"line\":{\"color\":\"#E5ECF6\",\"width\":0.5},\"pattern\":{\"fillmode\":\"overlay\",\"size\":10,\"solidity\":0.2}},\"type\":\"bar\"}],\"scattergeo\":[{\"type\":\"scattergeo\",\"marker\":{\"colorbar\":{\"outlinewidth\":0,\"ticks\":\"\"}}}],\"scatterpolar\":[{\"type\":\"scatterpolar\",\"marker\":{\"colorbar\":{\"outlinewidth\":0,\"ticks\":\"\"}}}],\"histogram\":[{\"marker\":{\"pattern\":{\"fillmode\":\"overlay\",\"size\":10,\"solidity\":0.2}},\"type\":\"histogram\"}],\"scattergl\":[{\"type\":\"scattergl\",\"marker\":{\"colorbar\":{\"outlinewidth\":0,\"ticks\":\"\"}}}],\"scatter3d\":[{\"type\":\"scatter3d\",\"line\":{\"colorbar\":{\"outlinewidth\":0,\"ticks\":\"\"}},\"marker\":{\"colorbar\":{\"outlinewidth\":0,\"ticks\":\"\"}}}],\"scattermapbox\":[{\"type\":\"scattermapbox\",\"marker\":{\"colorbar\":{\"outlinewidth\":0,\"ticks\":\"\"}}}],\"scatterternary\":[{\"type\":\"scatterternary\",\"marker\":{\"colorbar\":{\"outlinewidth\":0,\"ticks\":\"\"}}}],\"scattercarpet\":[{\"type\":\"scattercarpet\",\"marker\":{\"colorbar\":{\"outlinewidth\":0,\"ticks\":\"\"}}}],\"carpet\":[{\"aaxis\":{\"endlinecolor\":\"#2a3f5f\",\"gridcolor\":\"white\",\"linecolor\":\"white\",\"minorgridcolor\":\"white\",\"startlinecolor\":\"#2a3f5f\"},\"baxis\":{\"endlinecolor\":\"#2a3f5f\",\"gridcolor\":\"white\",\"linecolor\":\"white\",\"minorgridcolor\":\"white\",\"startlinecolor\":\"#2a3f5f\"},\"type\":\"carpet\"}],\"table\":[{\"cells\":{\"fill\":{\"color\":\"#EBF0F8\"},\"line\":{\"color\":\"white\"}},\"header\":{\"fill\":{\"color\":\"#C8D4E3\"},\"line\":{\"color\":\"white\"}},\"type\":\"table\"}],\"barpolar\":[{\"marker\":{\"line\":{\"color\":\"#E5ECF6\",\"width\":0.5},\"pattern\":{\"fillmode\":\"overlay\",\"size\":10,\"solidity\":0.2}},\"type\":\"barpolar\"}],\"pie\":[{\"automargin\":true,\"type\":\"pie\"}]},\"layout\":{\"autotypenumbers\":\"strict\",\"colorway\":[\"#636efa\",\"#EF553B\",\"#00cc96\",\"#ab63fa\",\"#FFA15A\",\"#19d3f3\",\"#FF6692\",\"#B6E880\",\"#FF97FF\",\"#FECB52\"],\"font\":{\"color\":\"#2a3f5f\"},\"hovermode\":\"closest\",\"hoverlabel\":{\"align\":\"left\"},\"paper_bgcolor\":\"white\",\"plot_bgcolor\":\"#E5ECF6\",\"polar\":{\"bgcolor\":\"#E5ECF6\",\"angularaxis\":{\"gridcolor\":\"white\",\"linecolor\":\"white\",\"ticks\":\"\"},\"radialaxis\":{\"gridcolor\":\"white\",\"linecolor\":\"white\",\"ticks\":\"\"}},\"ternary\":{\"bgcolor\":\"#E5ECF6\",\"aaxis\":{\"gridcolor\":\"white\",\"linecolor\":\"white\",\"ticks\":\"\"},\"baxis\":{\"gridcolor\":\"white\",\"linecolor\":\"white\",\"ticks\":\"\"},\"caxis\":{\"gridcolor\":\"white\",\"linecolor\":\"white\",\"ticks\":\"\"}},\"coloraxis\":{\"colorbar\":{\"outlinewidth\":0,\"ticks\":\"\"}},\"colorscale\":{\"sequential\":[[0.0,\"#0d0887\"],[0.1111111111111111,\"#46039f\"],[0.2222222222222222,\"#7201a8\"],[0.3333333333333333,\"#9c179e\"],[0.4444444444444444,\"#bd3786\"],[0.5555555555555556,\"#d8576b\"],[0.6666666666666666,\"#ed7953\"],[0.7777777777777778,\"#fb9f3a\"],[0.8888888888888888,\"#fdca26\"],[1.0,\"#f0f921\"]],\"sequentialminus\":[[0.0,\"#0d0887\"],[0.1111111111111111,\"#46039f\"],[0.2222222222222222,\"#7201a8\"],[0.3333333333333333,\"#9c179e\"],[0.4444444444444444,\"#bd3786\"],[0.5555555555555556,\"#d8576b\"],[0.6666666666666666,\"#ed7953\"],[0.7777777777777778,\"#fb9f3a\"],[0.8888888888888888,\"#fdca26\"],[1.0,\"#f0f921\"]],\"diverging\":[[0,\"#8e0152\"],[0.1,\"#c51b7d\"],[0.2,\"#de77ae\"],[0.3,\"#f1b6da\"],[0.4,\"#fde0ef\"],[0.5,\"#f7f7f7\"],[0.6,\"#e6f5d0\"],[0.7,\"#b8e186\"],[0.8,\"#7fbc41\"],[0.9,\"#4d9221\"],[1,\"#276419\"]]},\"xaxis\":{\"gridcolor\":\"white\",\"linecolor\":\"white\",\"ticks\":\"\",\"title\":{\"standoff\":15},\"zerolinecolor\":\"white\",\"automargin\":true,\"zerolinewidth\":2},\"yaxis\":{\"gridcolor\":\"white\",\"linecolor\":\"white\",\"ticks\":\"\",\"title\":{\"standoff\":15},\"zerolinecolor\":\"white\",\"automargin\":true,\"zerolinewidth\":2},\"scene\":{\"xaxis\":{\"backgroundcolor\":\"#E5ECF6\",\"gridcolor\":\"white\",\"linecolor\":\"white\",\"showbackground\":true,\"ticks\":\"\",\"zerolinecolor\":\"white\",\"gridwidth\":2},\"yaxis\":{\"backgroundcolor\":\"#E5ECF6\",\"gridcolor\":\"white\",\"linecolor\":\"white\",\"showbackground\":true,\"ticks\":\"\",\"zerolinecolor\":\"white\",\"gridwidth\":2},\"zaxis\":{\"backgroundcolor\":\"#E5ECF6\",\"gridcolor\":\"white\",\"linecolor\":\"white\",\"showbackground\":true,\"ticks\":\"\",\"zerolinecolor\":\"white\",\"gridwidth\":2}},\"shapedefaults\":{\"line\":{\"color\":\"#2a3f5f\"}},\"annotationdefaults\":{\"arrowcolor\":\"#2a3f5f\",\"arrowhead\":0,\"arrowwidth\":1},\"geo\":{\"bgcolor\":\"white\",\"landcolor\":\"#E5ECF6\",\"subunitcolor\":\"white\",\"showland\":true,\"showlakes\":true,\"lakecolor\":\"white\"},\"title\":{\"x\":0.05},\"mapbox\":{\"style\":\"light\"}}},\"scene\":{\"xaxis\":{\"title\":{\"text\":\"0th\"},\"type\":\"linear\",\"showexponent\":\"all\",\"exponentformat\":\"e\"},\"yaxis\":{\"title\":{\"text\":\"1st\"},\"type\":\"linear\",\"showexponent\":\"all\",\"exponentformat\":\"e\"},\"zaxis\":{\"title\":{\"text\":\"2nd\"},\"type\":\"linear\",\"showexponent\":\"all\",\"exponentformat\":\"e\"}}},                        {\"responsive\": true}                    ).then(function(){\n",
              "                            \n",
              "var gd = document.getElementById('c9861d50-84a8-4f99-8fe4-6711acafb29e');\n",
              "var x = new MutationObserver(function (mutations, observer) {{\n",
              "        var display = window.getComputedStyle(gd).display;\n",
              "        if (!display || display === 'none') {{\n",
              "            console.log([gd, 'removed!']);\n",
              "            Plotly.purge(gd);\n",
              "            observer.disconnect();\n",
              "        }}\n",
              "}});\n",
              "\n",
              "// Listen for the removal of the full notebook cells\n",
              "var notebookContainer = gd.closest('#notebook-container');\n",
              "if (notebookContainer) {{\n",
              "    x.observe(notebookContainer, {childList: true});\n",
              "}}\n",
              "\n",
              "// Listen for the clearing of the current output cell\n",
              "var outputEl = gd.closest('.output');\n",
              "if (outputEl) {{\n",
              "    x.observe(outputEl, {childList: true});\n",
              "}}\n",
              "\n",
              "                        })                };                            </script>        </div>\n",
              "</body>\n",
              "</html>"
            ]
          },
          "metadata": {},
          "output_type": "display_data"
        }
      ],
      "source": [
        "plot_point_cloud(point_clouds_basic[100])"
      ]
    },
    {
      "cell_type": "code",
      "execution_count": null,
      "metadata": {
        "colab": {
          "base_uri": "https://localhost:8080/",
          "height": 542
        },
        "id": "pqI8s7FVcxI3",
        "outputId": "03927fe7-f1e0-4286-8213-6f9847bb76bf"
      },
      "outputs": [
        {
          "data": {
            "text/html": [
              "<html>\n",
              "<head><meta charset=\"utf-8\" /></head>\n",
              "<body>\n",
              "    <div>            <script src=\"https://cdnjs.cloudflare.com/ajax/libs/mathjax/2.7.5/MathJax.js?config=TeX-AMS-MML_SVG\"></script><script type=\"text/javascript\">if (window.MathJax && window.MathJax.Hub && window.MathJax.Hub.Config) {window.MathJax.Hub.Config({SVG: {font: \"STIX-Web\"}});}</script>                <script type=\"text/javascript\">window.PlotlyConfig = {MathJaxConfig: 'local'};</script>\n",
              "        <script charset=\"utf-8\" src=\"https://cdn.plot.ly/plotly-2.24.1.min.js\"></script>                <div id=\"37c780e6-8933-42c9-9d99-a0502935573c\" class=\"plotly-graph-div\" style=\"height:525px; width:100%;\"></div>            <script type=\"text/javascript\">                                    window.PLOTLYENV=window.PLOTLYENV || {};                                    if (document.getElementById(\"37c780e6-8933-42c9-9d99-a0502935573c\")) {                    Plotly.newPlot(                        \"37c780e6-8933-42c9-9d99-a0502935573c\",                        [{\"marker\":{\"color\":[0,1,2,3,4,5,6,7,8,9,10,11,12,13,14,15,16,17,18,19,20,21,22,23,24,25,26,27,28,29,30,31,32,33,34,35,36,37,38,39,40,41,42,43,44,45,46,47,48,49,50,51,52,53,54,55,56,57,58,59,60,61,62,63,64,65,66,67,68,69,70,71,72,73,74,75,76,77,78,79,80,81,82,83,84,85,86,87,88,89,90,91,92,93,94,95,96,97,98,99,100,101,102,103,104,105,106,107,108,109,110,111,112,113,114,115,116,117,118,119,120,121,122,123,124,125,126,127,128,129,130,131,132,133,134,135,136,137,138,139,140,141,142,143,144,145,146,147,148,149,150,151,152,153,154,155,156,157,158,159,160,161,162,163,164,165,166,167,168,169,170,171,172,173,174,175,176,177,178,179,180,181,182,183,184,185,186,187,188,189,190,191,192,193,194,195,196,197,198,199,200,201,202,203,204,205,206,207,208,209,210,211,212,213,214,215,216,217,218,219,220,221,222,223,224,225,226,227,228,229,230,231,232,233,234,235,236,237,238,239,240,241,242,243,244,245,246,247,248,249,250,251,252,253,254,255,256,257,258,259,260,261,262,263,264,265,266,267,268,269,270,271,272,273,274,275,276,277,278,279,280,281,282,283,284,285,286,287,288,289,290,291,292,293,294,295,296,297,298,299,300,301,302,303,304,305,306,307,308,309,310,311,312,313,314,315,316,317,318,319,320,321,322,323,324,325,326,327,328,329,330,331,332,333,334,335,336,337,338,339,340,341,342,343,344,345,346,347,348,349,350,351,352,353,354,355,356,357,358,359,360,361,362,363,364,365,366,367,368,369,370,371,372,373,374,375,376,377,378,379,380,381,382,383,384,385,386,387,388,389,390,391,392,393,394,395,396,397,398,399],\"colorscale\":[[0.0,\"#440154\"],[0.1111111111111111,\"#482878\"],[0.2222222222222222,\"#3e4989\"],[0.3333333333333333,\"#31688e\"],[0.4444444444444444,\"#26828e\"],[0.5555555555555556,\"#1f9e89\"],[0.6666666666666666,\"#35b779\"],[0.7777777777777778,\"#6ece58\"],[0.8888888888888888,\"#b5de2b\"],[1.0,\"#fde725\"]],\"opacity\":0.8,\"size\":4},\"mode\":\"markers\",\"x\":[2.8215511062196557,2.3418417166758267,1.3427492302599413,1.01356269708829,1.2596575110284054,2.3412682943800474,3.12961643332207,2.7682021375096393,1.7165871619982913,1.0755808088433316,1.3101428362899645,2.102172722501648,2.705576364951547,3.139064068915296,2.3190174702767807,1.164312098690956,1.1193459712992704,1.922060988397022,2.501227472337614,2.8325749209221143,1.8184565243145367,1.5906961800120438,0.9574083037685794,0.47088116608896097,0.7734415877285533,1.0538089766405336,1.7939109858243854,1.7251757252841557,0.9459223221533246,0.7576181371786697,0.737218351985908,1.1563813956087783,1.4234343033473795,1.4661153285162651,1.0285186650930402,0.6755149935637542,0.6457411470333476,1.1792237111373636,1.3933038059790515,1.4618128616337331,-1.2513587944272067,-0.9584739715313506,-0.7273534894088576,-0.32499238691194604,-0.6433267524516828,-0.9915683769015267,-1.3802935260006148,-1.3571259442122967,-0.7786636475602025,-0.20902719050373048,-0.5913977744683054,-0.7928497680455715,-1.004127183377825,-1.4267251306303315,-1.0408304556746695,-0.7590860460702338,-0.6160752974031225,-0.631323025973071,-1.0522567933835936,-1.0932340111977616,-2.9831239066480197,-2.7533988728856467,-1.3430629562856489,-0.9958283804228782,-1.2639557587322325,-2.4932756299403467,-2.726161442306158,-2.918365648804889,-1.8469180910965897,-0.880645069518954,-1.1905275184681023,-1.9624788039482914,-2.9058995397736207,-2.71435627790005,-2.2979290060083217,-1.3543378499699894,-1.2639847555480612,-1.8321030952406387,-2.668105354301921,-3.190513619461075,-1.7654778828134123,-1.6639039101665614,-0.9705859298235833,-0.4378741513414188,-0.9330180907549213,-1.6304065340084954,-1.8828388108320067,-1.9409207329937739,-0.9858130333803374,-0.6105768987411067,-0.5756567423738163,-1.232963650352733,-1.75951389125539,-1.66710494845766,-1.3642175483637304,-0.7584916641077242,-0.7641285013060993,-1.2753668544091952,-1.5141132197435836,-1.8944361397880785,0.7145088217364974,0.7146355362954946,0.46202962980755613,0.21033697998015,0.24259452848522678,0.4396536551858387,1.0266110129046302,0.6605479720056149,0.28826448608911404,0.504526519929009,0.2068758357212374,0.7482491584653126,0.6450324842528539,0.686487411143009,0.4218604255779183,0.46932892967663453,0.4020986827082545,0.5028444779939841,0.5116351090231863,1.0582489473490038,2.7600200760603952,2.4600823253194584,1.3801863319762209,1.0842499902180232,1.2493773110491933,2.3655703197162197,3.0169977743036265,2.8319365313855185,2.0208500632109847,1.1950552009692847,1.0761260013802987,2.069778987366043,2.9416390468320173,2.961472338897608,1.8257320705774873,1.2326151726980794,1.138147674042971,1.5625456441222034,2.4564084387173315,2.772670837777031,2.3990274189952774,1.9428084458391037,1.0043808236182687,0.55487111073434,1.013315968863965,1.7138267490454708,2.0411627210842767,2.1118660639033195,1.5891009878734978,0.6755797825651908,0.7330970871906828,1.7296356093725125,2.108113526881004,2.417795964635449,1.63328349660851,0.9451362359868699,0.9815657603128546,1.4621705894390096,2.007871364665893,2.216588255421309,-0.6508142357589892,-0.4521216867332344,-0.3194512833528441,-0.34185713061128764,-0.1812283911900981,-0.5677977372690892,-0.19269455775095984,-0.4768690087405348,-0.1998214232807008,-0.25379482401797626,-0.10305599567944812,-0.1318418649904578,-0.18458732096073754,-0.40730552404020254,-0.07058770258324709,0.029078819660177974,0.08532656002429714,-0.09790777168722953,-0.1663856863114292,-0.592225234011118,-2.82785256259163,-2.3581391876742708,-1.2624751846521667,-1.0403118949578187,-1.140584649393771,-2.2832196787325407,-2.4725562127149208,-2.5908586231113397,-1.4929260572707204,-0.9278092483289713,-1.2677162079669566,-1.9201748926527062,-2.6761220340364167,-2.499173440982781,-2.0185191031214225,-1.3763680443249815,-0.9674890928726092,-1.6956933761062039,-2.300647123360789,-2.5102046443389914,-2.3284887284696953,-2.1302415949447564,-1.3138414492788582,-0.972498335112217,-0.9768168286308982,-1.850694744739407,-2.525094058298868,-2.2989392682975107,-1.4976263741512053,-0.8778867315135095,-0.9939210090709609,-1.6104691815534518,-2.1787332861634905,-2.3757692203236,-1.6283068061589525,-1.0748536080612658,-0.8214437506468061,-1.4752482779926932,-2.160780697713225,-2.4953953091126366,0.24836428687601245,-0.14043079837480457,-0.20513768491127007,-0.19305174975819295,-0.12206027178989916,0.1836897253769834,-0.04771815606133439,-0.11674966454531538,0.037171689953465425,0.20217401904623752,-0.10519401246173486,0.14212277782296945,0.1954966235600048,0.017884592483297303,-0.17722330783430937,0.055631592206651266,0.09488570052046819,-0.021116237436582176,-0.08679669520882212,0.17422635119833516,2.414597469829053,2.3510451086550317,1.5652654831174244,0.893134886346941,1.2007266119236044,1.8662414119956756,2.406222808142932,2.353489918129772,1.7069113918507965,1.1160974631225906,0.8183924563098635,1.9354993697185738,2.535269968217815,2.310532468915205,1.8657887497320396,1.0886463533384818,0.8151921914141372,1.4431023597807648,2.4771118798020275,2.4112631029252256,2.8275162519760704,2.283933575592757,1.5134385943281385,0.9655134853737414,1.0553230887894927,2.037814899113019,2.536992124400422,2.415634603045908,1.5777728041927797,1.1447943409136647,0.900023168146634,1.7369822112795352,2.7313205270310488,2.4731868542184348,1.698712942968555,1.1202806023946195,0.7231212913191709,1.793654063826331,2.4693644113463127,2.548534411640112,0.2854474586810257,0.39736275154253975,0.3819881474461408,0.2020892695316011,0.040025391725260234,0.41301528912912683,0.5423407987966756,0.5826699837709154,0.27854689616516876,0.2699491807882439,-0.0795796432978792,0.3682079169275459,0.38982122923397095,0.39312025020852936,0.5056560218327757,0.2688099636679835,0.2690353224398036,0.44100446368020463,0.36394931956740617,0.4657236162584982,-2.0460786894743546,-1.810711982620064,-1.3819664285938114,-0.7909741682447576,-1.210942664219777,-1.9831119900468093,-2.082866089760204,-2.0241009102934298,-1.2173155882938456,-0.6821022370879462,-0.7453365724810453,-1.4261382046884274,-2.3692630372234085,-2.2775852419660723,-1.6252720529656852,-1.172255853175788,-0.8852239981688694,-1.3846795164171755,-1.8900799144335543,-2.0914119729354455,-2.836277013526408,-2.198751308104128,-1.4660345245737898,-0.9190820768534507,-1.2112284719622295,-2.150128923263228,-2.5894585427051617,-2.5013449662950653,-1.7884216675477203,-1.0557888747415087,-0.912424013711323,-2.0654325694552553,-2.6339499054270927,-2.7546739433258276,-2.0510860437907046,-1.2403343374062987,-0.9363385656117842,-1.6067773936834195,-2.378107557182526,-2.6690007344900986,-0.8331510851640227,-0.9241846889009369,-0.2391646445121806,-0.45245470428237833,-0.1986811549310037,-0.5317651896790367,-0.761100816809537,-0.8139083355608148,-0.7056801568469591,-0.15875903073029518,-0.25460242168290037,-0.709186426082072,-0.8931079187568713,-0.79962525082566,-0.6346789545808613,-0.3965243934381431,-0.2328987653966208,-0.2675477946253691,-0.6508969958553508,-1.0331341370980072,2.1583972088405323,1.8514945802508942,1.0355563402619266,0.4640060273552183,0.6508820459690079,1.6104287792820384,2.082144938136478,1.8210976470858264,1.464661216369079,0.7151165179167707,0.6671362849242046,1.5662985632176163,1.6836837870587427,1.8463721139400993,1.5311224129641061,0.6629142137421717,0.5003891723569932,1.1168480140069028,1.5093072169534119,2.023895413434807,3.133919420731278,2.4314855012108523,1.800854796624844,0.9935572056774848,1.5118801775628739,2.3327879259411812,2.7330790141056895,2.9144500102689594,1.623778767398929,0.9843939785695146,1.1411857438482975,2.1637587745282856,3.0174055302692953,3.07266580501024,1.8876449892771499,1.2856855669963325,0.960057132620665,1.7402175641389683,2.776991794720015,3.026547387891947],\"y\":[0.1283109994596125,-0.026190111021848983,0.002451692938476413,0.099828648303109,-0.05122721046004225,-0.042581675766688476,0.15822154632450613,-0.1273027715344438,0.21214871090511822,-0.038727998490674764,-0.15232965279514182,-0.1873931423194768,-0.10678251191089927,-0.18513424919933746,-0.03286096158531221,0.14288809080702725,-0.18623988918397144,-0.12662470568609024,0.1643249165586903,0.10425407710207146,2.463223947724984,2.03063371648416,1.365959220284868,1.0815479949356284,1.161143922700909,1.7644775719301053,2.579492263169212,2.2283982731936653,1.6541864370921537,0.78680310545826,1.1028719357744952,1.5726155535524258,2.211798402950568,2.348842784670329,1.9656713051622514,0.9169558199404466,0.8528791816179675,1.3063245768336844,1.9975342824270348,2.277954982108809,2.8767298598322752,2.366901251474664,1.6365423579418463,0.8283329210071932,1.127516701578055,2.117997059233088,2.5594808222253453,2.3260076688095306,1.4971517986805698,1.1440332889003058,1.0917635983461333,1.764427721090355,2.4099682353716365,2.625339165878883,1.7116288277830904,1.1701859040097906,0.768885137664858,1.60723708712369,2.2425725854951577,2.5976316856295334,0.20985577894749913,0.4095706172399067,0.1194072306054943,0.222372010856837,0.34509270611787624,0.34726987952631644,0.26586064408409377,0.584331892862235,0.025641420091391753,0.07903028141119017,0.25453725895226864,0.2899441246901295,0.16156878746585202,0.3765767216737667,0.20432180644682513,0.1304796024873772,-0.02516957990537602,0.13194483947588653,0.36126344350652967,0.3280915631546169,-2.2515663993521913,-1.9838992355687592,-1.2438932634116409,-0.5948547829671349,-0.8467439732142239,-1.76498190663643,-2.124387249335165,-2.1923260793410773,-1.1965182956648124,-0.883635127799303,-0.8608493074029886,-1.4197304763961895,-1.9166207284219037,-2.129582169473315,-1.4748370338251204,-1.128444452557576,-0.5906290301396475,-1.1780814514120161,-2.1140811706896154,-2.0465156726647105,-2.8710012378363112,-2.505129659803538,-1.4286835710546977,-1.025471276259608,-1.345389576303959,-2.2512890078694463,-2.8074462797277198,-2.518389897669041,-1.8637487126215546,-1.1077616079283312,-1.235894502182202,-1.9390272290034467,-2.8101535060221785,-2.5502889331765015,-2.180585805040751,-1.3176279371578659,-0.7555233793806726,-1.7347393891289422,-2.518628226598102,-2.664581077028816,-0.8049222235896772,-0.5172361913762602,-0.4668656792469469,-0.3187668409805707,-0.25343275733825354,-0.6444615374557101,-0.7974763780277951,-0.8666333898522723,-0.5078795444155645,-0.14870570813697348,-0.09433771393219698,-0.7297101350356983,-0.5573016284615646,-0.731474392348692,-0.8006697864091694,-0.11809235969450071,-0.37598605472967095,-0.3678821046876174,-0.619183961224613,-1.0831367239933845,2.0277222630033274,1.75174034444191,0.7992242004227841,0.8675497479541412,0.7080798369952367,1.4195885606616876,2.1029871084698115,2.027452527488172,0.9732288844201962,0.633722952152381,0.740157133020212,1.2062437519338083,1.7036228374943487,1.924368005300113,1.6225411701193067,0.7284807988119271,0.5656559660716642,1.1420676744869878,1.5833289520334646,2.060454545245301,2.9351289958947158,2.6826349282515007,1.7704518116973758,1.1717725498036722,1.1804864985232248,2.3163748115764364,3.0496008901424574,2.541688992305969,1.9489164419588991,1.0260596483906732,1.0563620054748022,1.7725332192182455,2.956385731364208,3.0032126033776487,2.0705333469730296,1.0494279114030325,1.256532291669513,1.9499277331924396,2.739430356713025,3.0918857002465385,1.0476498592669112,0.9655851734467713,0.604957086539349,0.482069217625659,0.5488800280786571,1.0432434461452211,1.225356815678574,1.3300326597934058,0.9162977458897181,0.4376681009805249,0.5685030589302538,0.778226225579808,1.059770626932281,1.280060880048162,0.9209925616487245,0.45199502382694245,0.3312723300437112,0.918845212581658,0.9645043027437575,1.4763616883318802,-1.6752797969891478,-1.2867708802871496,-1.0955909591190536,-0.74175053270255,-0.7113534624791433,-1.0724945958507057,-1.7537439372545016,-1.7042652973973187,-0.9159327061441201,-0.3852937971084516,-0.6020520636282051,-1.2193358830180707,-1.52943770609256,-1.8227330317879464,-1.2832216526384144,-0.6825013573481609,-0.6062720798412877,-0.7457929752192523,-1.6768217867721409,-1.834117468122637,-3.0252365122306992,-2.4684495549888394,-1.4192874643639595,-1.1248473839536375,-1.292140791150342,-2.530330507119535,-2.9245115721492,-2.636658954140046,-1.60722551705045,-1.1154220772702301,-1.2372751854806907,-2.133144689388281,-2.865712500269599,-2.6868223804609155,-2.11896257315419,-1.1684381191589341,-1.0484350991930969,-1.88280219750177,-2.894469174593454,-3.0358406672621774,-1.8212116885406948,-1.3439231095156998,-0.755798464595727,-0.6140168715622607,-0.9566185749530066,-1.1652661640061157,-1.5670514397644888,-1.473960536275894,-0.9586606889484519,-0.40624828354598425,-0.5853466170751966,-0.8597551971001758,-1.7052290674605135,-1.3478890186250458,-1.1470147829027662,-0.6958905235542401,-0.6683724627565153,-1.0955772712399061,-1.6266659866108213,-1.3960818065567369,1.4467899397378845,1.1103526110272628,0.5224422724584279,0.5663303336760009,0.4777266163449347,1.1609177327528766,1.0655665951099205,1.2104039528934418,0.9195318730158498,0.36475544509776725,0.369609135091917,0.6593396541338895,1.1826843600299242,1.0604994128437357,1.1156562134894137,0.30535285725259587,0.43704592921211755,0.5452256247267613,1.2166552567333095,1.3305467255249226,3.1775585503259127,2.761108879705154,1.7365444237093226,1.1991757817802478,1.3387532744405066,2.088592438573685,2.816123105945889,2.6591637065962086,1.8215140812680846,1.184591791701721,1.09310072626809,1.825626379858463,2.863602564190728,3.064579602844036,2.1798301711239514,1.2031648589950157,0.9635017792998342,1.5301574260835409,2.4632480917472352,2.8336202716744445,1.9688389945840248,1.446638287806297,1.100944557119538,0.7977298853937773,0.854110377440145,1.312347964175905,1.7561999916465976,1.9161443334435888,1.1554481281444928,0.5884671650086117,0.8000410218555267,1.177123842048995,2.09737835445401,2.073516509498722,1.3999187240969921,1.010611777499115,0.7632332123324606,1.026296696023223,1.8083095691542665,2.190539445263291,-0.6798561489026547,-0.6316534191804914,-0.4871115522441722,-0.15534755358566227,-0.5274910007030721,-0.45106987639978663,-0.7977519207070178,-0.9405484755395239,-0.7269526754283897,-0.2734068819025362,-0.2515172014073909,-0.7787179264984159,-0.8456547111380566,-0.9719604206743242,-0.7172556059511332,-0.4058336199148073,-0.17694773031534966,-0.4286813739040284,-0.7190663704128349,-0.8767449107481362,-2.763933695117516,-2.2801462495916196,-1.4080190988698633,-0.8295531450940743,-1.074520190604797,-2.406619891727144,-2.953264492519288,-2.6530686823632035,-1.9819380491731933,-0.9700158981690885,-1.028465230801498,-1.856072514556195,-2.8034373865582314,-3.010348573370124,-1.8793900192444182,-1.0852243127950825,-0.8441779721058642,-1.4964831185468679,-2.681890192232108,-2.9413179778276595,-2.1606114702543238,-2.0844180340081335,-1.2305352886906893,-0.6046834309725153,-1.046875896916882,-1.868813800421965,-2.2513513292517118,-2.1075828375574828,-1.6413927495371001,-0.9837122768987483,-1.0119852058433327,-1.7382865451655287,-2.3166044677904054,-2.1512854639372714,-1.4163399972495667,-0.8589484937440037,-0.9682533466056247,-1.239133770451798,-1.8788056474711645,-2.4610372298481247,0.2627490139106423,0.5712859594184784,0.10098746949903603,0.038941507513270246,0.11803801831192187,0.3710473008387732,0.497394852800402,0.5851383614738477,0.04820569779304262,0.2637508365654229,0.16911773124294993,0.061066741346722964,0.610672083017044,0.6264325740617047,0.13775062252255083,0.18504594986842401,-0.02540468746854721,0.47254381109383436,0.49776393786262985,0.22721301496602092],\"z\":[0.10303127675955603,0.782665808154797,0.7453218257713268,0.16300003167768687,-0.7476369046120996,-0.9719475831580976,-0.05196862682097453,0.4109829306214291,1.0545813460860805,0.4096164482036837,-0.7560148601444727,-1.2217870948954317,-0.3911334849431564,0.4846817131265665,0.7533258262365139,0.612185151665575,-0.3039074547600661,-1.0634386136547254,-0.8205641043496195,0.29417942598668767,0.22676218406422283,1.0582251977034898,0.8100961220979507,0.3366031343111895,-0.6532167447536901,-0.8591481076703427,-0.1464142348181851,0.7078430366516059,1.0868789797602876,0.6556887397329886,-0.4583353199214828,-1.1991750028167159,-0.45767630583648417,0.48066960162726147,1.0669211083534076,0.8845296346646132,-0.32136787954215623,-0.9623586556356075,-0.8366853183046865,-0.02468589090286008,0.01226934567820942,0.8324298621296129,0.9298319484028064,0.23380552718263284,-0.7857503878715496,-0.7943906970604846,-0.45799485848823845,0.7732864894678259,0.9732200678714625,0.2653981482145236,-0.4278174376539214,-0.7609170705584671,-0.6561642588469152,0.501778586677893,1.0248999671867465,0.5704475606944093,-0.4080061181488289,-0.7600089767780639,-0.7450318154102278,0.023263586137870246,-0.05153147457930707,0.652413090530183,0.8153215879111393,0.05425113441317539,-0.9709973889851153,-0.9701109646308509,-0.4947299620567567,0.5441059818197573,0.7555211661315533,0.28355152369652387,-0.743053808601823,-0.862218963510727,-0.656539570577078,0.2922765807505158,1.1787858535258346,0.6381380300305834,-0.49030770880744706,-0.8904014287373307,-0.961287971379533,-0.06697922275059756,0.1594986104067116,1.0306075438706206,0.8496129871382144,0.0965055573626735,-1.0021460039672205,-0.7840362007629672,-0.4222182766760954,0.648828660308766,1.0390879623144071,0.27166110315708963,-0.6677643534736244,-0.8109688585040578,-0.3718174498045367,0.5536110354594166,0.9266928996230377,0.6430073861368708,-0.17051377282956504,-0.8049411177629145,-0.604685834250424,0.1485730601096629,-0.07590341800940786,0.9146845118738108,0.8964460498504143,-0.027547735362003917,-0.6721863857790911,-1.0196188260295012,-0.3738153685544335,0.5735366324904365,1.0193680220698929,0.4195817792336516,-0.665461157014704,-0.8358802622761812,-0.5878754155063219,0.3445198789545325,1.1871875053366097,0.5077071327228619,-0.31825013346084635,-0.9294402693726629,-0.8865999304119637,0.07462218997201378,-0.1078494062200781,1.005028405107501,1.0062414687721821,0.011655333746110635,-0.9306589646726028,-1.1242583644205637,-0.38692278052644213,0.6910703197248875,0.853006472746852,0.578388820148248,-0.4250075076612929,-1.0801328041975615,-0.5939556825740889,0.5006337343416509,0.9472139010235963,0.8981358852531843,-0.078581801692786,-0.7965758479488151,-0.8915536748152697,0.1140781325967081,-0.0029815991917118145,0.6204886362641058,0.8408871153590411,0.2684026447609765,-0.8905761292594412,-0.7638878835259755,-0.44932564183818163,0.7372432276117014,1.2239140426991226,0.46273298508689914,-0.364247766060794,-1.1531006670583361,-0.4328937904606285,0.32279729133906954,0.8961353543696753,0.8348681298918574,-0.49019046768746943,-1.1808974439064472,-0.6195866526318321,0.16887016255420026,-0.12569928504862948,0.6120314194539496,0.8138429012206471,0.38487593911911644,-0.5791647719381198,-0.7639595896046913,-0.03958082960842285,0.5047945305194377,1.2260441662046615,0.2225514682665901,-0.3991463949659696,-1.1407372673694363,-0.745010712720935,0.2056102244278354,1.163482255587339,0.691042581814465,-0.3154459134617058,-1.1663532425212906,-0.7015831149205819,0.27541120870538105,0.18186048455542464,0.6362417187210307,0.863777592925581,0.2991706008085887,-0.5915873470034457,-0.958461341769393,-0.5176808316794312,0.8141376420021784,0.7896702174535288,0.5023656753582304,-0.5603202793632462,-0.7817950758343686,-0.651018990005974,0.3461459083582263,1.1459907179665656,0.7860319306137951,-0.21513547112881104,-0.9959140473602094,-0.8283765526035441,-0.09914509472269137,0.05817463645123544,1.038569570745864,0.9978313001624625,0.34687626787312553,-0.5139079658050859,-1.019213192270056,-0.46594879697729585,0.7457448300938716,0.8837183038444214,0.24169653233569538,-0.7746702689333107,-0.9376107061707493,-0.5506285251536462,0.5389640035073605,1.171975962182865,0.5291719868386925,-0.25798409128260674,-0.9320188784425055,-0.9916123076660025,0.32799308855235987,-0.15765192878291107,0.7214439550043804,0.6996628905913719,-0.10164004825778913,-0.5252545925898341,-1.1041041550654485,-0.45740892306387543,0.5489874673359955,1.1097260808719225,0.39951818919596305,-0.5499977147267109,-0.7874725612121638,-0.5749477330244457,0.5851214145280408,1.1176766376021665,0.7055171128650028,-0.24214112800192045,-1.2031272206380423,-0.7122378782370298,0.09379416342635857,0.017515762805339008,1.070713019587066,1.0150583965678823,0.13354308583344868,-0.6589005097343049,-1.1038600571215627,-0.41737597347995814,0.6144099306110526,0.8887278574480755,0.3229240622311034,-0.44652048990696164,-1.1869709887033666,-0.7167614325677495,0.6281105947257256,1.1110369338833677,0.40941380207488304,-0.2647457044330832,-0.8875531840960551,-0.6629576452728851,0.18308594066861197,0.12102312836653217,0.7371487414112887,0.6957125580574218,0.2585147443936573,-0.8573880652616239,-0.8544236236261877,-0.04727698743097403,0.4638196402832944,1.2065303865421706,0.3535604941691144,-0.6807878052910536,-1.223017243879265,-0.43586240299670204,0.5120749410491972,1.047534278398008,0.5940879421508214,-0.5114297944727864,-0.969767128851305,-0.6159253406483514,0.15446849999648612,-0.03982648173672532,0.5916157395819904,0.7259126015677886,0.37800343670214664,-0.7225268227636774,-1.1143811041078309,-0.4834115414053345,0.6071268983607471,1.082246514754424,0.38372974233034945,-0.7003594953586223,-0.9309946207902408,-0.4016229826812643,0.17468480711299217,1.1695011279513197,0.5716269524092286,-0.12324691948074534,-1.0588883207270716,-0.5618913240063518,-0.07808521899358814,-0.08818599978035552,1.0414154674141056,1.0652052641911909,0.1413880739107468,-0.8447038979668904,-1.1311578244440212,-0.26246134653323033,0.5369455843176988,1.232443182469315,0.49700161689271644,-0.6859262577174186,-0.9067130172894817,-0.6211853151498795,0.3491690739466725,1.1230270343334834,0.5665192708982727,-0.33378886409477065,-1.1962622197774315,-0.754741739270893,0.22658287466738022,0.12441904428371153,0.8915536681473323,1.0882406447252952,-0.05052833958444988,-0.894143357542368,-1.128042661923554,-0.35167759395740256,0.7619247006716618,1.0530565137021326,0.3048878872864698,-0.49493440037673464,-0.8676617412966449,-0.5729375124205286,0.6044305817606255,0.9732571306723132,0.5101090779151318,-0.3726430754162216,-0.7598359737832511,-0.5452681897144583,0.2621510962533846,0.13999169147211343,0.7198496300336015,0.6905266385620351,0.25944192080532613,-0.8653753134412521,-1.1382671735946794,-0.4049823721258294,0.6336819038764276,0.8327167869070964,0.2665947983925822,-0.3274840928660468,-0.9759480314925352,-0.31261431861727496,0.6415874085968342,0.8672562601119242,0.7364412129887283,-0.2939136221248432,-0.7589683728588918,-0.6967326141833792,0.0004861195566087384,0.019465148796008414,0.8793032529568404,1.0120465486554862,0.19428999733235255,-0.9868790554411535,-0.7457224332816833,-0.28124476683315225,0.7461088212798691,1.0706044703384965,0.5024613779234353,-0.612452743490118,-0.7664736030409247,-0.3270176594178483,0.6426274954362661,0.798412430598664,0.6846242752899656,-0.24083441400402494,-1.1961942479463668,-0.6090202465710415,0.22075809145452777,0.18375305519916613,0.6379005988781006,0.6812258152474575,0.20527150529716678,-0.7207371690265199,-1.0300457707918413,-0.23512075897802315,0.756573527058739,0.8293621782940044,0.5236164767360978,-0.6090625020805238,-1.0883336362441474,-0.38688836462240156,0.4503109240294176,1.06162274268078,0.40710186086411637,-0.29447553964068934,-0.767787130245573,-0.7722746213263759,0.26173824763528586],\"type\":\"scatter3d\"}],                        {\"template\":{\"data\":{\"histogram2dcontour\":[{\"type\":\"histogram2dcontour\",\"colorbar\":{\"outlinewidth\":0,\"ticks\":\"\"},\"colorscale\":[[0.0,\"#0d0887\"],[0.1111111111111111,\"#46039f\"],[0.2222222222222222,\"#7201a8\"],[0.3333333333333333,\"#9c179e\"],[0.4444444444444444,\"#bd3786\"],[0.5555555555555556,\"#d8576b\"],[0.6666666666666666,\"#ed7953\"],[0.7777777777777778,\"#fb9f3a\"],[0.8888888888888888,\"#fdca26\"],[1.0,\"#f0f921\"]]}],\"choropleth\":[{\"type\":\"choropleth\",\"colorbar\":{\"outlinewidth\":0,\"ticks\":\"\"}}],\"histogram2d\":[{\"type\":\"histogram2d\",\"colorbar\":{\"outlinewidth\":0,\"ticks\":\"\"},\"colorscale\":[[0.0,\"#0d0887\"],[0.1111111111111111,\"#46039f\"],[0.2222222222222222,\"#7201a8\"],[0.3333333333333333,\"#9c179e\"],[0.4444444444444444,\"#bd3786\"],[0.5555555555555556,\"#d8576b\"],[0.6666666666666666,\"#ed7953\"],[0.7777777777777778,\"#fb9f3a\"],[0.8888888888888888,\"#fdca26\"],[1.0,\"#f0f921\"]]}],\"heatmap\":[{\"type\":\"heatmap\",\"colorbar\":{\"outlinewidth\":0,\"ticks\":\"\"},\"colorscale\":[[0.0,\"#0d0887\"],[0.1111111111111111,\"#46039f\"],[0.2222222222222222,\"#7201a8\"],[0.3333333333333333,\"#9c179e\"],[0.4444444444444444,\"#bd3786\"],[0.5555555555555556,\"#d8576b\"],[0.6666666666666666,\"#ed7953\"],[0.7777777777777778,\"#fb9f3a\"],[0.8888888888888888,\"#fdca26\"],[1.0,\"#f0f921\"]]}],\"heatmapgl\":[{\"type\":\"heatmapgl\",\"colorbar\":{\"outlinewidth\":0,\"ticks\":\"\"},\"colorscale\":[[0.0,\"#0d0887\"],[0.1111111111111111,\"#46039f\"],[0.2222222222222222,\"#7201a8\"],[0.3333333333333333,\"#9c179e\"],[0.4444444444444444,\"#bd3786\"],[0.5555555555555556,\"#d8576b\"],[0.6666666666666666,\"#ed7953\"],[0.7777777777777778,\"#fb9f3a\"],[0.8888888888888888,\"#fdca26\"],[1.0,\"#f0f921\"]]}],\"contourcarpet\":[{\"type\":\"contourcarpet\",\"colorbar\":{\"outlinewidth\":0,\"ticks\":\"\"}}],\"contour\":[{\"type\":\"contour\",\"colorbar\":{\"outlinewidth\":0,\"ticks\":\"\"},\"colorscale\":[[0.0,\"#0d0887\"],[0.1111111111111111,\"#46039f\"],[0.2222222222222222,\"#7201a8\"],[0.3333333333333333,\"#9c179e\"],[0.4444444444444444,\"#bd3786\"],[0.5555555555555556,\"#d8576b\"],[0.6666666666666666,\"#ed7953\"],[0.7777777777777778,\"#fb9f3a\"],[0.8888888888888888,\"#fdca26\"],[1.0,\"#f0f921\"]]}],\"surface\":[{\"type\":\"surface\",\"colorbar\":{\"outlinewidth\":0,\"ticks\":\"\"},\"colorscale\":[[0.0,\"#0d0887\"],[0.1111111111111111,\"#46039f\"],[0.2222222222222222,\"#7201a8\"],[0.3333333333333333,\"#9c179e\"],[0.4444444444444444,\"#bd3786\"],[0.5555555555555556,\"#d8576b\"],[0.6666666666666666,\"#ed7953\"],[0.7777777777777778,\"#fb9f3a\"],[0.8888888888888888,\"#fdca26\"],[1.0,\"#f0f921\"]]}],\"mesh3d\":[{\"type\":\"mesh3d\",\"colorbar\":{\"outlinewidth\":0,\"ticks\":\"\"}}],\"scatter\":[{\"fillpattern\":{\"fillmode\":\"overlay\",\"size\":10,\"solidity\":0.2},\"type\":\"scatter\"}],\"parcoords\":[{\"type\":\"parcoords\",\"line\":{\"colorbar\":{\"outlinewidth\":0,\"ticks\":\"\"}}}],\"scatterpolargl\":[{\"type\":\"scatterpolargl\",\"marker\":{\"colorbar\":{\"outlinewidth\":0,\"ticks\":\"\"}}}],\"bar\":[{\"error_x\":{\"color\":\"#2a3f5f\"},\"error_y\":{\"color\":\"#2a3f5f\"},\"marker\":{\"line\":{\"color\":\"#E5ECF6\",\"width\":0.5},\"pattern\":{\"fillmode\":\"overlay\",\"size\":10,\"solidity\":0.2}},\"type\":\"bar\"}],\"scattergeo\":[{\"type\":\"scattergeo\",\"marker\":{\"colorbar\":{\"outlinewidth\":0,\"ticks\":\"\"}}}],\"scatterpolar\":[{\"type\":\"scatterpolar\",\"marker\":{\"colorbar\":{\"outlinewidth\":0,\"ticks\":\"\"}}}],\"histogram\":[{\"marker\":{\"pattern\":{\"fillmode\":\"overlay\",\"size\":10,\"solidity\":0.2}},\"type\":\"histogram\"}],\"scattergl\":[{\"type\":\"scattergl\",\"marker\":{\"colorbar\":{\"outlinewidth\":0,\"ticks\":\"\"}}}],\"scatter3d\":[{\"type\":\"scatter3d\",\"line\":{\"colorbar\":{\"outlinewidth\":0,\"ticks\":\"\"}},\"marker\":{\"colorbar\":{\"outlinewidth\":0,\"ticks\":\"\"}}}],\"scattermapbox\":[{\"type\":\"scattermapbox\",\"marker\":{\"colorbar\":{\"outlinewidth\":0,\"ticks\":\"\"}}}],\"scatterternary\":[{\"type\":\"scatterternary\",\"marker\":{\"colorbar\":{\"outlinewidth\":0,\"ticks\":\"\"}}}],\"scattercarpet\":[{\"type\":\"scattercarpet\",\"marker\":{\"colorbar\":{\"outlinewidth\":0,\"ticks\":\"\"}}}],\"carpet\":[{\"aaxis\":{\"endlinecolor\":\"#2a3f5f\",\"gridcolor\":\"white\",\"linecolor\":\"white\",\"minorgridcolor\":\"white\",\"startlinecolor\":\"#2a3f5f\"},\"baxis\":{\"endlinecolor\":\"#2a3f5f\",\"gridcolor\":\"white\",\"linecolor\":\"white\",\"minorgridcolor\":\"white\",\"startlinecolor\":\"#2a3f5f\"},\"type\":\"carpet\"}],\"table\":[{\"cells\":{\"fill\":{\"color\":\"#EBF0F8\"},\"line\":{\"color\":\"white\"}},\"header\":{\"fill\":{\"color\":\"#C8D4E3\"},\"line\":{\"color\":\"white\"}},\"type\":\"table\"}],\"barpolar\":[{\"marker\":{\"line\":{\"color\":\"#E5ECF6\",\"width\":0.5},\"pattern\":{\"fillmode\":\"overlay\",\"size\":10,\"solidity\":0.2}},\"type\":\"barpolar\"}],\"pie\":[{\"automargin\":true,\"type\":\"pie\"}]},\"layout\":{\"autotypenumbers\":\"strict\",\"colorway\":[\"#636efa\",\"#EF553B\",\"#00cc96\",\"#ab63fa\",\"#FFA15A\",\"#19d3f3\",\"#FF6692\",\"#B6E880\",\"#FF97FF\",\"#FECB52\"],\"font\":{\"color\":\"#2a3f5f\"},\"hovermode\":\"closest\",\"hoverlabel\":{\"align\":\"left\"},\"paper_bgcolor\":\"white\",\"plot_bgcolor\":\"#E5ECF6\",\"polar\":{\"bgcolor\":\"#E5ECF6\",\"angularaxis\":{\"gridcolor\":\"white\",\"linecolor\":\"white\",\"ticks\":\"\"},\"radialaxis\":{\"gridcolor\":\"white\",\"linecolor\":\"white\",\"ticks\":\"\"}},\"ternary\":{\"bgcolor\":\"#E5ECF6\",\"aaxis\":{\"gridcolor\":\"white\",\"linecolor\":\"white\",\"ticks\":\"\"},\"baxis\":{\"gridcolor\":\"white\",\"linecolor\":\"white\",\"ticks\":\"\"},\"caxis\":{\"gridcolor\":\"white\",\"linecolor\":\"white\",\"ticks\":\"\"}},\"coloraxis\":{\"colorbar\":{\"outlinewidth\":0,\"ticks\":\"\"}},\"colorscale\":{\"sequential\":[[0.0,\"#0d0887\"],[0.1111111111111111,\"#46039f\"],[0.2222222222222222,\"#7201a8\"],[0.3333333333333333,\"#9c179e\"],[0.4444444444444444,\"#bd3786\"],[0.5555555555555556,\"#d8576b\"],[0.6666666666666666,\"#ed7953\"],[0.7777777777777778,\"#fb9f3a\"],[0.8888888888888888,\"#fdca26\"],[1.0,\"#f0f921\"]],\"sequentialminus\":[[0.0,\"#0d0887\"],[0.1111111111111111,\"#46039f\"],[0.2222222222222222,\"#7201a8\"],[0.3333333333333333,\"#9c179e\"],[0.4444444444444444,\"#bd3786\"],[0.5555555555555556,\"#d8576b\"],[0.6666666666666666,\"#ed7953\"],[0.7777777777777778,\"#fb9f3a\"],[0.8888888888888888,\"#fdca26\"],[1.0,\"#f0f921\"]],\"diverging\":[[0,\"#8e0152\"],[0.1,\"#c51b7d\"],[0.2,\"#de77ae\"],[0.3,\"#f1b6da\"],[0.4,\"#fde0ef\"],[0.5,\"#f7f7f7\"],[0.6,\"#e6f5d0\"],[0.7,\"#b8e186\"],[0.8,\"#7fbc41\"],[0.9,\"#4d9221\"],[1,\"#276419\"]]},\"xaxis\":{\"gridcolor\":\"white\",\"linecolor\":\"white\",\"ticks\":\"\",\"title\":{\"standoff\":15},\"zerolinecolor\":\"white\",\"automargin\":true,\"zerolinewidth\":2},\"yaxis\":{\"gridcolor\":\"white\",\"linecolor\":\"white\",\"ticks\":\"\",\"title\":{\"standoff\":15},\"zerolinecolor\":\"white\",\"automargin\":true,\"zerolinewidth\":2},\"scene\":{\"xaxis\":{\"backgroundcolor\":\"#E5ECF6\",\"gridcolor\":\"white\",\"linecolor\":\"white\",\"showbackground\":true,\"ticks\":\"\",\"zerolinecolor\":\"white\",\"gridwidth\":2},\"yaxis\":{\"backgroundcolor\":\"#E5ECF6\",\"gridcolor\":\"white\",\"linecolor\":\"white\",\"showbackground\":true,\"ticks\":\"\",\"zerolinecolor\":\"white\",\"gridwidth\":2},\"zaxis\":{\"backgroundcolor\":\"#E5ECF6\",\"gridcolor\":\"white\",\"linecolor\":\"white\",\"showbackground\":true,\"ticks\":\"\",\"zerolinecolor\":\"white\",\"gridwidth\":2}},\"shapedefaults\":{\"line\":{\"color\":\"#2a3f5f\"}},\"annotationdefaults\":{\"arrowcolor\":\"#2a3f5f\",\"arrowhead\":0,\"arrowwidth\":1},\"geo\":{\"bgcolor\":\"white\",\"landcolor\":\"#E5ECF6\",\"subunitcolor\":\"white\",\"showland\":true,\"showlakes\":true,\"lakecolor\":\"white\"},\"title\":{\"x\":0.05},\"mapbox\":{\"style\":\"light\"}}},\"scene\":{\"xaxis\":{\"title\":{\"text\":\"0th\"},\"type\":\"linear\",\"showexponent\":\"all\",\"exponentformat\":\"e\"},\"yaxis\":{\"title\":{\"text\":\"1st\"},\"type\":\"linear\",\"showexponent\":\"all\",\"exponentformat\":\"e\"},\"zaxis\":{\"title\":{\"text\":\"2nd\"},\"type\":\"linear\",\"showexponent\":\"all\",\"exponentformat\":\"e\"}}},                        {\"responsive\": true}                    ).then(function(){\n",
              "                            \n",
              "var gd = document.getElementById('37c780e6-8933-42c9-9d99-a0502935573c');\n",
              "var x = new MutationObserver(function (mutations, observer) {{\n",
              "        var display = window.getComputedStyle(gd).display;\n",
              "        if (!display || display === 'none') {{\n",
              "            console.log([gd, 'removed!']);\n",
              "            Plotly.purge(gd);\n",
              "            observer.disconnect();\n",
              "        }}\n",
              "}});\n",
              "\n",
              "// Listen for the removal of the full notebook cells\n",
              "var notebookContainer = gd.closest('#notebook-container');\n",
              "if (notebookContainer) {{\n",
              "    x.observe(notebookContainer, {childList: true});\n",
              "}}\n",
              "\n",
              "// Listen for the clearing of the current output cell\n",
              "var outputEl = gd.closest('.output');\n",
              "if (outputEl) {{\n",
              "    x.observe(outputEl, {childList: true});\n",
              "}}\n",
              "\n",
              "                        })                };                            </script>        </div>\n",
              "</body>\n",
              "</html>"
            ]
          },
          "metadata": {},
          "output_type": "display_data"
        }
      ],
      "source": [
        "plot_point_cloud(point_clouds_basic[-1])"
      ]
    },
    {
      "cell_type": "code",
      "execution_count": null,
      "metadata": {
        "id": "jYVKCxGnVzNJ"
      },
      "outputs": [],
      "source": [
        "from gtda.point_clouds import ConsistentRescaling, ConsecutiveRescaling\n",
        "from gtda.graphs import TransitionGraph, KNeighborsGraph\n",
        "\n",
        "def adjust_density(point_cloud, density_factor):\n",
        "    \"\"\"Adjust point cloud density.\"\"\"\n",
        "    return point_cloud * density_factor\n",
        "\n",
        "def adjust_distance(point_cloud, *args):\n",
        "    \"\"\"Adjust point cloud distances.\"\"\"\n",
        "    cr = ConsistentRescaling()\n",
        "    point_cloud = cr.fit_transform(point_cloud, *args)\n",
        "    return point_cloud"
      ]
    },
    {
      "cell_type": "code",
      "execution_count": null,
      "metadata": {
        "id": "lKggrfyHVzKr"
      },
      "outputs": [],
      "source": [
        "from gtda.diagrams import PersistenceLandscape\n",
        "from gtda.homology import VietorisRipsPersistence\n",
        "from scipy.sparse.csgraph import connected_components\n",
        "import networkx as nx\n",
        "from gtda.plotting import plot_diagram, plot_betti_curves\n",
        "\n",
        "class VietorisPersistenceModule:\n",
        "  def __init__(self, max_edge_length = np.inf, homology_dim = (0, 1, 2, 3)):\n",
        "    self.point_clouds_basic, self.labels_basic = make_point_clouds(n_samples_per_shape=100, n_points=40, noise=0.5)\n",
        "    self.point_cloud = self.point_clouds_basic[0]\n",
        "    self.max_edge_length = max_edge_length\n",
        "    self.homology_dim = homology_dim\n",
        "    self.persistence_diagram = None\n",
        "    self.betti_numbers = None\n",
        "    self.adj_graph = None\n",
        "    self.rips_complex = None\n",
        "\n",
        "  def vietoris_rips_complex(self):\n",
        "    self.rips_complex = VietorisRipsPersistence(metric = 'euclidean',\n",
        "                               max_edge_length = self.max_edge_length,\n",
        "                               homology_dimensions = self.homology_dim)\n",
        "\n",
        "    self.persistence_diagram = self.rips_complex.fit_transform([self.point_cloud])[0]\n",
        "\n",
        "\n",
        "  def compute_betti(self):\n",
        "        landscape = PersistenceLandscape(n_layers=1, n_bins=100, n_jobs=6)\n",
        "        landscapes = landscape.fit_transform([self.persistence_diagram])\n",
        "\n",
        "        # Compute Betti numbers\n",
        "        self.betti_numbers = [\n",
        "            np.sum(landscape[i]) for landscape, i in zip(landscapes, self.homology_dim)\n",
        "        ]\n",
        "\n",
        "        # Plot Betti curves\n",
        "        fig = plot_betti_curves(\n",
        "            landscapes[0],\n",
        "            samplings=landscape.sampling_range_[0],\n",
        "            homology_dimensions=self.homology_dim\n",
        "        )\n",
        "        fig.show()\n",
        "\n",
        "  def plot_persistence_diagram(self):\n",
        "        # Plot the persistence diagram\n",
        "        fig, ax = plt.subplots(figsize=(8, 6))\n",
        "        plot_diagram(self.persistence_diagram, ax=ax, show=False)\n",
        "        plt.title(\"Persistence Diagram\")\n",
        "        plt.show()\n",
        "\n",
        "  def create_persistent_graph(self):\n",
        "      # Get the adjacency matrix from the persistence module (note: fit_transform returns the diagram)\n",
        "      adjacency_matrix = self.rips_complex.fit_transform(self.point_cloud.reshape(1, *self.point_cloud.shape))\n",
        "\n",
        "      # Convert the persistence diagram to a graph structure\n",
        "      self.adj_graph = nx.Graph()\n",
        "\n",
        "      # Here, we extract edges from the adjacency matrix that correspond to a certain filtration value\n",
        "      for i in range(len(self.point_cloud)):\n",
        "          for j in range(i+1, len(self.point_cloud)):\n",
        "              if adjacency_matrix[0][i][j] < self.max_edge_length:\n",
        "                  self.adj_graph.add_edge(i, j, weight=adjacency_matrix[0][i][j])\n",
        "\n",
        "      # Optionally, visualize the graph\n",
        "      pos = {i: self.point_cloud[i] for i in range(len(self.point_cloud))}\n",
        "      nx.draw(self.adj_graph, pos, with_labels=True, node_size=50)\n",
        "      plt.title(\"Graph from Vietoris-Rips Complex\")\n",
        "      plt.show()\n",
        "\n",
        "  def preprocess(self):\n",
        "    self.vietoris_rips_complex()\n",
        "    self.compute_betti()\n",
        "    self.plot_persistence_diagram()\n",
        "    self.create_persistent_graph()"
      ]
    },
    {
      "cell_type": "code",
      "execution_count": null,
      "metadata": {
        "colab": {
          "background_save": true
        },
        "id": "8NM1yQdwxLt5",
        "outputId": "80ac4461-85bd-4912-d658-ab67954def00"
      },
      "outputs": [
        {
          "ename": "AttributeError",
          "evalue": "'PersistenceLandscape' object has no attribute 'sampling_range_'",
          "output_type": "error",
          "traceback": [
            "\u001b[0;31m---------------------------------------------------------------------------\u001b[0m",
            "\u001b[0;31mAttributeError\u001b[0m                            Traceback (most recent call last)",
            "\u001b[0;32m<ipython-input-19-4d330ee65f55>\u001b[0m in \u001b[0;36m<cell line: 3>\u001b[0;34m()\u001b[0m\n\u001b[1;32m      1\u001b[0m \u001b[0;31m# Initialize and run the analysis\u001b[0m\u001b[0;34m\u001b[0m\u001b[0;34m\u001b[0m\u001b[0m\n\u001b[1;32m      2\u001b[0m \u001b[0mtopology_analyzer\u001b[0m \u001b[0;34m=\u001b[0m \u001b[0mVietorisPersistenceModule\u001b[0m\u001b[0;34m(\u001b[0m\u001b[0mmax_edge_length\u001b[0m\u001b[0;34m=\u001b[0m\u001b[0;36m1.5\u001b[0m\u001b[0;34m)\u001b[0m\u001b[0;34m\u001b[0m\u001b[0;34m\u001b[0m\u001b[0m\n\u001b[0;32m----> 3\u001b[0;31m \u001b[0mtopology_analyzer\u001b[0m\u001b[0;34m.\u001b[0m\u001b[0mpreprocess\u001b[0m\u001b[0;34m(\u001b[0m\u001b[0;34m)\u001b[0m\u001b[0;34m\u001b[0m\u001b[0;34m\u001b[0m\u001b[0m\n\u001b[0m\u001b[1;32m      4\u001b[0m \u001b[0;34m\u001b[0m\u001b[0m\n",
            "\u001b[0;32m<ipython-input-18-d182849a6507>\u001b[0m in \u001b[0;36mpreprocess\u001b[0;34m(self)\u001b[0m\n\u001b[1;32m     69\u001b[0m   \u001b[0;32mdef\u001b[0m \u001b[0mpreprocess\u001b[0m\u001b[0;34m(\u001b[0m\u001b[0mself\u001b[0m\u001b[0;34m)\u001b[0m\u001b[0;34m:\u001b[0m\u001b[0;34m\u001b[0m\u001b[0;34m\u001b[0m\u001b[0m\n\u001b[1;32m     70\u001b[0m     \u001b[0mself\u001b[0m\u001b[0;34m.\u001b[0m\u001b[0mvietoris_rips_complex\u001b[0m\u001b[0;34m(\u001b[0m\u001b[0;34m)\u001b[0m\u001b[0;34m\u001b[0m\u001b[0;34m\u001b[0m\u001b[0m\n\u001b[0;32m---> 71\u001b[0;31m     \u001b[0mself\u001b[0m\u001b[0;34m.\u001b[0m\u001b[0mcompute_betti\u001b[0m\u001b[0;34m(\u001b[0m\u001b[0;34m)\u001b[0m\u001b[0;34m\u001b[0m\u001b[0;34m\u001b[0m\u001b[0m\n\u001b[0m\u001b[1;32m     72\u001b[0m     \u001b[0mself\u001b[0m\u001b[0;34m.\u001b[0m\u001b[0mplot_persistence_diagram\u001b[0m\u001b[0;34m(\u001b[0m\u001b[0;34m)\u001b[0m\u001b[0;34m\u001b[0m\u001b[0;34m\u001b[0m\u001b[0m\n\u001b[1;32m     73\u001b[0m     \u001b[0mself\u001b[0m\u001b[0;34m.\u001b[0m\u001b[0mcreate_persistent_graph\u001b[0m\u001b[0;34m(\u001b[0m\u001b[0;34m)\u001b[0m\u001b[0;34m\u001b[0m\u001b[0;34m\u001b[0m\u001b[0m\n",
            "\u001b[0;32m<ipython-input-18-d182849a6507>\u001b[0m in \u001b[0;36mcompute_betti\u001b[0;34m(self)\u001b[0m\n\u001b[1;32m     36\u001b[0m         fig = plot_betti_curves(\n\u001b[1;32m     37\u001b[0m             \u001b[0mlandscapes\u001b[0m\u001b[0;34m[\u001b[0m\u001b[0;36m0\u001b[0m\u001b[0;34m]\u001b[0m\u001b[0;34m,\u001b[0m\u001b[0;34m\u001b[0m\u001b[0;34m\u001b[0m\u001b[0m\n\u001b[0;32m---> 38\u001b[0;31m             \u001b[0msamplings\u001b[0m\u001b[0;34m=\u001b[0m\u001b[0mlandscape\u001b[0m\u001b[0;34m.\u001b[0m\u001b[0msampling_range_\u001b[0m\u001b[0;34m[\u001b[0m\u001b[0;36m0\u001b[0m\u001b[0;34m]\u001b[0m\u001b[0;34m,\u001b[0m\u001b[0;34m\u001b[0m\u001b[0;34m\u001b[0m\u001b[0m\n\u001b[0m\u001b[1;32m     39\u001b[0m             \u001b[0mhomology_dimensions\u001b[0m\u001b[0;34m=\u001b[0m\u001b[0mself\u001b[0m\u001b[0;34m.\u001b[0m\u001b[0mhomology_dim\u001b[0m\u001b[0;34m\u001b[0m\u001b[0;34m\u001b[0m\u001b[0m\n\u001b[1;32m     40\u001b[0m         )\n",
            "\u001b[0;31mAttributeError\u001b[0m: 'PersistenceLandscape' object has no attribute 'sampling_range_'"
          ]
        }
      ],
      "source": [
        "\n",
        "# Initialize and run the analysis\n",
        "topology_analyzer = VietorisPersistenceModule(max_edge_length=1.5)\n",
        "topology_analyzer.preprocess()\n",
        "\n"
      ]
    },
    {
      "cell_type": "markdown",
      "metadata": {
        "id": "dLRlwBqPp0Nc"
      },
      "source": [
        "### Approaching Multiparameter Persistence - `RIVET`\n",
        "\n",
        "* Simply using a single parameter such as distance `d` will simply result in a k-Nearest Neighbor situation all over again, where the cost of applying persistent homology will become too significant and applying it would be impractical.\n",
        "\n",
        "* I would like to add another parameter that might be indicative of the presence of a global phenomenon in the vicinity of the particles present in a jet.\n",
        "\n",
        "* I have implemented a persistent module for 2 features here (distance and density for now).\n",
        "\n",
        "\n",
        "For this purpose, RIVET is a tool for topological data analysis, and more specifically, for the visualization and analysis of two-parameter persistent homology.\n",
        "\n",
        "A python API for RIVET is provided as `pyrivet`."
      ]
    },
    {
      "cell_type": "code",
      "execution_count": null,
      "metadata": {
        "colab": {
          "base_uri": "https://localhost:8080/"
        },
        "id": "4v1QO5XYpz5K",
        "outputId": "3b1b044d-5a1c-4a79-9a70-57683b4532f7"
      },
      "outputs": [
        {
          "name": "stdout",
          "output_type": "stream",
          "text": [
            "\u001b[31mERROR: Could not find a version that satisfies the requirement pyrivet (from versions: none)\u001b[0m\u001b[31m\n",
            "\u001b[0m\u001b[31mERROR: No matching distribution found for pyrivet\u001b[0m\u001b[31m\n",
            "\u001b[0m"
          ]
        }
      ],
      "source": [
        "! pip install pyrivet"
      ]
    },
    {
      "cell_type": "code",
      "execution_count": null,
      "metadata": {
        "id": "VLE-jt2Io2wS"
      },
      "outputs": [],
      "source": [
        "import numpy as np\n",
        "from ripser import ripser\n",
        "from persim import plot_diagrams\n",
        "import torch\n",
        "from collections import defaultdict\n",
        "import networkx as nx\n",
        "from torch_geometric.data import Data\n"
      ]
    },
    {
      "cell_type": "code",
      "execution_count": null,
      "metadata": {
        "id": "YaA56DQHo_ro"
      },
      "outputs": [],
      "source": [
        "class PersistentHomologyFeatureExtractor:\n",
        "    def __init__(self, data_entry):\n",
        "        self.data_entry = data_entry\n",
        "\n",
        "    def compute_persistence_diagram(self):\n",
        "        # Compute persistence diagram for the single data entry\n",
        "        diagram = ripser(self.data_entry.numpy(), maxdim=2)['dgms']\n",
        "        return diagram\n",
        "\n",
        "    def create_graph_from_diagram(self, diagram):\n",
        "        # Create a PyG Data object from the persistence diagram\n",
        "        # Here, we simplify the process by assuming nodes represent features\n",
        "        # and edges are determined by some criterion (e.g., proximity in filtration values)\n",
        "\n",
        "        # Example: Using the 0-dimension persistence diagram to create nodes\n",
        "        node_features = torch.tensor([feature for feature in diagram[0]], dtype=torch.float)\n",
        "        edge_indices = torch.tensor([[i, j] for i in range(len(diagram[0])) for j in range(i+1, len(diagram[0]))], dtype=torch.long)\n",
        "\n",
        "        # Create a PyG Data object\n",
        "        graph = Data(x=node_features, edge_index=edge_indices)\n",
        "\n",
        "        return graph\n",
        "\n",
        "    def preprocess(self):\n",
        "        persistence_diagram = self.compute_persistence_diagram()\n",
        "        graph_object = self.create_graph_from_diagram(persistence_diagram)\n",
        "        return graph_object\n"
      ]
    },
    {
      "cell_type": "code",
      "execution_count": null,
      "metadata": {
        "colab": {
          "base_uri": "https://localhost:8080/"
        },
        "id": "fqnNHMDtTIdB",
        "outputId": "c921fa86-54c4-4457-9e65-ef0ba4fa0e41"
      },
      "outputs": [
        {
          "name": "stdout",
          "output_type": "stream",
          "text": [
            "Graph Object:\n",
            "Node Features Shape: torch.Size([140, 2])\n",
            "Edge Indices Shape: torch.Size([9730, 2])\n",
            "\n"
          ]
        }
      ],
      "source": [
        "# Generate a random dataset with 1 entry having 140 points with 4 features\n",
        "data_entry = torch.tensor(np.random.rand(140, 4), dtype=torch.float)\n",
        "\n",
        "# Instantiate the PersistentHomologyFeatureExtractor with the generated data entry\n",
        "extractor = PersistentHomologyFeatureExtractor(data_entry)\n",
        "\n",
        "# Preprocess the data entry to compute persistent homology features and create a graph object\n",
        "graph_object = extractor.preprocess()\n",
        "\n",
        "# Print information about the generated graph object\n",
        "print(f\"Graph Object:\")\n",
        "print(f\"Node Features Shape: {graph_object.x.shape}\")\n",
        "print(f\"Edge Indices Shape: {graph_object.edge_index.shape}\\n\")"
      ]
    },
    {
      "cell_type": "code",
      "execution_count": null,
      "metadata": {
        "id": "Qv5kdeFxTZct"
      },
      "outputs": [],
      "source": []
    }
  ],
  "metadata": {
    "colab": {
      "provenance": []
    },
    "kernelspec": {
      "display_name": "Python 3",
      "name": "python3"
    },
    "language_info": {
      "name": "python"
    }
  },
  "nbformat": 4,
  "nbformat_minor": 0
}